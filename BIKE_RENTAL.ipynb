{
 "cells": [
  {
   "cell_type": "markdown",
   "id": "68665f49",
   "metadata": {
    "id": "68665f49"
   },
   "source": [
    "#  Importing the required libraries"
   ]
  },
  {
   "cell_type": "code",
   "execution_count": 1,
   "id": "7f19045c",
   "metadata": {
    "id": "7f19045c"
   },
   "outputs": [],
   "source": [
    "#importing basic libraries\n",
    "import pandas as pd\n",
    "import numpy as np\n",
    "import seaborn as sns\n",
    "import matplotlib.pyplot as plt\n",
    "%matplotlib inline\n",
    "import warnings\n",
    "warnings.filterwarnings('ignore')\n",
    "from sklearn.feature_selection import SelectKBest, chi2, RFE\n",
    "from sklearn.model_selection import train_test_split"
   ]
  },
  {
   "cell_type": "markdown",
   "id": "a72c172e",
   "metadata": {
    "id": "a72c172e"
   },
   "source": [
    "# Reading the dataset, making a copy and observation of dataset"
   ]
  },
  {
   "cell_type": "code",
   "execution_count": 2,
   "id": "6de322a0",
   "metadata": {
    "colab": {
     "base_uri": "https://localhost:8080/",
     "height": 423
    },
    "id": "6de322a0",
    "outputId": "b468fe3b-b406-4910-d9a1-fe3865efa578"
   },
   "outputs": [
    {
     "data": {
      "text/html": [
       "<div>\n",
       "<style scoped>\n",
       "    .dataframe tbody tr th:only-of-type {\n",
       "        vertical-align: middle;\n",
       "    }\n",
       "\n",
       "    .dataframe tbody tr th {\n",
       "        vertical-align: top;\n",
       "    }\n",
       "\n",
       "    .dataframe thead th {\n",
       "        text-align: right;\n",
       "    }\n",
       "</style>\n",
       "<table border=\"1\" class=\"dataframe\">\n",
       "  <thead>\n",
       "    <tr style=\"text-align: right;\">\n",
       "      <th></th>\n",
       "      <th>instant</th>\n",
       "      <th>dteday</th>\n",
       "      <th>season</th>\n",
       "      <th>yr</th>\n",
       "      <th>mnth</th>\n",
       "      <th>hr</th>\n",
       "      <th>holiday</th>\n",
       "      <th>weekday</th>\n",
       "      <th>workingday</th>\n",
       "      <th>weathersit</th>\n",
       "      <th>temp</th>\n",
       "      <th>atemp</th>\n",
       "      <th>hum</th>\n",
       "      <th>windspeed</th>\n",
       "      <th>casual</th>\n",
       "      <th>registered</th>\n",
       "      <th>cnt</th>\n",
       "    </tr>\n",
       "  </thead>\n",
       "  <tbody>\n",
       "    <tr>\n",
       "      <th>0</th>\n",
       "      <td>1</td>\n",
       "      <td>01-01-2011</td>\n",
       "      <td>springer</td>\n",
       "      <td>2011</td>\n",
       "      <td>1</td>\n",
       "      <td>0</td>\n",
       "      <td>No</td>\n",
       "      <td>6</td>\n",
       "      <td>No work</td>\n",
       "      <td>Clear</td>\n",
       "      <td>0.24</td>\n",
       "      <td>0.2879</td>\n",
       "      <td>0.81</td>\n",
       "      <td>0</td>\n",
       "      <td>3</td>\n",
       "      <td>13</td>\n",
       "      <td>16</td>\n",
       "    </tr>\n",
       "    <tr>\n",
       "      <th>1</th>\n",
       "      <td>2</td>\n",
       "      <td>01-01-2011</td>\n",
       "      <td>springer</td>\n",
       "      <td>2011</td>\n",
       "      <td>1</td>\n",
       "      <td>1</td>\n",
       "      <td>No</td>\n",
       "      <td>6</td>\n",
       "      <td>No work</td>\n",
       "      <td>Clear</td>\n",
       "      <td>0.22</td>\n",
       "      <td>0.2727</td>\n",
       "      <td>0.8</td>\n",
       "      <td>0</td>\n",
       "      <td>8</td>\n",
       "      <td>32</td>\n",
       "      <td>40</td>\n",
       "    </tr>\n",
       "    <tr>\n",
       "      <th>2</th>\n",
       "      <td>3</td>\n",
       "      <td>01-01-2011</td>\n",
       "      <td>springer</td>\n",
       "      <td>2011</td>\n",
       "      <td>1</td>\n",
       "      <td>2</td>\n",
       "      <td>No</td>\n",
       "      <td>6</td>\n",
       "      <td>No work</td>\n",
       "      <td>Clear</td>\n",
       "      <td>0.22</td>\n",
       "      <td>0.2727</td>\n",
       "      <td>?</td>\n",
       "      <td>0</td>\n",
       "      <td>5</td>\n",
       "      <td>27</td>\n",
       "      <td>32</td>\n",
       "    </tr>\n",
       "    <tr>\n",
       "      <th>3</th>\n",
       "      <td>4</td>\n",
       "      <td>01-01-2011</td>\n",
       "      <td>springer</td>\n",
       "      <td>2011</td>\n",
       "      <td>1</td>\n",
       "      <td>3</td>\n",
       "      <td>No</td>\n",
       "      <td>6</td>\n",
       "      <td>No work</td>\n",
       "      <td>Clear</td>\n",
       "      <td>0.24</td>\n",
       "      <td>0.2879</td>\n",
       "      <td>0.75</td>\n",
       "      <td>0</td>\n",
       "      <td>3</td>\n",
       "      <td>10</td>\n",
       "      <td>13</td>\n",
       "    </tr>\n",
       "    <tr>\n",
       "      <th>4</th>\n",
       "      <td>5</td>\n",
       "      <td>01-01-2011</td>\n",
       "      <td>springer</td>\n",
       "      <td>2011</td>\n",
       "      <td>1</td>\n",
       "      <td>4</td>\n",
       "      <td>No</td>\n",
       "      <td>6</td>\n",
       "      <td>No work</td>\n",
       "      <td>Clear</td>\n",
       "      <td>0.24</td>\n",
       "      <td>0.2879</td>\n",
       "      <td>0.75</td>\n",
       "      <td>0</td>\n",
       "      <td>0</td>\n",
       "      <td>1</td>\n",
       "      <td>1</td>\n",
       "    </tr>\n",
       "    <tr>\n",
       "      <th>...</th>\n",
       "      <td>...</td>\n",
       "      <td>...</td>\n",
       "      <td>...</td>\n",
       "      <td>...</td>\n",
       "      <td>...</td>\n",
       "      <td>...</td>\n",
       "      <td>...</td>\n",
       "      <td>...</td>\n",
       "      <td>...</td>\n",
       "      <td>...</td>\n",
       "      <td>...</td>\n",
       "      <td>...</td>\n",
       "      <td>...</td>\n",
       "      <td>...</td>\n",
       "      <td>...</td>\n",
       "      <td>...</td>\n",
       "      <td>...</td>\n",
       "    </tr>\n",
       "    <tr>\n",
       "      <th>17374</th>\n",
       "      <td>17375</td>\n",
       "      <td>31-12-2012</td>\n",
       "      <td>springer</td>\n",
       "      <td>2012</td>\n",
       "      <td>12</td>\n",
       "      <td>19</td>\n",
       "      <td>No</td>\n",
       "      <td>1</td>\n",
       "      <td>Working Day</td>\n",
       "      <td>Mist</td>\n",
       "      <td>0.26</td>\n",
       "      <td>0.2576</td>\n",
       "      <td>0.6</td>\n",
       "      <td>0.1642</td>\n",
       "      <td>11</td>\n",
       "      <td>108</td>\n",
       "      <td>119</td>\n",
       "    </tr>\n",
       "    <tr>\n",
       "      <th>17375</th>\n",
       "      <td>17376</td>\n",
       "      <td>31-12-2012</td>\n",
       "      <td>springer</td>\n",
       "      <td>2012</td>\n",
       "      <td>12</td>\n",
       "      <td>20</td>\n",
       "      <td>No</td>\n",
       "      <td>1</td>\n",
       "      <td>Working Day</td>\n",
       "      <td>Mist</td>\n",
       "      <td>0.26</td>\n",
       "      <td>0.2576</td>\n",
       "      <td>0.6</td>\n",
       "      <td>0.1642</td>\n",
       "      <td>8</td>\n",
       "      <td>81</td>\n",
       "      <td>89</td>\n",
       "    </tr>\n",
       "    <tr>\n",
       "      <th>17376</th>\n",
       "      <td>17377</td>\n",
       "      <td>31-12-2012</td>\n",
       "      <td>springer</td>\n",
       "      <td>2012</td>\n",
       "      <td>12</td>\n",
       "      <td>21</td>\n",
       "      <td>No</td>\n",
       "      <td>1</td>\n",
       "      <td>Working Day</td>\n",
       "      <td>Clear</td>\n",
       "      <td>?</td>\n",
       "      <td>0.2576</td>\n",
       "      <td>0.6</td>\n",
       "      <td>0.1642</td>\n",
       "      <td>7</td>\n",
       "      <td>83</td>\n",
       "      <td>90</td>\n",
       "    </tr>\n",
       "    <tr>\n",
       "      <th>17377</th>\n",
       "      <td>17378</td>\n",
       "      <td>31-12-2012</td>\n",
       "      <td>springer</td>\n",
       "      <td>2012</td>\n",
       "      <td>12</td>\n",
       "      <td>22</td>\n",
       "      <td>No</td>\n",
       "      <td>1</td>\n",
       "      <td>Working Day</td>\n",
       "      <td>Clear</td>\n",
       "      <td>0.26</td>\n",
       "      <td>0.2727</td>\n",
       "      <td>0.56</td>\n",
       "      <td>0.1343</td>\n",
       "      <td>13</td>\n",
       "      <td>48</td>\n",
       "      <td>61</td>\n",
       "    </tr>\n",
       "    <tr>\n",
       "      <th>17378</th>\n",
       "      <td>17379</td>\n",
       "      <td>31-12-2012</td>\n",
       "      <td>springer</td>\n",
       "      <td>2012</td>\n",
       "      <td>12</td>\n",
       "      <td>23</td>\n",
       "      <td>No</td>\n",
       "      <td>1</td>\n",
       "      <td>?</td>\n",
       "      <td>Clear</td>\n",
       "      <td>0.26</td>\n",
       "      <td>0.2727</td>\n",
       "      <td>0.65</td>\n",
       "      <td>0.1343</td>\n",
       "      <td>12</td>\n",
       "      <td>37</td>\n",
       "      <td>49</td>\n",
       "    </tr>\n",
       "  </tbody>\n",
       "</table>\n",
       "<p>17379 rows × 17 columns</p>\n",
       "</div>"
      ],
      "text/plain": [
       "       instant      dteday    season    yr mnth  hr holiday  weekday  \\\n",
       "0            1  01-01-2011  springer  2011    1   0      No        6   \n",
       "1            2  01-01-2011  springer  2011    1   1      No        6   \n",
       "2            3  01-01-2011  springer  2011    1   2      No        6   \n",
       "3            4  01-01-2011  springer  2011    1   3      No        6   \n",
       "4            5  01-01-2011  springer  2011    1   4      No        6   \n",
       "...        ...         ...       ...   ...  ...  ..     ...      ...   \n",
       "17374    17375  31-12-2012  springer  2012   12  19      No        1   \n",
       "17375    17376  31-12-2012  springer  2012   12  20      No        1   \n",
       "17376    17377  31-12-2012  springer  2012   12  21      No        1   \n",
       "17377    17378  31-12-2012  springer  2012   12  22      No        1   \n",
       "17378    17379  31-12-2012  springer  2012   12  23      No        1   \n",
       "\n",
       "        workingday weathersit  temp   atemp   hum windspeed casual registered  \\\n",
       "0          No work      Clear  0.24  0.2879  0.81         0      3         13   \n",
       "1          No work      Clear  0.22  0.2727   0.8         0      8         32   \n",
       "2          No work      Clear  0.22  0.2727     ?         0      5         27   \n",
       "3          No work      Clear  0.24  0.2879  0.75         0      3         10   \n",
       "4          No work      Clear  0.24  0.2879  0.75         0      0          1   \n",
       "...            ...        ...   ...     ...   ...       ...    ...        ...   \n",
       "17374  Working Day       Mist  0.26  0.2576   0.6    0.1642     11        108   \n",
       "17375  Working Day       Mist  0.26  0.2576   0.6    0.1642      8         81   \n",
       "17376  Working Day      Clear     ?  0.2576   0.6    0.1642      7         83   \n",
       "17377  Working Day      Clear  0.26  0.2727  0.56    0.1343     13         48   \n",
       "17378            ?      Clear  0.26  0.2727  0.65    0.1343     12         37   \n",
       "\n",
       "       cnt  \n",
       "0       16  \n",
       "1       40  \n",
       "2       32  \n",
       "3       13  \n",
       "4        1  \n",
       "...    ...  \n",
       "17374  119  \n",
       "17375   89  \n",
       "17376   90  \n",
       "17377   61  \n",
       "17378   49  \n",
       "\n",
       "[17379 rows x 17 columns]"
      ]
     },
     "execution_count": 2,
     "metadata": {},
     "output_type": "execute_result"
    }
   ],
   "source": [
    "#reading the data-set and making a copy and working on it\n",
    "bike_df=pd.read_csv(r'bike_rent.csv')\n",
    "bike_df"
   ]
  },
  {
   "cell_type": "code",
   "execution_count": 3,
   "id": "2045814f",
   "metadata": {
    "colab": {
     "base_uri": "https://localhost:8080/",
     "height": 363
    },
    "id": "2045814f",
    "outputId": "096d6ac7-712b-499c-897b-aa356c9b9fb5"
   },
   "outputs": [
    {
     "data": {
      "text/html": [
       "<div>\n",
       "<style scoped>\n",
       "    .dataframe tbody tr th:only-of-type {\n",
       "        vertical-align: middle;\n",
       "    }\n",
       "\n",
       "    .dataframe tbody tr th {\n",
       "        vertical-align: top;\n",
       "    }\n",
       "\n",
       "    .dataframe thead th {\n",
       "        text-align: right;\n",
       "    }\n",
       "</style>\n",
       "<table border=\"1\" class=\"dataframe\">\n",
       "  <thead>\n",
       "    <tr style=\"text-align: right;\">\n",
       "      <th></th>\n",
       "      <th>instant</th>\n",
       "      <th>dteday</th>\n",
       "      <th>season</th>\n",
       "      <th>yr</th>\n",
       "      <th>mnth</th>\n",
       "      <th>hr</th>\n",
       "      <th>holiday</th>\n",
       "      <th>weekday</th>\n",
       "      <th>workingday</th>\n",
       "      <th>weathersit</th>\n",
       "      <th>temp</th>\n",
       "      <th>atemp</th>\n",
       "      <th>hum</th>\n",
       "      <th>windspeed</th>\n",
       "      <th>casual</th>\n",
       "      <th>registered</th>\n",
       "      <th>cnt</th>\n",
       "    </tr>\n",
       "  </thead>\n",
       "  <tbody>\n",
       "    <tr>\n",
       "      <th>0</th>\n",
       "      <td>1</td>\n",
       "      <td>01-01-2011</td>\n",
       "      <td>springer</td>\n",
       "      <td>2011</td>\n",
       "      <td>1</td>\n",
       "      <td>0</td>\n",
       "      <td>No</td>\n",
       "      <td>6</td>\n",
       "      <td>No work</td>\n",
       "      <td>Clear</td>\n",
       "      <td>0.24</td>\n",
       "      <td>0.2879</td>\n",
       "      <td>0.81</td>\n",
       "      <td>0</td>\n",
       "      <td>3</td>\n",
       "      <td>13</td>\n",
       "      <td>16</td>\n",
       "    </tr>\n",
       "    <tr>\n",
       "      <th>1</th>\n",
       "      <td>2</td>\n",
       "      <td>01-01-2011</td>\n",
       "      <td>springer</td>\n",
       "      <td>2011</td>\n",
       "      <td>1</td>\n",
       "      <td>1</td>\n",
       "      <td>No</td>\n",
       "      <td>6</td>\n",
       "      <td>No work</td>\n",
       "      <td>Clear</td>\n",
       "      <td>0.22</td>\n",
       "      <td>0.2727</td>\n",
       "      <td>0.8</td>\n",
       "      <td>0</td>\n",
       "      <td>8</td>\n",
       "      <td>32</td>\n",
       "      <td>40</td>\n",
       "    </tr>\n",
       "    <tr>\n",
       "      <th>2</th>\n",
       "      <td>3</td>\n",
       "      <td>01-01-2011</td>\n",
       "      <td>springer</td>\n",
       "      <td>2011</td>\n",
       "      <td>1</td>\n",
       "      <td>2</td>\n",
       "      <td>No</td>\n",
       "      <td>6</td>\n",
       "      <td>No work</td>\n",
       "      <td>Clear</td>\n",
       "      <td>0.22</td>\n",
       "      <td>0.2727</td>\n",
       "      <td>?</td>\n",
       "      <td>0</td>\n",
       "      <td>5</td>\n",
       "      <td>27</td>\n",
       "      <td>32</td>\n",
       "    </tr>\n",
       "    <tr>\n",
       "      <th>3</th>\n",
       "      <td>4</td>\n",
       "      <td>01-01-2011</td>\n",
       "      <td>springer</td>\n",
       "      <td>2011</td>\n",
       "      <td>1</td>\n",
       "      <td>3</td>\n",
       "      <td>No</td>\n",
       "      <td>6</td>\n",
       "      <td>No work</td>\n",
       "      <td>Clear</td>\n",
       "      <td>0.24</td>\n",
       "      <td>0.2879</td>\n",
       "      <td>0.75</td>\n",
       "      <td>0</td>\n",
       "      <td>3</td>\n",
       "      <td>10</td>\n",
       "      <td>13</td>\n",
       "    </tr>\n",
       "    <tr>\n",
       "      <th>4</th>\n",
       "      <td>5</td>\n",
       "      <td>01-01-2011</td>\n",
       "      <td>springer</td>\n",
       "      <td>2011</td>\n",
       "      <td>1</td>\n",
       "      <td>4</td>\n",
       "      <td>No</td>\n",
       "      <td>6</td>\n",
       "      <td>No work</td>\n",
       "      <td>Clear</td>\n",
       "      <td>0.24</td>\n",
       "      <td>0.2879</td>\n",
       "      <td>0.75</td>\n",
       "      <td>0</td>\n",
       "      <td>0</td>\n",
       "      <td>1</td>\n",
       "      <td>1</td>\n",
       "    </tr>\n",
       "    <tr>\n",
       "      <th>5</th>\n",
       "      <td>6</td>\n",
       "      <td>01-01-2011</td>\n",
       "      <td>springer</td>\n",
       "      <td>2011</td>\n",
       "      <td>1</td>\n",
       "      <td>5</td>\n",
       "      <td>No</td>\n",
       "      <td>6</td>\n",
       "      <td>No work</td>\n",
       "      <td>Mist</td>\n",
       "      <td>0.24</td>\n",
       "      <td>0.2576</td>\n",
       "      <td>0.75</td>\n",
       "      <td>0.0896</td>\n",
       "      <td>0</td>\n",
       "      <td>1</td>\n",
       "      <td>1</td>\n",
       "    </tr>\n",
       "    <tr>\n",
       "      <th>6</th>\n",
       "      <td>7</td>\n",
       "      <td>01-01-2011</td>\n",
       "      <td>springer</td>\n",
       "      <td>2011</td>\n",
       "      <td>1</td>\n",
       "      <td>6</td>\n",
       "      <td>No</td>\n",
       "      <td>6</td>\n",
       "      <td>No work</td>\n",
       "      <td>?</td>\n",
       "      <td>0.22</td>\n",
       "      <td>0.2727</td>\n",
       "      <td>0.8</td>\n",
       "      <td>0</td>\n",
       "      <td>2</td>\n",
       "      <td>0</td>\n",
       "      <td>2</td>\n",
       "    </tr>\n",
       "    <tr>\n",
       "      <th>7</th>\n",
       "      <td>8</td>\n",
       "      <td>01-01-2011</td>\n",
       "      <td>springer</td>\n",
       "      <td>2011</td>\n",
       "      <td>1</td>\n",
       "      <td>7</td>\n",
       "      <td>No</td>\n",
       "      <td>6</td>\n",
       "      <td>No work</td>\n",
       "      <td>Clear</td>\n",
       "      <td>0.2</td>\n",
       "      <td>0.2576</td>\n",
       "      <td>0.86</td>\n",
       "      <td>0</td>\n",
       "      <td>1</td>\n",
       "      <td>2</td>\n",
       "      <td>3</td>\n",
       "    </tr>\n",
       "    <tr>\n",
       "      <th>8</th>\n",
       "      <td>9</td>\n",
       "      <td>01-01-2011</td>\n",
       "      <td>springer</td>\n",
       "      <td>2011</td>\n",
       "      <td>1</td>\n",
       "      <td>8</td>\n",
       "      <td>No</td>\n",
       "      <td>6</td>\n",
       "      <td>No work</td>\n",
       "      <td>Clear</td>\n",
       "      <td>0.24</td>\n",
       "      <td>0.2879</td>\n",
       "      <td>0.75</td>\n",
       "      <td>0</td>\n",
       "      <td>1</td>\n",
       "      <td>7</td>\n",
       "      <td>8</td>\n",
       "    </tr>\n",
       "    <tr>\n",
       "      <th>9</th>\n",
       "      <td>10</td>\n",
       "      <td>01-01-2011</td>\n",
       "      <td>springer</td>\n",
       "      <td>2011</td>\n",
       "      <td>1</td>\n",
       "      <td>9</td>\n",
       "      <td>No</td>\n",
       "      <td>6</td>\n",
       "      <td>No work</td>\n",
       "      <td>Clear</td>\n",
       "      <td>?</td>\n",
       "      <td>0.3485</td>\n",
       "      <td>0.76</td>\n",
       "      <td>0</td>\n",
       "      <td>8</td>\n",
       "      <td>6</td>\n",
       "      <td>14</td>\n",
       "    </tr>\n",
       "  </tbody>\n",
       "</table>\n",
       "</div>"
      ],
      "text/plain": [
       "   instant      dteday    season    yr mnth  hr holiday  weekday workingday  \\\n",
       "0        1  01-01-2011  springer  2011    1   0      No        6    No work   \n",
       "1        2  01-01-2011  springer  2011    1   1      No        6    No work   \n",
       "2        3  01-01-2011  springer  2011    1   2      No        6    No work   \n",
       "3        4  01-01-2011  springer  2011    1   3      No        6    No work   \n",
       "4        5  01-01-2011  springer  2011    1   4      No        6    No work   \n",
       "5        6  01-01-2011  springer  2011    1   5      No        6    No work   \n",
       "6        7  01-01-2011  springer  2011    1   6      No        6    No work   \n",
       "7        8  01-01-2011  springer  2011    1   7      No        6    No work   \n",
       "8        9  01-01-2011  springer  2011    1   8      No        6    No work   \n",
       "9       10  01-01-2011  springer  2011    1   9      No        6    No work   \n",
       "\n",
       "  weathersit  temp   atemp   hum windspeed casual registered  cnt  \n",
       "0      Clear  0.24  0.2879  0.81         0      3         13   16  \n",
       "1      Clear  0.22  0.2727   0.8         0      8         32   40  \n",
       "2      Clear  0.22  0.2727     ?         0      5         27   32  \n",
       "3      Clear  0.24  0.2879  0.75         0      3         10   13  \n",
       "4      Clear  0.24  0.2879  0.75         0      0          1    1  \n",
       "5       Mist  0.24  0.2576  0.75    0.0896      0          1    1  \n",
       "6          ?  0.22  0.2727   0.8         0      2          0    2  \n",
       "7      Clear   0.2  0.2576  0.86         0      1          2    3  \n",
       "8      Clear  0.24  0.2879  0.75         0      1          7    8  \n",
       "9      Clear     ?  0.3485  0.76         0      8          6   14  "
      ]
     },
     "execution_count": 3,
     "metadata": {},
     "output_type": "execute_result"
    }
   ],
   "source": [
    "# cehcnking the nature of dataset - initial 10\n",
    "bike_df.head(10)"
   ]
  },
  {
   "cell_type": "code",
   "execution_count": 4,
   "id": "ec8d3d86",
   "metadata": {
    "colab": {
     "base_uri": "https://localhost:8080/",
     "height": 363
    },
    "id": "ec8d3d86",
    "outputId": "89f83411-573f-4f22-9adc-488bd0301597"
   },
   "outputs": [
    {
     "data": {
      "text/html": [
       "<div>\n",
       "<style scoped>\n",
       "    .dataframe tbody tr th:only-of-type {\n",
       "        vertical-align: middle;\n",
       "    }\n",
       "\n",
       "    .dataframe tbody tr th {\n",
       "        vertical-align: top;\n",
       "    }\n",
       "\n",
       "    .dataframe thead th {\n",
       "        text-align: right;\n",
       "    }\n",
       "</style>\n",
       "<table border=\"1\" class=\"dataframe\">\n",
       "  <thead>\n",
       "    <tr style=\"text-align: right;\">\n",
       "      <th></th>\n",
       "      <th>instant</th>\n",
       "      <th>dteday</th>\n",
       "      <th>season</th>\n",
       "      <th>yr</th>\n",
       "      <th>mnth</th>\n",
       "      <th>hr</th>\n",
       "      <th>holiday</th>\n",
       "      <th>weekday</th>\n",
       "      <th>workingday</th>\n",
       "      <th>weathersit</th>\n",
       "      <th>temp</th>\n",
       "      <th>atemp</th>\n",
       "      <th>hum</th>\n",
       "      <th>windspeed</th>\n",
       "      <th>casual</th>\n",
       "      <th>registered</th>\n",
       "      <th>cnt</th>\n",
       "    </tr>\n",
       "  </thead>\n",
       "  <tbody>\n",
       "    <tr>\n",
       "      <th>17369</th>\n",
       "      <td>17370</td>\n",
       "      <td>31-12-2012</td>\n",
       "      <td>springer</td>\n",
       "      <td>2012</td>\n",
       "      <td>12</td>\n",
       "      <td>14</td>\n",
       "      <td>No</td>\n",
       "      <td>1</td>\n",
       "      <td>Working Day</td>\n",
       "      <td>Mist</td>\n",
       "      <td>0.28</td>\n",
       "      <td>0.2727</td>\n",
       "      <td>0.45</td>\n",
       "      <td>0.2239</td>\n",
       "      <td>62</td>\n",
       "      <td>185</td>\n",
       "      <td>247</td>\n",
       "    </tr>\n",
       "    <tr>\n",
       "      <th>17370</th>\n",
       "      <td>17371</td>\n",
       "      <td>31-12-2012</td>\n",
       "      <td>springer</td>\n",
       "      <td>2012</td>\n",
       "      <td>12</td>\n",
       "      <td>15</td>\n",
       "      <td>No</td>\n",
       "      <td>1</td>\n",
       "      <td>Working Day</td>\n",
       "      <td>Mist</td>\n",
       "      <td>0.28</td>\n",
       "      <td>0.2879</td>\n",
       "      <td>0.45</td>\n",
       "      <td>0.1343</td>\n",
       "      <td>69</td>\n",
       "      <td>246</td>\n",
       "      <td>315</td>\n",
       "    </tr>\n",
       "    <tr>\n",
       "      <th>17371</th>\n",
       "      <td>17372</td>\n",
       "      <td>31-12-2012</td>\n",
       "      <td>springer</td>\n",
       "      <td>2012</td>\n",
       "      <td>12</td>\n",
       "      <td>16</td>\n",
       "      <td>?</td>\n",
       "      <td>1</td>\n",
       "      <td>Working Day</td>\n",
       "      <td>Mist</td>\n",
       "      <td>0.26</td>\n",
       "      <td>?</td>\n",
       "      <td>0.48</td>\n",
       "      <td>0.194</td>\n",
       "      <td>30</td>\n",
       "      <td>184</td>\n",
       "      <td>214</td>\n",
       "    </tr>\n",
       "    <tr>\n",
       "      <th>17372</th>\n",
       "      <td>17373</td>\n",
       "      <td>31-12-2012</td>\n",
       "      <td>springer</td>\n",
       "      <td>2012</td>\n",
       "      <td>?</td>\n",
       "      <td>17</td>\n",
       "      <td>No</td>\n",
       "      <td>1</td>\n",
       "      <td>Working Day</td>\n",
       "      <td>Mist</td>\n",
       "      <td>0.26</td>\n",
       "      <td>0.2879</td>\n",
       "      <td>0.48</td>\n",
       "      <td>0.0896</td>\n",
       "      <td>14</td>\n",
       "      <td>150</td>\n",
       "      <td>164</td>\n",
       "    </tr>\n",
       "    <tr>\n",
       "      <th>17373</th>\n",
       "      <td>17374</td>\n",
       "      <td>31-12-2012</td>\n",
       "      <td>springer</td>\n",
       "      <td>2012</td>\n",
       "      <td>12</td>\n",
       "      <td>18</td>\n",
       "      <td>No</td>\n",
       "      <td>1</td>\n",
       "      <td>Working Day</td>\n",
       "      <td>Mist</td>\n",
       "      <td>0.26</td>\n",
       "      <td>0.2727</td>\n",
       "      <td>0.48</td>\n",
       "      <td>0.1343</td>\n",
       "      <td>10</td>\n",
       "      <td>112</td>\n",
       "      <td>122</td>\n",
       "    </tr>\n",
       "    <tr>\n",
       "      <th>17374</th>\n",
       "      <td>17375</td>\n",
       "      <td>31-12-2012</td>\n",
       "      <td>springer</td>\n",
       "      <td>2012</td>\n",
       "      <td>12</td>\n",
       "      <td>19</td>\n",
       "      <td>No</td>\n",
       "      <td>1</td>\n",
       "      <td>Working Day</td>\n",
       "      <td>Mist</td>\n",
       "      <td>0.26</td>\n",
       "      <td>0.2576</td>\n",
       "      <td>0.6</td>\n",
       "      <td>0.1642</td>\n",
       "      <td>11</td>\n",
       "      <td>108</td>\n",
       "      <td>119</td>\n",
       "    </tr>\n",
       "    <tr>\n",
       "      <th>17375</th>\n",
       "      <td>17376</td>\n",
       "      <td>31-12-2012</td>\n",
       "      <td>springer</td>\n",
       "      <td>2012</td>\n",
       "      <td>12</td>\n",
       "      <td>20</td>\n",
       "      <td>No</td>\n",
       "      <td>1</td>\n",
       "      <td>Working Day</td>\n",
       "      <td>Mist</td>\n",
       "      <td>0.26</td>\n",
       "      <td>0.2576</td>\n",
       "      <td>0.6</td>\n",
       "      <td>0.1642</td>\n",
       "      <td>8</td>\n",
       "      <td>81</td>\n",
       "      <td>89</td>\n",
       "    </tr>\n",
       "    <tr>\n",
       "      <th>17376</th>\n",
       "      <td>17377</td>\n",
       "      <td>31-12-2012</td>\n",
       "      <td>springer</td>\n",
       "      <td>2012</td>\n",
       "      <td>12</td>\n",
       "      <td>21</td>\n",
       "      <td>No</td>\n",
       "      <td>1</td>\n",
       "      <td>Working Day</td>\n",
       "      <td>Clear</td>\n",
       "      <td>?</td>\n",
       "      <td>0.2576</td>\n",
       "      <td>0.6</td>\n",
       "      <td>0.1642</td>\n",
       "      <td>7</td>\n",
       "      <td>83</td>\n",
       "      <td>90</td>\n",
       "    </tr>\n",
       "    <tr>\n",
       "      <th>17377</th>\n",
       "      <td>17378</td>\n",
       "      <td>31-12-2012</td>\n",
       "      <td>springer</td>\n",
       "      <td>2012</td>\n",
       "      <td>12</td>\n",
       "      <td>22</td>\n",
       "      <td>No</td>\n",
       "      <td>1</td>\n",
       "      <td>Working Day</td>\n",
       "      <td>Clear</td>\n",
       "      <td>0.26</td>\n",
       "      <td>0.2727</td>\n",
       "      <td>0.56</td>\n",
       "      <td>0.1343</td>\n",
       "      <td>13</td>\n",
       "      <td>48</td>\n",
       "      <td>61</td>\n",
       "    </tr>\n",
       "    <tr>\n",
       "      <th>17378</th>\n",
       "      <td>17379</td>\n",
       "      <td>31-12-2012</td>\n",
       "      <td>springer</td>\n",
       "      <td>2012</td>\n",
       "      <td>12</td>\n",
       "      <td>23</td>\n",
       "      <td>No</td>\n",
       "      <td>1</td>\n",
       "      <td>?</td>\n",
       "      <td>Clear</td>\n",
       "      <td>0.26</td>\n",
       "      <td>0.2727</td>\n",
       "      <td>0.65</td>\n",
       "      <td>0.1343</td>\n",
       "      <td>12</td>\n",
       "      <td>37</td>\n",
       "      <td>49</td>\n",
       "    </tr>\n",
       "  </tbody>\n",
       "</table>\n",
       "</div>"
      ],
      "text/plain": [
       "       instant      dteday    season    yr mnth  hr holiday  weekday  \\\n",
       "17369    17370  31-12-2012  springer  2012   12  14      No        1   \n",
       "17370    17371  31-12-2012  springer  2012   12  15      No        1   \n",
       "17371    17372  31-12-2012  springer  2012   12  16       ?        1   \n",
       "17372    17373  31-12-2012  springer  2012    ?  17      No        1   \n",
       "17373    17374  31-12-2012  springer  2012   12  18      No        1   \n",
       "17374    17375  31-12-2012  springer  2012   12  19      No        1   \n",
       "17375    17376  31-12-2012  springer  2012   12  20      No        1   \n",
       "17376    17377  31-12-2012  springer  2012   12  21      No        1   \n",
       "17377    17378  31-12-2012  springer  2012   12  22      No        1   \n",
       "17378    17379  31-12-2012  springer  2012   12  23      No        1   \n",
       "\n",
       "        workingday weathersit  temp   atemp   hum windspeed casual registered  \\\n",
       "17369  Working Day       Mist  0.28  0.2727  0.45    0.2239     62        185   \n",
       "17370  Working Day       Mist  0.28  0.2879  0.45    0.1343     69        246   \n",
       "17371  Working Day       Mist  0.26       ?  0.48     0.194     30        184   \n",
       "17372  Working Day       Mist  0.26  0.2879  0.48    0.0896     14        150   \n",
       "17373  Working Day       Mist  0.26  0.2727  0.48    0.1343     10        112   \n",
       "17374  Working Day       Mist  0.26  0.2576   0.6    0.1642     11        108   \n",
       "17375  Working Day       Mist  0.26  0.2576   0.6    0.1642      8         81   \n",
       "17376  Working Day      Clear     ?  0.2576   0.6    0.1642      7         83   \n",
       "17377  Working Day      Clear  0.26  0.2727  0.56    0.1343     13         48   \n",
       "17378            ?      Clear  0.26  0.2727  0.65    0.1343     12         37   \n",
       "\n",
       "       cnt  \n",
       "17369  247  \n",
       "17370  315  \n",
       "17371  214  \n",
       "17372  164  \n",
       "17373  122  \n",
       "17374  119  \n",
       "17375   89  \n",
       "17376   90  \n",
       "17377   61  \n",
       "17378   49  "
      ]
     },
     "execution_count": 4,
     "metadata": {},
     "output_type": "execute_result"
    }
   ],
   "source": [
    "# cehcnking the nature of dataset - last 10\n",
    "bike_df.tail(10)"
   ]
  },
  {
   "cell_type": "code",
   "execution_count": 5,
   "id": "7e4757e7",
   "metadata": {
    "colab": {
     "base_uri": "https://localhost:8080/"
    },
    "id": "7e4757e7",
    "outputId": "0d86351b-8313-4feb-903e-25339bbb8f2f"
   },
   "outputs": [
    {
     "data": {
      "text/plain": [
       "instant       17379\n",
       "dteday          731\n",
       "season            5\n",
       "yr                3\n",
       "mnth             13\n",
       "hr               24\n",
       "holiday           3\n",
       "weekday           7\n",
       "workingday        3\n",
       "weathersit        5\n",
       "temp             51\n",
       "atemp            66\n",
       "hum              90\n",
       "windspeed        31\n",
       "casual          323\n",
       "registered      777\n",
       "cnt             869\n",
       "dtype: int64"
      ]
     },
     "execution_count": 5,
     "metadata": {},
     "output_type": "execute_result"
    }
   ],
   "source": [
    "#information of uique values in each column\n",
    "bike_df.nunique()"
   ]
  },
  {
   "cell_type": "code",
   "execution_count": 6,
   "id": "556fe517",
   "metadata": {
    "colab": {
     "base_uri": "https://localhost:8080/"
    },
    "id": "556fe517",
    "outputId": "7c2e9ac5-a0c7-4e98-9bd8-ea56a1ec31b3"
   },
   "outputs": [
    {
     "name": "stdout",
     "output_type": "stream",
     "text": [
      "<class 'pandas.core.frame.DataFrame'>\n",
      "RangeIndex: 17379 entries, 0 to 17378\n",
      "Data columns (total 17 columns):\n",
      " #   Column      Non-Null Count  Dtype \n",
      "---  ------      --------------  ----- \n",
      " 0   instant     17379 non-null  int64 \n",
      " 1   dteday      17379 non-null  object\n",
      " 2   season      17379 non-null  object\n",
      " 3   yr          17379 non-null  object\n",
      " 4   mnth        17379 non-null  object\n",
      " 5   hr          17379 non-null  int64 \n",
      " 6   holiday     17379 non-null  object\n",
      " 7   weekday     17379 non-null  int64 \n",
      " 8   workingday  17379 non-null  object\n",
      " 9   weathersit  17379 non-null  object\n",
      " 10  temp        17379 non-null  object\n",
      " 11  atemp       17379 non-null  object\n",
      " 12  hum         17379 non-null  object\n",
      " 13  windspeed   17379 non-null  object\n",
      " 14  casual      17379 non-null  object\n",
      " 15  registered  17379 non-null  object\n",
      " 16  cnt         17379 non-null  int64 \n",
      "dtypes: int64(4), object(13)\n",
      "memory usage: 2.3+ MB\n"
     ]
    }
   ],
   "source": [
    "# information regrding the null values count, coulns and datatypes of each columns\n",
    "bike_df.info()"
   ]
  },
  {
   "cell_type": "code",
   "execution_count": 7,
   "id": "ae8d5cba",
   "metadata": {
    "colab": {
     "base_uri": "https://localhost:8080/"
    },
    "id": "ae8d5cba",
    "outputId": "409218a1-0f6e-46cc-b582-a0e478618d56"
   },
   "outputs": [
    {
     "data": {
      "text/plain": [
       "instant       0\n",
       "dteday        0\n",
       "season        0\n",
       "yr            0\n",
       "mnth          0\n",
       "hr            0\n",
       "holiday       0\n",
       "weekday       0\n",
       "workingday    0\n",
       "weathersit    0\n",
       "temp          0\n",
       "atemp         0\n",
       "hum           0\n",
       "windspeed     0\n",
       "casual        0\n",
       "registered    0\n",
       "cnt           0\n",
       "dtype: int64"
      ]
     },
     "execution_count": 7,
     "metadata": {},
     "output_type": "execute_result"
    }
   ],
   "source": [
    "# checking for the null values present in the datafeame\n",
    "bike_df.isnull().sum()"
   ]
  },
  {
   "cell_type": "markdown",
   "id": "c98e0cbd",
   "metadata": {
    "id": "c98e0cbd"
   },
   "source": [
    "There are no null values found, but through observations we can make out that there are null values in the form of \"?\".\n",
    "therefore, to consider \"?\" as missing data, we shall replace it with NaN"
   ]
  },
  {
   "cell_type": "code",
   "execution_count": 8,
   "id": "decf3ebe",
   "metadata": {
    "id": "decf3ebe"
   },
   "outputs": [],
   "source": [
    "bike_df.replace(\"?\", float(np.nan), inplace=True)"
   ]
  },
  {
   "cell_type": "code",
   "execution_count": 9,
   "id": "848e938b",
   "metadata": {
    "colab": {
     "base_uri": "https://localhost:8080/",
     "height": 206
    },
    "id": "848e938b",
    "outputId": "c460f89d-5d15-40f6-dcd8-f8b76d192a58"
   },
   "outputs": [
    {
     "data": {
      "text/html": [
       "<div>\n",
       "<style scoped>\n",
       "    .dataframe tbody tr th:only-of-type {\n",
       "        vertical-align: middle;\n",
       "    }\n",
       "\n",
       "    .dataframe tbody tr th {\n",
       "        vertical-align: top;\n",
       "    }\n",
       "\n",
       "    .dataframe thead th {\n",
       "        text-align: right;\n",
       "    }\n",
       "</style>\n",
       "<table border=\"1\" class=\"dataframe\">\n",
       "  <thead>\n",
       "    <tr style=\"text-align: right;\">\n",
       "      <th></th>\n",
       "      <th>instant</th>\n",
       "      <th>dteday</th>\n",
       "      <th>season</th>\n",
       "      <th>yr</th>\n",
       "      <th>mnth</th>\n",
       "      <th>hr</th>\n",
       "      <th>holiday</th>\n",
       "      <th>weekday</th>\n",
       "      <th>workingday</th>\n",
       "      <th>weathersit</th>\n",
       "      <th>temp</th>\n",
       "      <th>atemp</th>\n",
       "      <th>hum</th>\n",
       "      <th>windspeed</th>\n",
       "      <th>casual</th>\n",
       "      <th>registered</th>\n",
       "      <th>cnt</th>\n",
       "    </tr>\n",
       "  </thead>\n",
       "  <tbody>\n",
       "    <tr>\n",
       "      <th>0</th>\n",
       "      <td>1</td>\n",
       "      <td>01-01-2011</td>\n",
       "      <td>springer</td>\n",
       "      <td>2011</td>\n",
       "      <td>1</td>\n",
       "      <td>0</td>\n",
       "      <td>No</td>\n",
       "      <td>6</td>\n",
       "      <td>No work</td>\n",
       "      <td>Clear</td>\n",
       "      <td>0.24</td>\n",
       "      <td>0.2879</td>\n",
       "      <td>0.81</td>\n",
       "      <td>0</td>\n",
       "      <td>3</td>\n",
       "      <td>13</td>\n",
       "      <td>16</td>\n",
       "    </tr>\n",
       "    <tr>\n",
       "      <th>1</th>\n",
       "      <td>2</td>\n",
       "      <td>01-01-2011</td>\n",
       "      <td>springer</td>\n",
       "      <td>2011</td>\n",
       "      <td>1</td>\n",
       "      <td>1</td>\n",
       "      <td>No</td>\n",
       "      <td>6</td>\n",
       "      <td>No work</td>\n",
       "      <td>Clear</td>\n",
       "      <td>0.22</td>\n",
       "      <td>0.2727</td>\n",
       "      <td>0.8</td>\n",
       "      <td>0</td>\n",
       "      <td>8</td>\n",
       "      <td>32</td>\n",
       "      <td>40</td>\n",
       "    </tr>\n",
       "    <tr>\n",
       "      <th>2</th>\n",
       "      <td>3</td>\n",
       "      <td>01-01-2011</td>\n",
       "      <td>springer</td>\n",
       "      <td>2011</td>\n",
       "      <td>1</td>\n",
       "      <td>2</td>\n",
       "      <td>No</td>\n",
       "      <td>6</td>\n",
       "      <td>No work</td>\n",
       "      <td>Clear</td>\n",
       "      <td>0.22</td>\n",
       "      <td>0.2727</td>\n",
       "      <td>NaN</td>\n",
       "      <td>0</td>\n",
       "      <td>5</td>\n",
       "      <td>27</td>\n",
       "      <td>32</td>\n",
       "    </tr>\n",
       "    <tr>\n",
       "      <th>3</th>\n",
       "      <td>4</td>\n",
       "      <td>01-01-2011</td>\n",
       "      <td>springer</td>\n",
       "      <td>2011</td>\n",
       "      <td>1</td>\n",
       "      <td>3</td>\n",
       "      <td>No</td>\n",
       "      <td>6</td>\n",
       "      <td>No work</td>\n",
       "      <td>Clear</td>\n",
       "      <td>0.24</td>\n",
       "      <td>0.2879</td>\n",
       "      <td>0.75</td>\n",
       "      <td>0</td>\n",
       "      <td>3</td>\n",
       "      <td>10</td>\n",
       "      <td>13</td>\n",
       "    </tr>\n",
       "    <tr>\n",
       "      <th>4</th>\n",
       "      <td>5</td>\n",
       "      <td>01-01-2011</td>\n",
       "      <td>springer</td>\n",
       "      <td>2011</td>\n",
       "      <td>1</td>\n",
       "      <td>4</td>\n",
       "      <td>No</td>\n",
       "      <td>6</td>\n",
       "      <td>No work</td>\n",
       "      <td>Clear</td>\n",
       "      <td>0.24</td>\n",
       "      <td>0.2879</td>\n",
       "      <td>0.75</td>\n",
       "      <td>0</td>\n",
       "      <td>0</td>\n",
       "      <td>1</td>\n",
       "      <td>1</td>\n",
       "    </tr>\n",
       "  </tbody>\n",
       "</table>\n",
       "</div>"
      ],
      "text/plain": [
       "   instant      dteday    season    yr mnth  hr holiday  weekday workingday  \\\n",
       "0        1  01-01-2011  springer  2011    1   0      No        6    No work   \n",
       "1        2  01-01-2011  springer  2011    1   1      No        6    No work   \n",
       "2        3  01-01-2011  springer  2011    1   2      No        6    No work   \n",
       "3        4  01-01-2011  springer  2011    1   3      No        6    No work   \n",
       "4        5  01-01-2011  springer  2011    1   4      No        6    No work   \n",
       "\n",
       "  weathersit  temp   atemp   hum windspeed casual registered  cnt  \n",
       "0      Clear  0.24  0.2879  0.81         0      3         13   16  \n",
       "1      Clear  0.22  0.2727   0.8         0      8         32   40  \n",
       "2      Clear  0.22  0.2727   NaN         0      5         27   32  \n",
       "3      Clear  0.24  0.2879  0.75         0      3         10   13  \n",
       "4      Clear  0.24  0.2879  0.75         0      0          1    1  "
      ]
     },
     "execution_count": 9,
     "metadata": {},
     "output_type": "execute_result"
    }
   ],
   "source": [
    "bike_df.head(5)"
   ]
  },
  {
   "cell_type": "code",
   "execution_count": 10,
   "id": "f3666611",
   "metadata": {
    "colab": {
     "base_uri": "https://localhost:8080/"
    },
    "id": "f3666611",
    "outputId": "323c7b6a-e1bc-47cb-d43f-89fb3ebc6537"
   },
   "outputs": [
    {
     "data": {
      "text/plain": [
       "instant        0\n",
       "dteday         0\n",
       "season         6\n",
       "yr             1\n",
       "mnth           1\n",
       "hr             0\n",
       "holiday        1\n",
       "weekday        0\n",
       "workingday     5\n",
       "weathersit     4\n",
       "temp          11\n",
       "atemp          6\n",
       "hum            6\n",
       "windspeed      5\n",
       "casual         1\n",
       "registered     1\n",
       "cnt            0\n",
       "dtype: int64"
      ]
     },
     "execution_count": 10,
     "metadata": {},
     "output_type": "execute_result"
    }
   ],
   "source": [
    "bike_df.isnull().sum()"
   ]
  },
  {
   "cell_type": "code",
   "execution_count": 11,
   "id": "b817280a",
   "metadata": {
    "colab": {
     "base_uri": "https://localhost:8080/"
    },
    "id": "b817280a",
    "outputId": "7bf76591-df2a-483a-9c35-2922c59f0483"
   },
   "outputs": [
    {
     "data": {
      "text/plain": [
       "(17379, 17)"
      ]
     },
     "execution_count": 11,
     "metadata": {},
     "output_type": "execute_result"
    }
   ],
   "source": [
    "# checking the rows and columns of the dataset\n",
    "bike_df.shape"
   ]
  },
  {
   "cell_type": "code",
   "execution_count": 12,
   "id": "19bf6732",
   "metadata": {
    "id": "19bf6732"
   },
   "outputs": [],
   "source": [
    "# As the maximum NaN values is 11, it is very negligible percent of the whole dataset adn so we are dropping the NaN values \n",
    "bike_df1 = bike_df.dropna()"
   ]
  },
  {
   "cell_type": "code",
   "execution_count": 13,
   "id": "325ad9cc",
   "metadata": {
    "colab": {
     "base_uri": "https://localhost:8080/"
    },
    "id": "325ad9cc",
    "outputId": "db814ecc-3bb8-43f0-823d-c2f3c14abc01"
   },
   "outputs": [
    {
     "data": {
      "text/plain": [
       "(17339, 17)"
      ]
     },
     "execution_count": 13,
     "metadata": {},
     "output_type": "execute_result"
    }
   ],
   "source": [
    "bike_df1.shape"
   ]
  },
  {
   "cell_type": "code",
   "execution_count": 14,
   "id": "a61125ee",
   "metadata": {
    "colab": {
     "base_uri": "https://localhost:8080/"
    },
    "id": "a61125ee",
    "outputId": "c115ccee-ffca-438a-8757-46a181d577d1"
   },
   "outputs": [
    {
     "data": {
      "text/plain": [
       "Index(['instant', 'dteday', 'season', 'yr', 'mnth', 'hr', 'holiday', 'weekday',\n",
       "       'workingday', 'weathersit', 'temp', 'atemp', 'hum', 'windspeed',\n",
       "       'casual', 'registered', 'cnt'],\n",
       "      dtype='object')"
      ]
     },
     "execution_count": 14,
     "metadata": {},
     "output_type": "execute_result"
    }
   ],
   "source": [
    "bike_df1.columns"
   ]
  },
  {
   "cell_type": "code",
   "execution_count": 15,
   "id": "8571dac0",
   "metadata": {
    "colab": {
     "base_uri": "https://localhost:8080/"
    },
    "id": "8571dac0",
    "outputId": "6d686a01-cb5e-4636-e856-2721a2184d78"
   },
   "outputs": [
    {
     "data": {
      "text/plain": [
       "instant       0\n",
       "dteday        0\n",
       "season        0\n",
       "yr            0\n",
       "mnth          0\n",
       "hr            0\n",
       "holiday       0\n",
       "weekday       0\n",
       "workingday    0\n",
       "weathersit    0\n",
       "temp          0\n",
       "atemp         0\n",
       "hum           0\n",
       "windspeed     0\n",
       "casual        0\n",
       "registered    0\n",
       "cnt           0\n",
       "dtype: int64"
      ]
     },
     "execution_count": 15,
     "metadata": {},
     "output_type": "execute_result"
    }
   ],
   "source": [
    "bike_df1.isnull().sum()"
   ]
  },
  {
   "cell_type": "code",
   "execution_count": 16,
   "id": "d8c9e274",
   "metadata": {
    "colab": {
     "base_uri": "https://localhost:8080/"
    },
    "id": "d8c9e274",
    "outputId": "cfdcd2d8-2658-43cb-a90f-dd2c957b275e"
   },
   "outputs": [
    {
     "data": {
      "text/plain": [
       "instant        int64\n",
       "dteday        object\n",
       "season        object\n",
       "yr            object\n",
       "mnth          object\n",
       "hr             int64\n",
       "holiday       object\n",
       "weekday        int64\n",
       "workingday    object\n",
       "weathersit    object\n",
       "temp          object\n",
       "atemp         object\n",
       "hum           object\n",
       "windspeed     object\n",
       "casual        object\n",
       "registered    object\n",
       "cnt            int64\n",
       "dtype: object"
      ]
     },
     "execution_count": 16,
     "metadata": {},
     "output_type": "execute_result"
    }
   ],
   "source": [
    "bike_df1.dtypes"
   ]
  },
  {
   "cell_type": "code",
   "execution_count": null,
   "id": "ad595e90-3659-4a6c-bb9d-19e481c3e4fe",
   "metadata": {},
   "outputs": [],
   "source": []
  },
  {
   "cell_type": "code",
   "execution_count": 17,
   "id": "4bb04560",
   "metadata": {
    "id": "4bb04560",
    "scrolled": true
   },
   "outputs": [],
   "source": [
    "#typecasting\n",
    "#parsed_date = datetime.strptime(date_string,format_string)\n",
    "\n",
    "#bike_df1['dteday'] = pd.to_datetime(bike_df1['dteday'])"
   ]
  },
  {
   "cell_type": "markdown",
   "id": "94b23fd8-388c-453d-9d79-19404eaf2810",
   "metadata": {
    "id": "2d872cdc"
   },
   "source": [
    "# Typecasting\n",
    "bike_df1 = bike_df1.astype({\n",
    "    'season': 'category',\n",
    "    'yr':'category',\n",
    "    'mnth': 'int64',\n",
    "    'hr': 'int64',\n",
    "    'holiday': 'category',\n",
    "    'weekday': 'int64',\n",
    "    'workingday': 'category',\n",
    "    'weathersit': 'category',\n",
    "    'temp': 'float64',\n",
    "    'atemp': 'float64',\n",
    "    'hum': 'float64',\n",
    "    'windspeed': 'float64',\n",
    "    'casual': 'float64',\n",
    "    'registered': 'float64'\n",
    "})"
   ]
  },
  {
   "cell_type": "code",
   "execution_count": 18,
   "id": "e0a3e716",
   "metadata": {
    "colab": {
     "base_uri": "https://localhost:8080/"
    },
    "id": "e0a3e716",
    "outputId": "81ecd7e6-e832-4fa6-b452-c4e72e3912f5"
   },
   "outputs": [
    {
     "data": {
      "text/plain": [
       "instant        int64\n",
       "dteday        object\n",
       "season        object\n",
       "yr            object\n",
       "mnth          object\n",
       "hr             int64\n",
       "holiday       object\n",
       "weekday        int64\n",
       "workingday    object\n",
       "weathersit    object\n",
       "temp          object\n",
       "atemp         object\n",
       "hum           object\n",
       "windspeed     object\n",
       "casual        object\n",
       "registered    object\n",
       "cnt            int64\n",
       "dtype: object"
      ]
     },
     "execution_count": 18,
     "metadata": {},
     "output_type": "execute_result"
    }
   ],
   "source": [
    "bike_df1.dtypes"
   ]
  },
  {
   "cell_type": "code",
   "execution_count": 19,
   "id": "0404ef9a",
   "metadata": {
    "id": "0404ef9a",
    "scrolled": true
   },
   "outputs": [],
   "source": [
    "bike_df1.drop(['instant', 'dteday'], axis=1, inplace=True)"
   ]
  },
  {
   "cell_type": "markdown",
   "id": "5fc75011",
   "metadata": {
    "id": "5fc75011"
   },
   "source": [
    "# Basic visualisations"
   ]
  },
  {
   "cell_type": "code",
   "execution_count": 20,
   "id": "dff0f8e0",
   "metadata": {
    "id": "dff0f8e0"
   },
   "outputs": [
    {
     "data": {
      "image/png": "[encoded data removed]",
      "text/plain": [
       "<Figure size 640x480 with 1 Axes>"
      ]
     },
     "metadata": {},
     "output_type": "display_data"
    }
   ],
   "source": [
    "#season wise total bike rented\n",
    "plt.bar(bike_df1[\"season\"],bike_df1[\"cnt\"],)\n",
    "# plt.title(\"Seasn wise total bike rented\")\n",
    "plt.ylabel(' Total rented bikes ')\n",
    "plt.xlabel('Seasons')\n",
    "plt.show()"
   ]
  },
  {
   "cell_type": "markdown",
   "id": "94e81885",
   "metadata": {
    "id": "94e81885"
   },
   "source": [
    "# Total bikes rented are more in fall seson, and next comes the winter and summer."
   ]
  },
  {
   "cell_type": "code",
   "execution_count": 21,
   "id": "d9e506c6",
   "metadata": {
    "id": "d9e506c6"
   },
   "outputs": [
    {
     "data": {
      "image/png": "[encoded data removed]",
      "text/plain": [
       "<Figure size 640x480 with 1 Axes>"
      ]
     },
     "metadata": {},
     "output_type": "display_data"
    }
   ],
   "source": [
    "#year wise bike rented\n",
    "plt.bar(bike_df1[\"yr\"],bike_df1[\"cnt\"],)\n",
    "plt.title(\"Year wise total bike rented\")\n",
    "plt.ylabel(' Total rented bikes ')\n",
    "plt.xlabel('Year')\n",
    "plt.show()"
   ]
  },
  {
   "cell_type": "markdown",
   "id": "b0044f06",
   "metadata": {
    "id": "b0044f06"
   },
   "source": [
    "# Total bikes rented are more in Year 2012."
   ]
  },
  {
   "cell_type": "code",
   "execution_count": 22,
   "id": "a6106dff",
   "metadata": {
    "id": "a6106dff"
   },
   "outputs": [
    {
     "data": {
      "image/png": "[encoded data removed]",
      "text/plain": [
       "<Figure size 640x480 with 1 Axes>"
      ]
     },
     "metadata": {},
     "output_type": "display_data"
    }
   ],
   "source": [
    "#Total bikes rented in month wise\n",
    "plt.bar(bike_df1[\"mnth\"],bike_df1[\"cnt\"],)\n",
    "plt.title(\"Month wise total bike rented\")\n",
    "plt.ylabel(' Total rented bikes ')\n",
    "plt.xlabel('months')\n",
    "plt.show()"
   ]
  },
  {
   "cell_type": "markdown",
   "id": "4007314e",
   "metadata": {
    "id": "4007314e"
   },
   "source": [
    "# Bikes rented are at maximum in the month of March [3rd month] . and then comes the September, october and August."
   ]
  },
  {
   "cell_type": "code",
   "execution_count": 23,
   "id": "2d0b406d",
   "metadata": {
    "id": "2d0b406d"
   },
   "outputs": [
    {
     "data": {
      "image/png": "[encoded data removed]",
      "text/plain": [
       "<Figure size 640x480 with 1 Axes>"
      ]
     },
     "metadata": {},
     "output_type": "display_data"
    }
   ],
   "source": [
    "#total bikes rented with respected to holidays\n",
    "plt.bar(bike_df1[\"holiday\"],bike_df1[\"cnt\"],)\n",
    "plt.title(\"Month wise total bike rented\")\n",
    "plt.ylabel(' Total rented bikes ')\n",
    "plt.xlabel('holidays')\n",
    "plt.show()"
   ]
  },
  {
   "cell_type": "markdown",
   "id": "089b8709",
   "metadata": {
    "id": "089b8709"
   },
   "source": [
    "# Bikes rented are maximum on non-holiday days. "
   ]
  },
  {
   "cell_type": "code",
   "execution_count": 24,
   "id": "b3abe743",
   "metadata": {
    "id": "b3abe743"
   },
   "outputs": [
    {
     "data": {
      "image/png": "[encoded data removed]",
      "text/plain": [
       "<Figure size 640x480 with 1 Axes>"
      ]
     },
     "metadata": {},
     "output_type": "display_data"
    }
   ],
   "source": [
    "#total bikes rented with respected to weekdays\n",
    "plt.bar(bike_df1[\"weekday\"],bike_df1[\"cnt\"],)\n",
    "plt.title(\"Month wise total bike rented\")\n",
    "plt.ylabel(' Total rented bikes ')\n",
    "plt.xlabel('Weekdays')\n",
    "plt.show()"
   ]
  },
  {
   "cell_type": "markdown",
   "id": "c36d217f",
   "metadata": {
    "id": "c36d217f"
   },
   "source": [
    "# The bike rent was maximum on weekdays."
   ]
  },
  {
   "cell_type": "code",
   "execution_count": 25,
   "id": "e285160d",
   "metadata": {
    "id": "e285160d"
   },
   "outputs": [
    {
     "data": {
      "image/png": "[encoded data removed]",
      "text/plain": [
       "<Figure size 640x480 with 1 Axes>"
      ]
     },
     "metadata": {},
     "output_type": "display_data"
    }
   ],
   "source": [
    "#total bikes rented with respected to weather situations\n",
    "plt.bar(bike_df1[\"weathersit\"],bike_df1[\"cnt\"],)\n",
    "plt.title(\"Month wise total bike rented\")\n",
    "plt.ylabel(' Total rented bikes ')\n",
    "plt.xlabel('weather situations')\n",
    "plt.show()"
   ]
  },
  {
   "cell_type": "markdown",
   "id": "98240f67",
   "metadata": {
    "id": "98240f67"
   },
   "source": [
    "# The bike renting was at peak in Clear weather situations."
   ]
  },
  {
   "cell_type": "code",
   "execution_count": 26,
   "id": "7eadf5d2",
   "metadata": {
    "colab": {
     "base_uri": "https://localhost:8080/"
    },
    "id": "7eadf5d2",
    "outputId": "a6598127-1755-4a21-84e4-803a1e3f7d78",
    "scrolled": true
   },
   "outputs": [
    {
     "name": "stdout",
     "output_type": "stream",
     "text": [
      "['133210112724477152523125311724131684121819465473645555675843172098521330631538133414853665867146148102494920115212436921779837506679486820217911053483496622333871921095334746552558518616612782404118114214369521611642577855595474163158109664851191351152619012547485064436382178116925039341424151371528152056609095836968645226283533222412114111510194947796964777959444038191063031233175184923128475047437017415473372218103362797214127513155466045721309451322028187615165412578393252494448631391358254573219622343287219713736334981395576158141986440301414511817701561174047597359598715513489684834262518127512922315754748092108956960355126393319136113182971707595697877825647502219181615822159395055807472766785582924133322263261132988341331936317328919610746476567687894190156108745553278321163510024714056637786756283207184146124545628206211427662101595753676556619715111993524133271391163282637505960726493725954534439233120121543111725517792759364565044453120231771115157917198344352544350661781451018053322165219351032331344955857257631022082181331034049371457182969552635414336423526238210176553627169220416581559549302831364070147107846157262226201552243134516066568998888259524235283033221071331134575087711049510471574630251916651228377118211268466252854183155153108785334156322322521321144749534949456117216510569643415230113174815411959476174616695183175887162352911521239861841275055674743567317014592108533934107117268721712446617873768191195152102694145303617121089441017314642625049636481786453435237402010211821387489126135114130115976520212257261443119298922311549365954524698207170123827534196411323997236128444963486145791721511005346299177227439519811951405767566172157168878483423716731626991731213444655942507615915711093704733126342373212132395264896762111193165946146414827221374119283871849310390127103113603939423931342319823311358686949211012210695785032453127862123259624912246439993767110221819486653544191252143010321310847466568697477191198142986141201591153210322412255597280658296244202143108876131166411114411926716370718610855911172562111611311196840207561648108246154788212613111811716427519514610561886123211473331636377276811039487819167543829422514111791122248708912012210410288867139303943453011330261656465270677510176486264492933112740107101444348524967791881611141028076186412836942271304753567861547920720613510789603811742358104244133497185726758671681321128776504789315113470111425095777150911811508660564337252597196215565711001151361541251301301116460593829263020821826427992132169177163170121103867261675325714279024212779743631243540771277945787245734211461052041165548806561579223021411586554423542105391082431416565629075911122381931448668442210121173411021613549406567606265185161101694850231242107288322213856738774657510120617210278644040152015213310344869116121130118122130104115625860473441272793158182744698327482323118610942101318820012943416854566496206214134875334229402284211924714046527073567782209214141746844389412274412323813649448482616410217617612387521717021212364323175301112112010980512927302668326311042441436067969264649520013411170435334301514612219447678831079596101144114918664465638352317932823368693120124106155132143927354492923711382784217127574554515277802292101331065843177621113210925914756517074746693195207138795320178221330101227144496265816779121216211150111754818191151313471282821626966818587951082652601891121197043241294835112256192741041231181031111372372471321039163605035207221093741851061411271441431291401251166973453733222411163930438111110811513413613214398584639301111651130159511545475677656611223123219910679602271312111581323121599564868571791252652711421166357288713104311124717460537394717412324521814772223824113601841106120945561829066777822119712211067592417552293210022815053581081041037912720219012675644031252421748823426893931291451231091301018993673646312617151452783759851201001031119810910580502925161145284010423910947397169655311722722015610755401815431184612826815646637780666512426525217011975492789440744128247147516465846456361057967402721113451283487185126545273554961721531651187953442364743112691198162637280926181125245205120758464412928208547164565113126100819364859511077565341333126198042320447410410414714810911815612610193553729225410174315030813455669892769613028330822713376583012553253612414844251832516762113246248148878143231525411252130308157487011283808314230328219612684712915117316591522911556686114991111331612802651921668963452161011833109208168637951351324581385452514342312617151135131347719091123108118116118129129837465664548312411244738508110913614213314115315213784717745271632112591642861325559977785851623522902111221196638137712155517721150343883842854802622031279474473112122243367158634257835582691192842931601191008957189328126618231615268871101211018515333829022214712682402191033114213927916291951551331061121732672161689277645636281994391838272127264949622714326249132230292525135151436711201851871621912091821631751359770493724821416511562771326887124128951121653623212441361318135232534176316633113960538410388831623723772481481141094129522414622113741708687117135115113201398385309194134105793320103414731833461787399150122160166228402381272176159106863022722164717533117810483613733625863474839232117181114436111732559316419718620922624621522719913810311486664045205731142104171193220236223202197189174132715340371089841459183326147649414014699125198441425320195149835317594416802544171649813214613911511925145546328619916211671241554616792294131616610313511911912018945836622018812611153411271513792013671654574841031211172284064863472201671198137218462567222386185991081602341901752404333842301601451108873595313541127701211852012382702682822732452372371591191069177504315111092643961551411722091531531391361261318682688210973197816591933501317796147119133110220472450268174178974816145211410224843515791120169144122117225464485323262183995022641282146743526691051289410717338836726617413380492364432986255415164981051691421351202334674563052251411359943241561167420241516197123198182127171262470385253161130105937650479431232961642082152442402352302232161751791371249489785642218541558112153198243224240230263245205178132958641228274238722135114295991601381181482555394583392141289545121243228103301397176100108170152134152271532480365241173121723016432209329342118212412318515714113124024223434124520213469391614552710328339419111913616417014816323854046330522019214787461582324761413612159990170157120142256429359245130130107887864373047928728613320720418015922118819421617911544193334433721811143846981532022472612542532822551771531381078851218935209324536615675129137153117110181227398272167149105391864322249138325190731041151411231312175214262982531518649159532999260428176731742929413324148743128818974103492341233248623945317695111130139137125247487454345236180686333174442810228947619910413318617213116826948339425318015512410078643512642233971652012452712712692742672532531841641501261031008150239513276513017020925527519122120121323819317410986461853421192223359131721071391551301192233733853022711551065323982322102288403111901421291521261292254924903102411681155332289323113284495207105104178163121145238524451332284203140743413742259427045819494124141145145101233445404311267178157735536121152973229393190111126190158188258356414310210120114116104794735134316337511616617821321721018720116121215312811411581514949241031017627812118018618116815516716917714612812293876553288461019588115316818721718517920820217215716810780342097332698219372153727812511099133205428362246213165117462593641912126541717384861371251051272274342782482331611155931126432810628544219710612319316814214425548445132128621514189531512552498252471194107135208190174156286485488338236196145141698041101151760961692022492702682582242722022142061491391411219070482585111974111168214212213224256260264239249195111946118543424101281410162647212815299127233516500343277160137551522133011631143219086113141141112127253475479355301187126722920716211033294351686310613411611110019942639832322516813998401362419105283400148748210011893861703554142712141421318261187342894242423176881071671491211632394543672451971631451108967501891231501111711732152352372322322251901551671801441371071007457206592764107191236244264219218235158187156144101977420108632798302432189801061611741451272625295103482531781147518108132310734644117497103139176118136279484473335237206159914414914201103484451851081151781461281312655555273622732091449038134461810417236423210311716511411412725823029926917615412714211911551289225426196126138194156142181286467388275192159127141838037164618451031561762702581921962142752392632271271251059771595916101222365911115823625521419321625723821821714611011478193002325462092005867129129130139238484474369264167106502312527221072883682431201191491581081282735074693582541919753181957821110288396205104108144113113114224462447280230216123914426447229230141219488108130149103127217495483344277188139905320104818872474392031021471501781621472474723652932221831261399775512148173585139203209252231232235235247199254195140126130857370228913277813119621926824524622927824326522815813595642511328219024741815095951301271001262225145123402511901126525892720117320417208112118161156117127220509436255246164104582518935191043184991899511718818613814626849251034126419515197391967424119291511227971221831621171762604964723662852421649948167652797218453202109146180209225299342362324238185149173968458432181321359412416821323222621516319217019014914813712388975550252132253991331752061731501822191771078393929377777630134311194496114172210181173184216196196205191262211943624574199124839117784971301361121112024664262972251681245426114663011228839715830103114107113130218517486323257175156782914724301072794151547211213910712111921848949228622417015098412512442491302421211108104164175163102105161281225220158136111904843234112750114170177189221249215220245241246178185155154931129468195101738651071731772442282272192442172221831671628753255484211022893851677389108119941081824554152931941097044198766211023013821498586125104911111773804722952512091505937113452210328141816380110134119893311841841234028119413683322175622116311433195951101721381291382315174843332672031349757132268161082575141761071371771621601632654833942802511861521266851482076213890150208225276276232223242241243242188167136107918666266811307311017724424327226219518823624323417714811654308843159525532917078991261251061112204734783352321541045926641419126287381177112981271391111102164454503342291941207329774419111276404181761161219783102204405429323264209144732916454161112513581664779106819793167374343233199187113735117146517832322921778386959877101153271250210166152105848557481646193885102137154164167152137151127134137981158877776348205313298211216516916116220417018717417617014311175371783262210025735312454835064629616143747332424715311264206626241082883921629610212213910111421346547832924322213171269543181193134051898294132151107103228491463288239196143933126556261102784091898611315112611112421442342828522916514995452210942383228354151691189511411412919837431321915313412790737531256918398712518220623018319318917620920715513212312911480714826748268812816316319215219618420820621318720596715622127422497258347139706611511286771974454753502561781168218865101710532039818290961121531141202164934913692482011691033299472210125240817259931421071048712937844327080816652151453717902713691628911215214211411522046443530124518614110841161466169424741518311310315916416416025446636128222111913710210450392854224994155199211252265204232188881301147986967966634823541028661021781562092061922081191311551601331008243178308148724932014662891341081098621846046535221515612153259336259531335214189881251279510622845348830225818412753181010343011028936114872951661501161412065134893342531621229440178742310129236116696128164166103126241486497323232171123105531915952473247397178861081671791351902664233762842101531571006964581851519349013816319224692146208133172169170105127118957157492229420217611611718323324420317619622218412610425221893641487248326170871121161409513322547141334324015076772312355291153284171718311012014711712324852551632023217712157161264528101296452178911081631381381172385064702972431921428538114692797289393186929713915411511819636522611514113711794531981716912513681871081201681691421562614423371324689978810735594268183610613919222325322022821522220322518217014414698686951265810196215117718123921615751161179215201140939748221365102310627033115185851531581371272545095373502471801214522134453511133346119192124177164502423311339421297206173145612917417261052974361699512817518012714122248451934728918914054411122625101296461141105112323086104105284377241192158126694213168623100263387191891511731651641962934333702351831521261141125159223111526621281547365331928141416461151782183022903142952532572471501267348211555317992733841667310015917012716422652448731722716811956177826271153384591801091151721701511622955495163972591801217424135452510731644021710514319218214813826352549539325917413760331411772210333546717892141165169144135253567462364247160145111582811422073253434190106141178207208277299377305220158121114686557261849193365118168128160200176201188201179148120939677763843234532049102147163221174156192141172169150125103855866352212545305689137207212235212142192779212356404917720320721663491679078512421719527635126915010979561234141574833191766392192455137264219212933426211142313551721886557828511210511515110266518376652615871314541042761312766711081191612444513773161801541271138467462946643103168233252260239230263261275241214167171126107796660306241628691682142582982312222703032282292321611147433111104231083003821558913114712012915223851551537325816613462196026191163483991799312014413613914525150747234124120012059287478301383503961831151211561391051462415125033372211891406234205553011932136418696120148151134110193230222212223134108614319743308728338618910413921216817616529148042725618412413510680526121431733811451772482572251742061892182341861331211121008866682505102953941782012292141842332352302231911361107544237746261073123911838498138124143143208483484333204181104552111434211113061966426484781851582414454532942121771257020175653011231244418710313815114413914223047538425314917511280306872289429538916810114215115514214926251350138825019416699412914572099240297108282028272152518622023215812112610786615427731234102134203268266290226284282246243231166156143123136937939521323591001902302702472312343202752792421351138467231445425107315326161117116161139110157239509490347227164122642864532411623440017310197129122123170225480325294221179102822913933201111772701411091271591381451462415274593159167685933202852210626940219810312215717513418522752750034823419515064531893623982834252141221681951941731932984974493322021791291091064746176415305811210010213098147154165170117995853585743232753713245096188218243224195144162135158128717155191354661791241359141821001181029479202455384300191128794322823425109298372168107102160153156166273530456310236144106603672542911229244118710313818018915614724552553633422817313464341784524110287437188105115180158139157272505479305231161124814825595248423738620712615017421017920234646237124316714411911372514116771646891632172212552292142342302192241721241331049083633520714142682119210234243193228209247230228186134120104854230159419391022271611581832012192232542483343652671881481046316941520114333375195111921301381171392575344932852031581204723822622107244377183981025376704250235161102817440411494451651761991065376951421111282404322481871661151014529166681790137186164108766211411916926442636122117715612380886439186615401011572072212612232302112642642511771371151211028564523176739711512262182772692582302892532261811298888482515323281072993811809213116615612214223854046928818914188522374141910532647419875112159171137139246553512286204178115632396332867200185109116117868099180170132189140799455221141624873034091971059917113611713820343843027820714910683421912763178228386189106135193163131178242445354228155112899980502519471749881221491722111861772231902172241731111201148164604031121218569518520224925521621621722019614011275693126863519832743781668210915613814312524252742821211811476502663352495299383194102120165161134171233517453294208169148792891352192284438226105132155625259196414398306180140112722395331442128304155524445647695193291226200171119976040934525741993612101021281671851521712624113321881316932311918168111616191226443029381928373640494433473443261048156092125182229232209202213191162125747558302083351882216355197879714012811914124244239222615410977461883571890246402206114101153147118148252470421274191114916119822427912404522131081171571391321612315234482571771559954281254327962803941559810816215012013823446540923419814011680321687623642353872391151281531611471922374383391821711151097248572485220318011117116923520722720220723418515913699728165104234651124711341862162262092192102631851461301007740431462342597305397156951001581571151322554894072801871291024718813417963164551771041261751651291552504594322641691669545131054428983004371978913115613615313025745838729220115210561241051122211026641818810099149875857671682631921601308473561610681346116249186162150198179183187189286185182977978675245391373724871421702132242252442212241931501391011038878615848205318305597178187242234263221226187155121115766449226103519104311425204851061661531381422644644602742101769648155846261042984531741151161481321201552404224142592121451096626563313521302237732534952495011021617610894724528225533217216434318474931151091051061873792982101621138358281082522702113692071051221431461231511903613121831291088854493434114210388013016518321824522826218817117214911579807379734431104619521091832122342852502422251681231409094352513824520762293782221101121381211219395200184135751037229145427176311918514746281822313259161148106121868136148525166815431616470107151162200194169156138116676659472223194110531426864908891947166402413171914192212623393168708212714614015014513912710896766146283824209438135067841231721481581601381221181008672515139352284591136901311571932162002212291671301099475532710124434982703941918610716513712913224044439626020615210241181652521883304401973410172235601463463472441761169053238515211002764651869511214813199104199365369273184128824619986123922654622158695139137130144192409393219178154997032141013238419943223489142186188145175254391362252178102958165624157610246299173227280222251237230186193144110104977364545134923234811418020624726924622726620716115811665594221108272489274392178781061251531261322384303862951901669454251433720812274012004428506569438424928722310710882483094313184380643247292824252848483125613162164121271233418218109100148115121982013213062201701358458261210512062195378256115121146141163160226352308189140131114886655482036101168134161192235239242239183151144139114798861695447175610306888164166246224198219174150151986253363116942321632313782089110013815395124209352349232157119714216413420922213912239911514712011614419438137026215413410255228234268724345823013310313811913414323337737925916914599484515526249025244927410512614015012476124310363274209145116104602823342680226449235122135163125115141212352285203146951007159394722971720559517118821620420719519215315095998873636443391614311317512216820221020018420712612313094804731148334216818738916696105128127107135189362343234197112955021610141571261422245109116159163127139218417385218144139104401810422287522439322083535855405795226278200162114102542415106315631823332181281351801671361862263322771303315171071112428408817315296148156177177191166129917547324321201522533101027535262799770827453332419151216422311442012424139454851332314181515146752441713383951668380105696754494239222596233835791558547241619141744109126876652292410127494210620617184931081359610114422515913570633136241532210391042071559799118951121501552261921248860484426111062103192193175108126159154178236247188163967584786037312717905134272108152180205185164143101807363503627437859418516102752981431411471641477581855861532531116431416515389142161150141139144136113898363363213532512811683491455563706872681292412141521156633189311214591513101735740758269811232722801821218848321354452678212377220817811411210411317839337425517288705624633313692014362371021301681881521782594563912611631371238877563619977206411616025027629635631726823524817114911893103776257264222353102181201273266253241256197162104119815430124334218523940718895829377456446147158187127785451143242379219465184809312716396119225446372270190109104382665422272247488218849051577073112128969255294993313216882184972208410113017013215624847239931322916212160381213422171174408204101102140140119123215317294199130955860424432143452489781351501891821791771781291229095666271504038245571434801151441921841631731741311131018571582623181436513287589107158165202158175158174175134884639281221221357121906161738395120123205442451297169174856014101312988262474196881101551249812216333834725116411974361653411986204414204989310611810411818536434522918411790552415114319681834212429611711914410714416334029618614199713524222513121102240456262668911311399107856264565151494620124112954120115161175163149143100110806936583517421119361142671981395752324864108270275211161112643519763226882214792449312315017013815624347439131121115411180259314338724349521811110514714910712521744341531122516610163221665328882285142569210013615611214220939739430221618413986322311532472128206101117951551751531702414063632411531271087868573816810122882145164241244293239320276233201173115109977981684817564126198153198215238229242268201151145986957211096452680221481193829312911710013121042239929817915992521572212210427349823111012518117114215027751848630622316211861314631186720150526712411615317415916926150851431525421713375241472119732014362137299140124129150211437393311204144106613719642178821642925211414919117314816827545836825615512611674764338175342786141193224260244229244123545875737491665846591394416588313816022324120321726127517163476018238146321772229434269961041311241261462154174262841941438343226413159829352227810412016316912713325749450832720617010749219111209527649524510797124111100497314716315812212695572310241187526347322990951481441261202233874042871971691047539119521761225447265119134168170138164240381345246144108102645043249428197785143157196217205112134131105856243462021242614132182660831211331281021501488392785636282396412177119441319870851111291251452063993992562101459934146332208927651025690107162167111138251504398270178105725522543125923185082261081251521591281642224704593022071701045422561320832854891994269446230501102813452542111421087032161111167022251627510313317717113718025142936226615811492728138391541833921161571842412192442702182221761501238910162656245123151248731421441841971891681501351441018133473036121986942111981131632162462062352162262151641179053261173215832734592117781147123108137240411414299223147974619453229852925672411221491861751421612684864833052492201295730124413088317549228107128199188156171298561486349246205118713415452258026545222911913620115326831662422892271591511027656423772312209010715918721717818121116314312613795807884635037215522057761611842562672632812752411991307975685927642116892785142198892164159134150266503517318208181835010626220100313543225118155164174121149270497432291202178956130642291002421143310969725487162246181102953953301012635181072965792811221492041871741923235514983172421901237645184322488258533299118154194191176734912315416293996919214434202161446871371812522522792543002792501911211301159467606621115521541041611922562562262522312141641208070532415331117892534151867486122109115110180376363220171116762986413259927048722211311012914811614222842544227818414310151124423181043325542521271281751791371652545545093452421771495835175322810532657328211915622419815516130554554539528220614188512297127832624842671451701741751291882924984402321561331007768503016371136961271762182412682622742752502301591019481776257511558156870147209264288289286301299256203129110814020952315862595472609811116217614515925555762337923718311653211412124108292571324115155197180160196312614638429306200146793425234251203486283251501552121971631972786426474022862411597246857324113367602285130151206211177187331634648353270207137854922433309626553427713616722220814688111235377273204144132104875732242329571552173033593654003383223183573392621821691531518088411586925711132122392813463033143123082942341391297939191572331118329563276128145211194200189320615681463296190131452498362094167488284119156205207182177332642665480299239156802922874351393385022551241541712221511752876166274962982041568832165763212633259827711016622421516120230065665446936030816411765322063291103186153051501872722562242813706935934733282202181251111085522642445113153197175122134160172128681101058088718862652910761325689217221723825729128233927328926119612492562310614361103556252459813121622215915724559959441720917580469464316962775672591181411861651471582675425773772662001275929834038111348639298140168218213169152170532580415324233151813818648301143536282991241662282231751983216205984213012141357749216712681280555292137153208198173207292513492353192190130107806555214516391261612052793583733113302923052391911561071161005949612191088558817322827125827427827827532327923616610161531153222104294553265119128181184141192291601543428281214106603211531259832757735414216723022519120734063466146032521013366231153127120354653316991522101811761823046456464193332551511123391151281183396102901581592102021441713186776184232792091291244928553238023148931815717922423825031935248338029719113612492856025214218409417317624427028825230526126829024313515910686645025187821256510818620925925424922624422615918714677854129124333010832059523611312718617315217331056558638625515110261239222241003686703031321611842021491572966566264282481911184822922261033035812821271421471471011522565275463562131541305222743121942946042711031741991481501692995965473832541741438641285841984283539294133158218246223237350621564352242153181163856053269519561362062673574043703723473293092842962091671481519489542710611306415423530136038334635133036129526520515397652621956341233675492381491361961841831942666015894613272321799733536629136443631329165174179187198217320673670464358260144723513867341284085512451161059551438819944247834225216515356201143430116391651270143183213186183196324663677516352240219124592218932410535066832917019026027623826242969755841028925217615611164692591215514921629934837835833136137230928345348290738563493376622437157705647503832253834341113176131314432064712558891117981021019321936928718614571491363232211738759930212915718818916617630861958044926921314969231763624103376634288138177220193176182327664649501358212170944222105217122222358189125135180178132165281565589407314222163106613218261911530557529217218624421220622333561356037924018513410599604923231845134169231262276269293260244224731108172663736373614466208113325328336136937232434733432324719813985673615542191213435792391161111801991621763036176114202811951235028217271724161538331144179228208167186313616662429299251190794379623111734464028914714521017918920431365977046129621814677751513422012837660827913216723721717122032561764246736825721710070331114424127347584262154181125207159240358547564388255186182205111795121914337915522328435433030724130031029827825420918315011411184641971014319112822127035136829234236331633226620314811380218532211343676082891281491891971801863206676024632772101479228374520158442605258111157203166639433564064139926220213453271112527121401594285113156222216175191289629349964830624731933223130393603299112179207228186192334648661469315211196112473216862312834557928814120325926321829939767751843027722519014211179462068235715624827936535336635832133734338227317415621213479726026781542124143222278342347324309339287260232163121895714612325627215510553671321431281569120428329417814511864251435482291401327144186220204145205300603665455233987458271414533415042661731414921227127322122237676974949939833025310749168313341494496052891622022762412022333447197344513632542091375733981133168475696304181225252297242260417688570392264209194133118845623811386716221327535136637236931631134739122919717823416812810262401472155120184258323390363307256339340328260191182101542811925147614625817271821241351351582694684783912922101167926161057171293155702871481501781951491913167167093203192331579128910532915445268125813915120620118119221624029633626722113683492115352914639365926713816021323318022232967863441634323721013163341666281083525512881631932372472633604475293912932701931471329864552221025441031922563122932742572392432272162141521511181148961452575143082140215251269228230245243247252212224795065444528124514439314217522229228422727927824725124720318111060331382532145431588231116147181176158185320674632457168685340324456401394696422821381552202362082213527567465063742631911214822888321714896752641551532302161932093847427004873913182211147634134541136369675274155193238240199213186202100413873226781613818111131771802433483574184003884053693383413692602201761851421006734121116291102302773124084214114084363863433372301801658238101056331355046432441201682201891862153757337195543902251277828188543517754068028511816220220119421838276467944537125317193462178737165531637268148161235230191225345652688486349260221110501712563416550666130015417027425019823438977870353740228319313559251789281314096633351871992802872452994126795764602912562301631528968286156361202241298351335349354337315257276232238211151161125845623910274112217526531532928831431633533732626025017011780331512473613647861325995143198185193187340715726507333218142722611694281302875982549657764848942096255964443502331887827214793818848067229813418224120322221632078264054836231720912845178464016948068231213216821021321421336875071648335127019613668421531331142413609308160180292272255270426698572369296250242176112795519521366815727929635334932430928830434931527722919218913411767552216131630951832883503553473272603403613102442011709879285639223713544722278961391741601762796695954113172381435730131479341524626332881361742222031661872867257044323992392401024820566371564446002761261341501631341432846115914493263022261025316781137147437563224114121182141149154283535562415357256221134772812673511834056427813316019122819821231355144331717117715514510210775321311375913324731734939933837126631731628724022822317815613288804197194810316929129132934829829028032934824722417712567372010444214745555523112612719618116116831075769150837528116688291977936176531622298153189228232186229349796719529417267219118391812711341934986382531381452452441921883377307195423693132451485214126113918548457731814417022720518819533163459749239930922414590331559391483615762611391371731941841832924574143032551951294265555420157368216823430835032832329528726423124824020416513411912281692747193710616826825631930934624422832327527924418111088311414510371323905482391041341831621511753046656585103572411699044982633149462604226153151198203241330437620542431296160151152140966623111423621102033043213303223572992262532712553143623271527124145728130316514246117137188181154183324575511375243232162996322136431127333557249130141220194184206300486454306245223210137115554719131227631201872252452182442031931921761942191971501641141259959341151633951722342692712192352182262021991842061491109833134512786223429325117144205188184214325741790543378298189109531515343918348961528413415720320317118834676974935975831257438115563616847164429814817322320817522035874073556041032220313255219105401714806532851451662212251672083707047395324393292621787642157113012035366034419022025427424926138169752338529422320417515610591316529411182002782963183723633173402592432752552001601561471198642117930961632412813363093143073433142282031991649666321011411401324596192971171251581761591763096696975033882832281394321637311975006182881221461741681601873176757124783752832151394514526411524726242539913616615411615219033558043831026624611250197483514445062528215716221518015122628867868448044029462623291429640123346652328182161233136176169366620549358216108122148926255185101229941752192253012482222321961491261711631341401179699903010614251221792653143263883603703833683423422542571369036201428481484046912881371292051761892053467606724883472511699852101056451734926942991561561692001962123697757675234383252261545726111145417947374527716320223323115922339378378758246132622318765231684401654786802891431432061891511733126286155343992362011278342189534129397642329146184207231221242419598522423269189151155170697633101040581272272662953303253082912792803302231542061881561291097937111412369016225832635730229130633036730230022819911782461563543155455720259135146201169167185337765735584384251183116271885640192492730302154170198219188115336726758524397292224127442813734617946864931617518020922117520638673478656444828425113455368693717745271831213016723021217120233577568150937630122715256321451135158396636327167186243247229268380646573388300224156170137996419111637491322172883153253322892842533133212641951931651611217968321118125081168253282330315365286278260154139140157100582410558231373935782481591522132041881833637467435313682451579732167673317648166428316113019718518520634474371150637424718112046205664016945868930815115921721217316832875174556742431119812051231251037162451670299133166192201161204320699733533387286218137683514672941128112199166178240224236224371619552394315236168159142846619791854132217282296332341290316304292193178129102128121969267378914308415324028234236536634230031932731720414214185331185113315542564826511115118017516319434871670946737424614810048199353563178591354155127207203175199363734757533371252161114523171043516046764231016315523020616119634074976852535526619712063181543301624486492961211912472191761973407677235584142731851686738156934151368625320149205255254200256372647561403262198170100997839238723521612113143563883553563463543793293242422481711751431021033422815299018428718918611210818725926729126921315450392510537351554276183021241512161941882073578107262662312191369252227343016450069628112019522625519222635878653242029623920811346201077381755377033351591962532421842223587115925243322912261135115116636178463662354157192235253191201344709811537404276177133843715663714241270333118421227627222925141469562743029724820914011410061319102588133228294314367331332154260271261257176148136124111116104421113162311219625833240137525225911617218721217114094592848311321414186703021431822142111802053677447514993662391317929171346391442556683511651712412321792583967747365153482761969239124983717553178030814418628123221424238976269352337826518512351171454331555017013391611912212141992394057517445324032752531336924112727101400654337197221290271324417417488459361254232212142146686129920235813417528927328426727430625325825823514083578872585633151013299914423026329723020817625228427315241921007062373022531237911582242723523573492813353173373011831421045819949837165480617293130159233203202224397746745502338240154832711943392034896922631811562171841772043447807575983572781811263516798351894616221154052126152178228374741761504356240193150791910973913546569031117121524728318726539568469749834024624722013010768408132671197261322405474435366337951191401871661551761211061048132163924501432143233915104914154124734584043622651491257035116743617242769732116816725625123323138074485756235625614486271057841200572702323142187254256181253437802767540421282189914119975441995337272781481812642382002434198118865574322791891114622996541865497252921491832402232142534067877445944082912231376335239114014443771530117119629030125827345475769249633727018916816910175313152763169263323399419377390342433434382309241210197182123826238610264394226330376468454410342402393361312267148109853112879441574746472651291912332312032563797407084353082051096611546545163343640266130115729711635122302262302271186137672312341054166529758336169203260234227254397812807539378324198106461496652161514746330157206233268222231385885781534360246252137533881194714646872634818124230531629933346473969949331526624816314010673391015357019728935043746043440444342745142730824920218013714611977419511481372053513845264454003754374964053311921459870541285835162513719286146167265248226216417809758534380230154835611937461895397643811251552332572132474368607584903882631748934191561235179523808307156181260273217231397876815589389328194102601613766416454677430516822727226521425539981882251141223545441513971037136384674399194252286304294288419707609470304205190164134898025813336117426333844649145344845644745642035122721917316111285714169204312621131936947441440441944638031022316310476493913661034147470744314135196262225193234408791571483251205190883011248421762561288342929814814719532867763936828626521287471677932173504781332146178289224195260436833756544449195232199652310610371323797113191501762312312112484117898124673912882031378643101111411334177493261922143073072873204817426554333062202011481541166254782871184265341389381400307341342342312239172137140142998064176819295170144260292240243232246122829797917268443512861754151374273229236267323299294316416415333207134101602213536191413576983451311562171842011953547337584833302091557633666638172498806331190238312237208261474857787534371251170119411073104215846777332816517527924327035841373762866238823616717660291668331403847113742002523123002623174127065664532801691438921812360139112360151220265335371435354364343335299259198157156981039658251062044104161278338362401368355378346319268198156877831245293814146171332812517521110912819037167054022723719011872459127471685058003231571722562602142703678397674913971761631764814127439171449779344168156261237188239396766794467360301198845314135541150488803346158189284236191284356788720471348245202111511295535126149447363198211258288277302434377212213216189176118110936927972659164257312408436441376403366384356268198224155136119978829134184310419227635643938340538340933834221616012495592811456441404376963351611482312272092224448387264783821551581433216616491525197333051712012982442292704338717624573342601741023923645521625067773491421892682412372454658767955223962802081115722158453168477746320172181258264214242407774732497319247185122653215844714240871434715622230226025230644569258439927125218015913212371211272979187240314388404450425401355370318233238160116136971119961192232481182063143523733163042252511881364751443512201051181148310513910976606436168735241163346152801471521971911791973736845563832591801479452221010839146414668310133156198199154179313652628424280238175112401973625120349656355183179240230199255373581490336207133135108998336228817581321882602843203393193312922982392171581351331339713931107514391151612873113543713603003162702062031347164412084311381354536292391121192061831652073256045233612281441115318824740143378568338189177217232196227369597477356218137136186234866899271153145833511511321881581421782505014483022491215637141159351224116522531481552021951492013215564913592352221478246171161425126332668304163185214237207278377593450331235176146142106684211491157130216264323348383347351378318256228153169154120110825839612165687179272324390424362420393342303208146127113934326143323642484903371842553143123102803475304863232731451006218543918481062071098413318018816918428257551434421117812078201015639142405664310153126200182161228290564543368252208167783314725341464036253061421381841971741913185415633752622041431185816965341263626943301651852622262042373505394833062071571391149574411961021701382002583433593463803743253022372081421241301141188165378713391001552502673413343033183132322401941209366532219521138128381650260106164207205170213325586559381252188106722610526321464116492981441602432181772263355535343612241431158225136210289926253932015019827029532938141033328722012597825043371562615497794154143145144959681435431373936283211403102072838011413019320019521419918315812110075634733192252292155969613114616114913912797123745566694831322781310193283124155165158170209203170132114110605940199541041123363629276127112188197177181297540502355265172101572465353197289494257525970738614625251446933822817995642212134391324036833091441271891931611723165465303782582191487325156742120354664286153150225209174201346544520326241201147124481710433910434670931315917024324122526236855148935923316914599996447145122056133159211318327386369371354270255219170135130116108847221671526811352302744093473313113582441781581429185441811964381363877122891051822282402092103976656664442842071399349225374515049570031713018327323323124439170069341427225215591311177948119389737362127161208200179265354576580400274184101694316928321223816462571221622062121752322925865423602221841319345261151025842124302911501832041971752693365394733372291621501169884672394193610615324434136439937837436826826421216217513714410385703411862268941802102552201902002202091811101028675482043492712129157527312112615019017920730857854440928722411576297138401183727083221421452132261852503345805234122481931006033184743712636667027211614821822019120731054051538424318611876311952831112380655300139164252230211240356507446328235200141115432661293411230562333016218024427425125237258243230220916513412390866318531147111203250327364368334352328274232225178169134108102827937109622761132152483502892602923342149999108928329261443324107314582271120148211194169196287478493333192114494118155553611735165230716221126423519121832353351233426415912780351425629109360665309147169203183185209297536546329231164117844019636351143465853031381681811711712162814503591154925201317733513762054642651461501992141992342532972361481046857393034237251318297710513012813514113912499755155493837241917936516434967104144123118981379385545238532212115291627626810411333192014179107166102121435246685638342320291626871221136263122810101520131351423332201183521310459020612767809915122710679513324229524154911123817385150146177151208228197113837549542531185371735333538437188110125100102905651324127147271332659110397120121101102971138663423039301381940831871441141721852461121088148', '38300111247354115611311154112200017162011419971051100000001171110138111491198330100000022257121817151032101200000013641256107443573110000000363261211812953301442000820916199979597310211130000100528712585340210100000010002468513341015021001002420254024411120200002333426324610001100000033033001502120111000000052243235243100010000000204624593453042132010011122181521262133151466056439010038232923223522231114762011001004879131221647243010023011000101010011215511741075424615200000123157126888162303100001027766118640101310100301000133410121110118061072213100123722241217139555455400000056463116274685163330000155106621211121141471316543303001332674011012334200010100226001021102251101200310130441291022199961143071100014791013181419689332512000001301262133633030220000003202235734335021004000111425312108773415310000014629244455241124300002033538915981031221131510000033110105118142653272403000027152848474752422413155541100111673611710841695563364010000377412236441138030010004148142237921004000000005111436046324241210011485127211712141897212532230012251330273230474224421961511402011219265862514028301711156533101001278910272714191625111258117010002102511614101121151433500000001562147141317352611201810512210233137181618191515261529181114858412122012826151731594573556852291619111916610300036918344738521028439362159424350901027347262761086659603031217497212112371129202628151181820010000750773927864321300000028941611917181515362211000010084881016254953275311011013379206145118742772323111112914264538574041532630898587230269172433619010598986624169826510112131513130110224102400000010210813861318710121042832300310121371182035211927308693403010011141071071318661765133000001010612101610133031172215596464550001511153443466080837460372712121610111252010144181022123320031000001033115151928162132262719115110101502391011252629251635263921927113001101518115815141710151018121141041300101110641031225914100201110151318141515252118231976101134301002492521365162708110099542622367113106400211836887497144149124985528239854000014241327264024272427422517235427411031023102227322314242122181492110110011026101913231833223037261810311941310041217239202426323034485018251917754512111241843557257716267958458462255262616511004113555901261741681701751389238392027137261231573555921208814517292835821211081321101233121732253536412941442216121884603012424192922352130554042412219241343010017148151814141311132820123062000101024310101211171361217168113910003004916151737343043232389611383342202182432327598949311011810264451815171053601006172723434761614550322377531200006151222188141519152521175601100210451916131829242022123442201386831001048167132615141614011654031010000257615617132741315121267740000012481112171518263042363616291012341101521022417284569772111896971292414208853311013186811113916621924017414714871512487917111037312435585947474759837851401917181010010021092316596172719124833000001431782123222935342753433615181311520000582315293639364627526368343719189433001241317101929721210811211945323000872743517911494857312848471910211256125300317316993941211481561358410347211812571701212283341453762605673100937344392516116704131215461192216241929213910783000111362441262412232528157171053100124112118212835383657495047372219227668002510211631414547575070644741262516875551113721469141661694125464122232731911191671811701791611431027544132119151114620312203741366041496440664142292091125801122220231519192619443039442820831142005122622274531284233325434567431381214116342021519182534495568696679715228253113322010251517322319331346478530053021021513366894126182171180168149844532553130142740510163873118124168205197167162142966234855221213713272761534857475041807462424123910161717200163235224040374034406665423533327320301517312026533831291829634640301918251381424071431189102318214642494457492734291110210041835455749637458775975554034503625331512423102121359412017818518421719116213415065583734199786047164510910910912385113756033473523326468411699431621413134405148454965684644542816000030717242936204850363746535942284214125100110655531915132222222930171798441041316252030432750192736666456333930161381300820352730424871868982838539292246271085914181954901321291961431481191381148882582630228171020282848911421391661261281221066361423229931256000216233624263536445149596645252821166311019132829271747504228567970695030299846000625212130184136364849174060283212125110129142721284343484354505464595631251665322161626183156536970564462392522242531241815517241614347275685773107788869421571154131153342436731201201951832061581376078534429181764111112728383756726176554547553631282218137412001322173126383161797383545130231278316102142526336123044345378584324111410623122171834403553384443635560596546291191584110153041354463696066746171794940402815208571161029601221732221911872322041911911178477784231171810315132959135164146180125110729312010757273519234202041350364973654957575656685639332519126201210263127183341382759525674453921261336000242936273036323947376177667356333412113700241631224936535244405849746755452317141461228202537424053515198637789692437252315813204317276111017114516817218720118017399688746443217122133513347413013921623718322119421415114191107784838261710216123647116153179133142132101102776869422614985100111634223728373741424467553938454215980002719373431263229402539523116232914101130003719252833423935434463887458513314231570014825313654575158665663737653575126302414188431127295511512015018819318016814212779904649292326162241108245383121123154161161138126124108845436251194247111828263139252846383463566459293655231221023452737384255345655647269453127181230200132446342728152044283480616155343718730021133132202036401825183054525540292215856300102529372346404044494663966153554036281010104491832599111011215014814216914713197957653241919988557287512013117610996142115946967623931338621127264435385335535558647276757840201413321036194519334030334142518565516037291980000111225322274933435033478380545748311794100781624291833413739323642265825342423421118252828444349487362698562534049483721151641191228626813416213513815319321011899615856531817131477113525588614114114912414612115978948657381479211010121933273350456661816462523924101021023821333241524049444262656767723812111522032122327143137443432323467666252312514550102826203339283037466258745756754623151084112421272843565143676980858792665041331920818761272747991221401401511571751521081217462614930171712337242975136127175197197174177178117895548191474301141429375555403758765390795654523316552011727393845494133433941706844503130231110720312184132315355455043607878606926323215132221429443335475070466463981148955814327201565131125395861688383788285999880846949443120953111103855103144142178177168206179193156136957866472319830033982131215198248225194195181741008375697063433313815174214216617723724223522423624022217019519511544191581113224150557571676651797970715977311911410059243131132438335055577977715566302062120211132825293032483947478070796139323169102731130363030614954533927635453046334031512724112168778710114516715818217116013212812983604742192860782727629511013313912214212814614112010165561910582051928354144394022403857595780422120113622041329352738393832333725483942574944209120041832312333554039271323705179615648331443106142353293238513949424378946781584227237161271217503159736185105749610410211492757141422410694161437721141711872212012051832341851641088565613416282144102045741271471772001681291291331471458559653921172312102218335242392732534572806391483632257921082831222929263341486168805448473619114220452734283426282344363050685945332526135210262323343127292150404340395138383640970182132030313223202524322935344046384419161313651672430616271788478707062804739372742331217159622426174859079686275677052422313174320272034113024171428163748606255411323861203230322542492543464941726869474527181911010434282732423729203740817887554937161432001627472130413526272242455537413125281212322472630283743404234403547492253294726601511184463274979111111125112113126939210174828063338192464519545591112146142130109981149187706825147540223243527275353383752346968634942211411420041215373150324550454858636585405322291172002919292392919374331214749517711423200371129252437536353507091886541253324133501072339435044574081507684105907054513729171414525142760911381301761761301556181575828242914101891131123828811316111813011874637468503621121344121818293762904843414064676464713026191059015630403455616048535857799769344628221971112916383241547441625376717079594717146932125152931365950513952579674485635342212400023172927444855745159689389101777374511513169533102870971221756111315014897123677840362519161351124202767819814412612811613312575675114571011331029525441625356495859705445342211841101418242728404245653655755456483831208201004123531272026385442624686503738292018132000619274237443433675649444826241218209102112123031574554637866668588331218251821121091068275111411515615814717515118016910978817759617132510412308097132135947817979196814145372018820216112036364654478872668272662128321913622013114334566260701491781331339870543846199720013113244515760567763498310293454741161143211117232137399727281628313133292115910432353173934637072555350564055393826223313188113214285115111042102027275988129157155196145145140646025161358100311202242384848555656676050503423191062201419343828606559583442626068394322198212024122727332868394834468370533027202418714701273129465164505439556169793317341564942036223034518272756982785067382833302217151733452483906697153204187186170160147997166463337172001010218715017421424520521819620418717810410470463119174326114563107101141154145111923731522620153101110615181611165318111522121312521221011391431121372118143433300011774816171415245112166501011003412526414292741543333304933353216188320916398510814413112921717018511910178594932292216153154925591201441131191201341801521101016545211251201112262140343743606060755663412916774222161426354233434851354172675531452415511111720331927435639193036878344402420103003215172723253931383625293122202511785732126162321364039554938678655594139322028281871254273272119115124123148116141957043493136241321111121516468211613516212713213495665444379101436122620293221415153454455855641271925134310213231354813222734236639434129231170102151818213042423740435161243011251515115250271626351923253841323950503235272114112636251420371173951314162117314171814412612194190118141170164168167180157777766502737312720314152755851311431221161191441451258751242012634020617294437434848445274616336241814119475508152720212633292935335031261717191171001238171420242524253539646557117191273002051429272436383633426462843639302517756023014312346495972935262946242282730232411218214691721302827334158582327831284134402514196074788461294432163416179631012438131219262916262216402815131012115113323112819192239202728365568352522867411135926323032343034353766574018282096521004152020242946335662516359382934241819301033531344880619577687310194513022272317144431627145412017619125625126222117413576785445524615201071718256615518921222527219822320818611659534838114422251227581071391641461471301541251086937272212142120091931403831514254366370463331172710220010515271415189258351611799313130221151031681020222736472018158132108010041023161711131837618055622719222015189175015172450115153195171242166179177121614253453322131311513928391211591671692041821771521025249144214122402171033264335394944666480494540361610841002415252927354248326658725831232822711710031101714331320172121118856131444002251517262530282838223156392034162278760007516333239474367576079432529312418162061411826478711013213613315916914311147483730272411101551033248104131164160192171188120885332242518671112311202947596460635268875825111239452100315252926463537666352686544403222154320000152614262339201411174055252717233323111491216108810161214311419111314847145016131928404643334446353616125480010004141016003336371103797710272055535885113918810754512818413735001041117141831302422273044301218786331110381716211623203238463639391813511020000111201525273222402635303125513733321113128912121719322433332418114211511121102108151934443354455342351415861745703033430566913714815914112810052452919104101165005419367610412010510196847139211611571200212613182828213230384039182017106103000137111425212831323339403014121613300000000192216212431262124272112189950100114618231791896569101986591031000059153820415764294924231712413612974010314186210214212819116513792533231193023121398125132438631081121051088993443536241925188574001011272926223650475351552928303717137570124212726231828212736312927272623191450421047954756121613171335313200011341214746155108209773102020001566101822313127191716783954112440231212355093118121120996136334829262014111262034132946747084113109813522172311534410000171315251624131415131082511640121011252643442340564632011011273699121313477610341131111941334526284747848341315147827240424462560991261431221651225745381924125953800241016571071371771411541376267465520141879990001262158836397113969437253010131356110067131721111325141824242041247541001111295211015581168950100001391371510121613112715766754111101511159779172010991291285361000036131216181819252422201013129714109941012125224878709210075463131175171219201172213712364882887769643810158753320001191212917291871610161313151012832000057134645662413171036553420000360134515343210000100000111171689161971012125483822110147811152727242924101010109156111112500105153144484751605834281510475585200014193031424444473213127101074400000147121415713168578982031010000291039207187131712575540000000499912614172412191196953552100268649171486714141312108101230210251081091012131212131011676434114020045102128323033301271178767322010116720261819232710155109263300000481712221315302419161117915121000110017101420131618111520142663431371000015121463331146329593030100114101013102221232830241112020121100004948261417231215114130443140010003491524151525152154812201000133143254041433511728422532000252431403457732628302116141054302000019191368102269331132000001411181218322424162325101697234000102231513231236302722141511887149200013121910453853675636541916161171374111116718206593108115895228131982245151611001141318405882120101683625202510134811010021520334126102910171345332010000425851245797410402000000000157769969899222401000000311756661361919910591412210014114148231626443520281114171213262112000144374100149156132133874944212216161410106200142327557877758958221987104031200031139136103553563518102200036113813151017151413111071032100002911713948366621200000100012111061814132432332322171112127401310231110212141410151815776775266600003314283038524928152112834592511013210112142402533311579101232230210537192120262317221961023400000005371238126142012111165130110001156546678138851542000000029610656159821165740130000002421165128121195615130110000332015106657305531111111023991824241927128119580220000068513105105131014679884262200011111112330253335523541322018181419643000114181830524663533029272451019123351100011161816112917162215161211883566231006146910252623272616201068118113100339132755708012390131574033518661553401109133857737851685433171413074001000041253651515711161182320010000061430341413271827304116221531120010000715992726123325223112201016722732000149156681312241813171694301300000101218151525252248363017118833100611111416314640584761201365444435440000491022253340553531106369470000051082012191714251313117711431801002671112991511131915101162011221000035138151415852843333332000014119741010181415121382839427000351105198228272815141671411132200010152326251838121213321500001000000383710951644210000000001147157111010586742320000021436851061371519811645200000033751213111167917994834101000439322121388845333221000144813921343341563615161315151057633018102248102128165183229186142703825251712910330102820498271644885622223182238553100129123045656657546427278989010000365685168162314211154731531101510911172221153534304342222519185123520239111441542530364645493620231719141231001271715222727305111214116814105410001331524234148352132167121054775501002211274349586872644617139835200000121411161113232424202610161114960010011121671481916131717331715210642000041125011423571102023100000281551119162437313849271112739122000441615144040312951561272641041011227313347871511451671065334282419125161453002121431647110810682684920128992231001271311121715111320301112684220000003514111620916202422211593553310100412121220334026384434583516181110411460014812191948273548243752452120271263420022617171417274949505168301238799112013141521475688891171321151046725201619674157222420719014617621220120819913355423713124140012917213939597476747787896749221710520000516221828644753526853629650454424852011212034263865555761867814010270444743191415140112414213034605962811009579987260363212840002313283544407252561918233123318162213121020512963104140226286286352357367291221155895458342725153602172565139129222198218240229233165118594421740100022516555656716960976510612086343317956200063284144745677666799108136757838321044210410343338303858817468911131528676474137914100210295141325348839610212515414711764665634301812405628477512513119917220819121926423721311764535145201410104254196148986162631184947272831161217182468105142126781061221101231391531462021146325199101814000715323755476379586660659041121113211100159148203434463742387267402821751001124101916335450605247517261413828211210150112314262242546450631096783834734101717106101059382950486244567375936842173023161217141040751962108184263265240275243238102935236401281320438929371021321801871902832952362321531106633710602226123652858110097127132104128756648241761000022142754779110112012010914512313998543325131800000612314768617370828686991137539433019124700181528618810966891439884145806433252012121063200151958811121131732402181841721041156154342199117301142910318725132035532632135429922717073757632211478047121971113195198229254260232185151896553331084202231122506596941086682816760352114663000003162216497875817546668878513415914830013181420263835163450515239282211491202002122016385060557442546063502613158142631201324365975104112125115113117107754436343511103652282459139207274308288311253251197163112536445301720182451633971862272752982822662862621841148676372515753041020485975115757910581921118761483935241061031818427152656552599150108105734437181031100061025203114151381036462726824914522100415263146465152546663859970522729205331018932306764102105156145151122110825235263131241240010215211518326026229127826726725913395202018321077006288117553042111000011000211117121012912111013101117718100100003312633273635506054725233161384138100031320334442493547474968604222272210113110534121416241937393749755723282061234100510174264476394941011058994624923241147830210102445609610512014714813298172921121750542001726521271282232262812792401881641284565231512930012617294152454856554466535128261110701110281918305041413748416581583631211648702231426262839354951525470434342212721159420188192536346448336345876455524229211915000089343245774671831038296776458495051422824110898426114822122021718724123020415615110086673523372999135236311214420719722622918119513111773554422131120281831616264747559766810278834637262110692007213637466060538405477695940211310830001517284040455850686868762323458220001982762427765906179878410984591936231714155337641346988891001161401281027873644544382514101435101022871321572062932572692542331641661137462421922222246183279128150189255228190225191129107674842172151031331561253334340202517101171111751110218282738443539517475685730119131275114814333343555977425270104979161633326301280311025295743777286688386133134868345422913161260114404957741091089810813115112499917349574130201310611228337917723527633236135633127925420311881104714228362621435511291742582472442362462382091461428351443212420213712142824464945674640525744312618101110008920465239764873547069764454281714192320066163839524642696765624531402824232379110110223334476176697269611201187655483336108783257325269908486104106137124131111806265341818990061038971812082362653072742612351991591031008636481716114282269130209268301270317290258275266230168649312114206246246212118925423327223818122315813214811466472212101019194626675056638071731077869363210401001514292339533353445446835050574126391346001718184765656277618110385851048841432610030145331924494272765545362510411216515382159308914517925027925929727524817118513996525327212216116630701271992762652672362261921531168466612611410224132238677162858477731011039171404186200117293050586545668254918611168443022203640317163135556580731117510772945259382713950000520203756676265679977911106576303542184201181937476265891291289811111414795117836152543421122417264299168218196236239218219238175128125105636933321761332159911481841732041861591731841641151138342308952018253857525963636672878510589613222825030161615312981911122230565747364119117701126254154646493529865727510412386792925341100122637454760557184111701171079684674636269021291744585610611112112110713212512198898379462516128321110478813921325429326429523824425618412398914931211962471824911481962602672552032402322031461017655291293101010272813252951596153544752453521175111139184040445670696172488691825937512357121292043404154304856365180819081423121162113133262732364033312740378078847955221216301334194955527663726572679562453140422914161810611019348517716720322623821719621419418515899101693139341941623386316121522723725319718120318617610876532031114101113053375854747990651047610074100502115811221312213430374680748188671041058388612613155210272949293464777778615511385101765452112111108824403340414931662456711007971895026249331615194839325153454947598250605341346437333610264196102143105114117109131911348848383327122160381336519812111411198101859095103887741221231023482056706774747959618272713817191295200252142465666748069719010285668036261919272795591043901431641641771901551631611591772372221753117642013273647691078812987711091149612878916332397412442028558092111999179699010611291777827351611123248326910012212411610511310210383687951563422251112151935708512010511877806568546679581225651011672638587261675866881088288693335221601003431344756926977717789103705597142963001517263030475669656656539079737369412010000473249426949715242636991869775445633191722047275370786812510012092111138108103957659373513109306733821231431812192692432261991081561016965554049291582617375814117015317116218215212284109955934251114211082448516957796353617786979266455627104100716264332376080535457649560695250292282320510235544394736495442343563785653421916601058233236415459744666709393536538632257323143945515141205347709573443514131811105711738183249801561061211481309251675129403217313213605133179114191178238256254245188173180124885533117300391747576369109648276111876994564540161276105172449406245607348738694110109855343389211051134436568797781889491130104116106715552276500216174955796973536265621107380473533181412833310133434856792831058180101100938571483421111410141018361101291621571731862062081991511157994885259493318236437641231831541812311951911641171437572311812420046143134546977578751886277817871473411301052213031735450697229669499905560332035001361932346154755988899310310588653637188630046212131515956985468719086985141352515110112525326982779598102112112959881895446262423201121121849611081552221951832051971791691331179610461328593171827611111551612081611641431227546535157299100324142728541087285999188112100109897250161526023321414489848668761001011251031047470431812311134244833638063101631101131071171197670351616521045242854729485808663971117890915041191766304357212773756671100961118898555050333832192325830541252032142282482462272201079731264042242119112129356488167163178213235213186164148967840251431103411254088949679858011610210388584444281282001112748536993838084957897946556285386110412254057708077889470911028012472492918133002731633417883968172637913010911910083695821164002611435882981101031281271161441088897574321614475241228811661802662892422502872562251649990906044291621435123486138831125041899776867261366710000261537556990669787102103838933302625107111004519274758617976110761099293566241242391701212163741667159748294102729156596055279109301141845587686979311410412111113096705321242751221913415878699579109991011171091066658423821151873451429601481432171861507917413212297656046342318121153511216712715022516612513257617780402620214301144152940634769776677771018374503930359420233142544394756567259849082828738201782202362328403467796887961041081191204948503414630428315357738573767499779310978683238191389302721366159881209711210911112987911027165322211863213828621282191872372402572092051841576721215727152897221330881582262482632491792222192271406379665342181066136367113518719120916316816518114573784217121015110171315304239547272686111094504728251210200217113327546149503441868382645518382430210031121248910113938424267745450322419171010115212933538176716666758895705155522820109332811338710017322023326017519522728282618121820151412161120278517219424723823228422821315613491576422671151482033404269767210711510812711171342915750111311244835546062727473991681105640282718822004624435057518885787590114917838272316116020392233466371576060998597108805526283324675118175146758411910711394109137116836742402738818631610437911922828732732531235029523216989868247283527102392834701601831882402252151941771209157431891495021718363473616211212982741026651322820420002341332273036161727119361922192114113001026163926234453555957697485723125311712420049204425333757687660729111969572835171311611219353135447984105113901031071069554464723321810652672188124189228273250307253195171997659593434231813115938711381862502572662652542271358260514030106000261731425271778077849989955652261811825221517412845636948805659107644937341496102421393027294656676069717769384532211355302251220304067636144417387774845182120102121031275110994106105104831015838323230261512124624123769134217191233302271275256174119887348353531211711214187416022220618020823020219591343119158656102813402644766180519551654233111317171001213463376616144638482720242811532022411283029526955565942845449481492111235021122740273857635677861127567503329181631500411365868901611171131501531581066766476323372513242213221301982583623102692793172681831027578453728291055246111641761008071748735241719227127232125323596972748212176618141382017699020102515373337435443597073263130167802200239333527537860635892915732211827171140001112527397647487810268906481272410108800023834267561758110913810813176402821171131237220510234682192202235243251294193174735747332781683254728621501562002182492132031931346848403827175121261524314388733757707696521219168934200542035326556696894767910471403519182313400271538386078717382627012290495428171540100132031416079939694699410268423938276541011552026264174878893131482119131714131329296562910611120426727333530832534716577617247273520441286813397716719123624323524018215371503542187301112415322551635288737480846036211925205110116122829505280596776108676425453520974001111202424294748656463678763504533301219630123183323535761497163921127745282422136445132132056416890779914213712581724040371910231951227268816519726431032531025724813867584941312022171816717551241201101187598764237187422221181015194654230000000361721374422453351392827912187881052126122113142349313531375028162927810530112831272142526463514857323814231411961068141103168567411013611710811258222331131552661202113456731341501221491491195731247161512302151481918303138393124353419111384010000169202541393146444533302015101417194966200351817271524231920231617177543111102121622131633333332183616141011145931302592523346648626778576146302023172016829215141643861432582682802162271831035539513926142612950312329413318019526229230426015110269544421166461117165060821121051081341028766653031101215072002141102216303433283345121291564200004102722182540322032311924281556912000317211711282920272624221011232010775000245172133332852473033412226202123141113821108304862801171791751751441013445301515191114894523194979921011131258959483616917865000113513183333354647445533212571572330002271628324570494761603716231114711120012111245224374708468594124231186735301227202565891171251251321016616131578802111005113287121186224240233158117503342231620911061114726465553645859432922939793410101221315493737333625119139431410100129102018222051494913191612938200100346115664895131312462310000046913171919211579171295465411001815132513111513192417171811746422001262017103125212634373120181214181195310177113445741191231101138950423028231710910241115123763811118414210685592516128117321210291919315140815158454326271614596331013721192624393939564443384634282656020115922261411241439202329291419144510001028131923162933373839312313572032000103111016203623403439292515129156516363213517436312214816416713977403420342318151781410011939406065422533201712610330020302391112823303129373820181321118210001081612122813281920242123219146413530023181320241418342119212518251643143002252425282530413140504320206137540301013131328312939485745402317127411496510018172366898892958535403223152211814811005121942476767504666298101414642110201510111522211612151517147865600203014101922584951562840391319495161101233138173133303328372623710412421210044141423223146433321252231110020010438281225262029282475826111003002013132918232014231579641331101043572648526357395321840453000101341720221376461310210171143627558514816201611341000000001000000021200020000010026823192330111212112300000211187772768474424316151417135161100191667513101922188743001100101931334749393731261216956104630002913435262691011813']\n"
     ]
    }
   ],
   "source": [
    "# total of registered and unregistered(casual) users\n",
    "Registered=bike_df1['registered'].sum()\n",
    "Unregistered_casual=bike_df1['casual'].sum()\n",
    "graph=[Registered,Unregistered_casual]\n",
    "print(graph)"
   ]
  },
  {
   "cell_type": "code",
   "execution_count": 35,
   "id": "d8cfdad7-2aad-4751-927c-e79df71b7e50",
   "metadata": {},
   "outputs": [
    {
     "name": "stdout",
     "output_type": "stream",
     "text": [
      "Requirement already satisfied: matplotlib in c:\\users\\msi\\appdata\\local\\programs\\python\\python312\\lib\\site-packages (3.8.1)\n",
      "Requirement already satisfied: contourpy>=1.0.1 in c:\\users\\msi\\appdata\\local\\programs\\python\\python312\\lib\\site-packages (from matplotlib) (1.2.0)\n",
      "Requirement already satisfied: cycler>=0.10 in c:\\users\\msi\\appdata\\local\\programs\\python\\python312\\lib\\site-packages (from matplotlib) (0.12.1)\n",
      "Requirement already satisfied: fonttools>=4.22.0 in c:\\users\\msi\\appdata\\local\\programs\\python\\python312\\lib\\site-packages (from matplotlib) (4.44.0)\n",
      "Requirement already satisfied: kiwisolver>=1.3.1 in c:\\users\\msi\\appdata\\local\\programs\\python\\python312\\lib\\site-packages (from matplotlib) (1.4.5)\n",
      "Requirement already satisfied: numpy<2,>=1.21 in c:\\users\\msi\\appdata\\local\\programs\\python\\python312\\lib\\site-packages (from matplotlib) (1.26.1)\n",
      "Requirement already satisfied: packaging>=20.0 in c:\\users\\msi\\appdata\\local\\programs\\python\\python312\\lib\\site-packages (from matplotlib) (23.2)\n",
      "Requirement already satisfied: pillow>=8 in c:\\users\\msi\\appdata\\local\\programs\\python\\python312\\lib\\site-packages (from matplotlib) (10.1.0)\n",
      "Requirement already satisfied: pyparsing>=2.3.1 in c:\\users\\msi\\appdata\\local\\programs\\python\\python312\\lib\\site-packages (from matplotlib) (3.1.1)\n",
      "Requirement already satisfied: python-dateutil>=2.7 in c:\\users\\msi\\appdata\\local\\programs\\python\\python312\\lib\\site-packages (from matplotlib) (2.8.2)\n",
      "Requirement already satisfied: six>=1.5 in c:\\users\\msi\\appdata\\local\\programs\\python\\python312\\lib\\site-packages (from python-dateutil>=2.7->matplotlib) (1.16.0)\n"
     ]
    }
   ],
   "source": [
    "!pip install --upgrade matplotlib\n"
   ]
  },
  {
   "cell_type": "code",
   "execution_count": 39,
   "id": "64a0644e",
   "metadata": {
    "id": "64a0644e"
   },
   "outputs": [],
   "source": [
    "#plt.figure(figsize=(6,6))\n",
    "#plt.pie(graph,labels = [\"Registered\",\"Unregistered_casual\"],autopct ='%1.1f%%')\n",
    "#plt.show()"
   ]
  },
  {
   "cell_type": "markdown",
   "id": "3dd4b422",
   "metadata": {
    "id": "3dd4b422"
   },
   "source": [
    "# From the pie chart, it is clearly evident that there are 2670313.0 (81.2%) Registered users and 619473.0(18.8%) Unregistered or casual users."
   ]
  },
  {
   "cell_type": "code",
   "execution_count": 40,
   "id": "6dcc0237",
   "metadata": {
    "id": "6dcc0237"
   },
   "outputs": [
    {
     "data": {
      "image/png": "[encoded data removed]",
      "text/plain": [
       "<Figure size 1200x600 with 1 Axes>"
      ]
     },
     "metadata": {},
     "output_type": "display_data"
    }
   ],
   "source": [
    "#hour wise total bike rented\n",
    "plt.figure(figsize=(12,6))\n",
    "plt.bar(bike_df1[\"hr\"],bike_df1[\"cnt\"])\n",
    "plt.title(\"Hour wise total bike rented\")\n",
    "plt.ylabel(' Total rented bikes every hour ')\n",
    "plt.xlabel('Hours')\n",
    "plt.show()"
   ]
  },
  {
   "cell_type": "markdown",
   "id": "8e4e53ce",
   "metadata": {
    "id": "8e4e53ce"
   },
   "source": [
    "# Maximum bikes were rented between 11th to 21st hour and it is at peak in 17th(5PM), 18th(6PM) and 8th(8AM) hour of the day."
   ]
  },
  {
   "cell_type": "code",
   "execution_count": 41,
   "id": "b5a64db4",
   "metadata": {
    "colab": {
     "base_uri": "https://localhost:8080/",
     "height": 1000
    },
    "id": "b5a64db4",
    "outputId": "8515a459-fa04-458f-e9f0-3c3df88e5a51",
    "scrolled": true
   },
   "outputs": [
    {
     "ename": "ValueError",
     "evalue": "could not convert string to float: 'springer'",
     "output_type": "error",
     "traceback": [
      "\u001b[1;31m---------------------------------------------------------------------------\u001b[0m",
      "\u001b[1;31mValueError\u001b[0m                                Traceback (most recent call last)",
      "Cell \u001b[1;32mIn[41], line 3\u001b[0m\n\u001b[0;32m      1\u001b[0m \u001b[38;5;66;03m#checking for the correlation between the columns\u001b[39;00m\n\u001b[0;32m      2\u001b[0m plt\u001b[38;5;241m.\u001b[39mfigure(figsize\u001b[38;5;241m=\u001b[39m(\u001b[38;5;241m12\u001b[39m,\u001b[38;5;241m12\u001b[39m))\n\u001b[1;32m----> 3\u001b[0m corr\u001b[38;5;241m=\u001b[39m\u001b[43mbike_df1\u001b[49m\u001b[38;5;241;43m.\u001b[39;49m\u001b[43mcorr\u001b[49m\u001b[43m(\u001b[49m\u001b[43m)\u001b[49m\n\u001b[0;32m      4\u001b[0m sns\u001b[38;5;241m.\u001b[39mheatmap(corr,annot \u001b[38;5;241m=\u001b[39m \u001b[38;5;28;01mTrue\u001b[39;00m, cmap\u001b[38;5;241m=\u001b[39m\u001b[38;5;124m'\u001b[39m\u001b[38;5;124mBlues\u001b[39m\u001b[38;5;124m'\u001b[39m)\n",
      "File \u001b[1;32m~\\AppData\\Local\\Programs\\Python\\Python312\\Lib\\site-packages\\pandas\\core\\frame.py:10704\u001b[0m, in \u001b[0;36mDataFrame.corr\u001b[1;34m(self, method, min_periods, numeric_only)\u001b[0m\n\u001b[0;32m  10702\u001b[0m cols \u001b[38;5;241m=\u001b[39m data\u001b[38;5;241m.\u001b[39mcolumns\n\u001b[0;32m  10703\u001b[0m idx \u001b[38;5;241m=\u001b[39m cols\u001b[38;5;241m.\u001b[39mcopy()\n\u001b[1;32m> 10704\u001b[0m mat \u001b[38;5;241m=\u001b[39m \u001b[43mdata\u001b[49m\u001b[38;5;241;43m.\u001b[39;49m\u001b[43mto_numpy\u001b[49m\u001b[43m(\u001b[49m\u001b[43mdtype\u001b[49m\u001b[38;5;241;43m=\u001b[39;49m\u001b[38;5;28;43mfloat\u001b[39;49m\u001b[43m,\u001b[49m\u001b[43m \u001b[49m\u001b[43mna_value\u001b[49m\u001b[38;5;241;43m=\u001b[39;49m\u001b[43mnp\u001b[49m\u001b[38;5;241;43m.\u001b[39;49m\u001b[43mnan\u001b[49m\u001b[43m,\u001b[49m\u001b[43m \u001b[49m\u001b[43mcopy\u001b[49m\u001b[38;5;241;43m=\u001b[39;49m\u001b[38;5;28;43;01mFalse\u001b[39;49;00m\u001b[43m)\u001b[49m\n\u001b[0;32m  10706\u001b[0m \u001b[38;5;28;01mif\u001b[39;00m method \u001b[38;5;241m==\u001b[39m \u001b[38;5;124m\"\u001b[39m\u001b[38;5;124mpearson\u001b[39m\u001b[38;5;124m\"\u001b[39m:\n\u001b[0;32m  10707\u001b[0m     correl \u001b[38;5;241m=\u001b[39m libalgos\u001b[38;5;241m.\u001b[39mnancorr(mat, minp\u001b[38;5;241m=\u001b[39mmin_periods)\n",
      "File \u001b[1;32m~\\AppData\\Local\\Programs\\Python\\Python312\\Lib\\site-packages\\pandas\\core\\frame.py:1889\u001b[0m, in \u001b[0;36mDataFrame.to_numpy\u001b[1;34m(self, dtype, copy, na_value)\u001b[0m\n\u001b[0;32m   1887\u001b[0m \u001b[38;5;28;01mif\u001b[39;00m dtype \u001b[38;5;129;01mis\u001b[39;00m \u001b[38;5;129;01mnot\u001b[39;00m \u001b[38;5;28;01mNone\u001b[39;00m:\n\u001b[0;32m   1888\u001b[0m     dtype \u001b[38;5;241m=\u001b[39m np\u001b[38;5;241m.\u001b[39mdtype(dtype)\n\u001b[1;32m-> 1889\u001b[0m result \u001b[38;5;241m=\u001b[39m \u001b[38;5;28;43mself\u001b[39;49m\u001b[38;5;241;43m.\u001b[39;49m\u001b[43m_mgr\u001b[49m\u001b[38;5;241;43m.\u001b[39;49m\u001b[43mas_array\u001b[49m\u001b[43m(\u001b[49m\u001b[43mdtype\u001b[49m\u001b[38;5;241;43m=\u001b[39;49m\u001b[43mdtype\u001b[49m\u001b[43m,\u001b[49m\u001b[43m \u001b[49m\u001b[43mcopy\u001b[49m\u001b[38;5;241;43m=\u001b[39;49m\u001b[43mcopy\u001b[49m\u001b[43m,\u001b[49m\u001b[43m \u001b[49m\u001b[43mna_value\u001b[49m\u001b[38;5;241;43m=\u001b[39;49m\u001b[43mna_value\u001b[49m\u001b[43m)\u001b[49m\n\u001b[0;32m   1890\u001b[0m \u001b[38;5;28;01mif\u001b[39;00m result\u001b[38;5;241m.\u001b[39mdtype \u001b[38;5;129;01mis\u001b[39;00m \u001b[38;5;129;01mnot\u001b[39;00m dtype:\n\u001b[0;32m   1891\u001b[0m     result \u001b[38;5;241m=\u001b[39m np\u001b[38;5;241m.\u001b[39marray(result, dtype\u001b[38;5;241m=\u001b[39mdtype, copy\u001b[38;5;241m=\u001b[39m\u001b[38;5;28;01mFalse\u001b[39;00m)\n",
      "File \u001b[1;32m~\\AppData\\Local\\Programs\\Python\\Python312\\Lib\\site-packages\\pandas\\core\\internals\\managers.py:1656\u001b[0m, in \u001b[0;36mBlockManager.as_array\u001b[1;34m(self, dtype, copy, na_value)\u001b[0m\n\u001b[0;32m   1654\u001b[0m         arr\u001b[38;5;241m.\u001b[39mflags\u001b[38;5;241m.\u001b[39mwriteable \u001b[38;5;241m=\u001b[39m \u001b[38;5;28;01mFalse\u001b[39;00m\n\u001b[0;32m   1655\u001b[0m \u001b[38;5;28;01melse\u001b[39;00m:\n\u001b[1;32m-> 1656\u001b[0m     arr \u001b[38;5;241m=\u001b[39m \u001b[38;5;28;43mself\u001b[39;49m\u001b[38;5;241;43m.\u001b[39;49m\u001b[43m_interleave\u001b[49m\u001b[43m(\u001b[49m\u001b[43mdtype\u001b[49m\u001b[38;5;241;43m=\u001b[39;49m\u001b[43mdtype\u001b[49m\u001b[43m,\u001b[49m\u001b[43m \u001b[49m\u001b[43mna_value\u001b[49m\u001b[38;5;241;43m=\u001b[39;49m\u001b[43mna_value\u001b[49m\u001b[43m)\u001b[49m\n\u001b[0;32m   1657\u001b[0m     \u001b[38;5;66;03m# The underlying data was copied within _interleave, so no need\u001b[39;00m\n\u001b[0;32m   1658\u001b[0m     \u001b[38;5;66;03m# to further copy if copy=True or setting na_value\u001b[39;00m\n\u001b[0;32m   1660\u001b[0m \u001b[38;5;28;01mif\u001b[39;00m na_value \u001b[38;5;129;01mis\u001b[39;00m lib\u001b[38;5;241m.\u001b[39mno_default:\n",
      "File \u001b[1;32m~\\AppData\\Local\\Programs\\Python\\Python312\\Lib\\site-packages\\pandas\\core\\internals\\managers.py:1715\u001b[0m, in \u001b[0;36mBlockManager._interleave\u001b[1;34m(self, dtype, na_value)\u001b[0m\n\u001b[0;32m   1713\u001b[0m     \u001b[38;5;28;01melse\u001b[39;00m:\n\u001b[0;32m   1714\u001b[0m         arr \u001b[38;5;241m=\u001b[39m blk\u001b[38;5;241m.\u001b[39mget_values(dtype)\n\u001b[1;32m-> 1715\u001b[0m     \u001b[43mresult\u001b[49m\u001b[43m[\u001b[49m\u001b[43mrl\u001b[49m\u001b[38;5;241;43m.\u001b[39;49m\u001b[43mindexer\u001b[49m\u001b[43m]\u001b[49m \u001b[38;5;241m=\u001b[39m arr\n\u001b[0;32m   1716\u001b[0m     itemmask[rl\u001b[38;5;241m.\u001b[39mindexer] \u001b[38;5;241m=\u001b[39m \u001b[38;5;241m1\u001b[39m\n\u001b[0;32m   1718\u001b[0m \u001b[38;5;28;01mif\u001b[39;00m \u001b[38;5;129;01mnot\u001b[39;00m itemmask\u001b[38;5;241m.\u001b[39mall():\n",
      "\u001b[1;31mValueError\u001b[0m: could not convert string to float: 'springer'"
     ]
    },
    {
     "data": {
      "text/plain": [
       "<Figure size 1200x1200 with 0 Axes>"
      ]
     },
     "metadata": {},
     "output_type": "display_data"
    }
   ],
   "source": [
    "#checking for the correlation between the columns\n",
    "plt.figure(figsize=(12,12))\n",
    "corr=bike_df1.corr()\n",
    "sns.heatmap(corr,annot = True, cmap='Blues')"
   ]
  },
  {
   "cell_type": "markdown",
   "id": "b9f436d2",
   "metadata": {
    "id": "b9f436d2"
   },
   "source": [
    "1. Registered column and Cnt column are highly corelated (0.97) and therefore any one can be dropped.\n",
    "2. Temp column and Atemp column are also highly cocrelated(0.99) and therefore any one can be dropped.\n",
    "3. Cnt column are also strongly  corelated  with casual column (0.69).\n",
    "4. Cnt column is negatively corelated with hum column(-0.32) and holiday column(-0.03).\n",
    "5. Temp and Atemp are positively coreated with cnt column (0.4) "
   ]
  },
  {
   "cell_type": "code",
   "execution_count": null,
   "id": "a666c0ba",
   "metadata": {
    "id": "a666c0ba"
   },
   "outputs": [],
   "source": [
    "bike_df1.drop(['registered', 'atemp', 'yr'], axis=1, inplace=True)"
   ]
  },
  {
   "cell_type": "code",
   "execution_count": null,
   "id": "db5e80d5",
   "metadata": {
    "colab": {
     "base_uri": "https://localhost:8080/"
    },
    "id": "db5e80d5",
    "outputId": "e1bb09db-2d60-4a9c-b9df-0d8ba9bfd294",
    "scrolled": true
   },
   "outputs": [],
   "source": [
    "bike_df1.columns"
   ]
  },
  {
   "cell_type": "code",
   "execution_count": null,
   "id": "dbdc775e",
   "metadata": {
    "colab": {
     "base_uri": "https://localhost:8080/"
    },
    "id": "dbdc775e",
    "outputId": "934e5475-4d6a-4df2-eadd-8ed4b9b7de0f"
   },
   "outputs": [],
   "source": [
    "bike_df1.shape"
   ]
  },
  {
   "cell_type": "markdown",
   "id": "804c74ef",
   "metadata": {
    "id": "804c74ef"
   },
   "source": [
    "# Finding and handeling the outliers"
   ]
  },
  {
   "cell_type": "code",
   "execution_count": null,
   "id": "efc81a0e",
   "metadata": {
    "colab": {
     "base_uri": "https://localhost:8080/",
     "height": 391
    },
    "id": "efc81a0e",
    "outputId": "0df316c3-461a-4966-d09d-f14f2dbcf309"
   },
   "outputs": [],
   "source": [
    "# boxplot of temp column\n",
    "plt.figure(figsize=(8,4))\n",
    "sns.boxplot(bike_df1['temp'])\n",
    "plt.title(\"Boxplot of Temp column\")\n",
    "plt.show()"
   ]
  },
  {
   "cell_type": "markdown",
   "id": "d1cb7a7b",
   "metadata": {
    "id": "d1cb7a7b"
   },
   "source": [
    "No outliers found in Temp column"
   ]
  },
  {
   "cell_type": "code",
   "execution_count": null,
   "id": "4ba96d96",
   "metadata": {
    "colab": {
     "base_uri": "https://localhost:8080/",
     "height": 391
    },
    "id": "4ba96d96",
    "outputId": "bc41109a-97f3-4096-e578-9ff27cac0f75"
   },
   "outputs": [],
   "source": [
    "# boxplot of hum column\n",
    "plt.figure(figsize=(8,4))\n",
    "sns.boxplot(bike_df1['hum'])\n",
    "plt.title(\"Boxplot of hum column\")\n",
    "plt.show()"
   ]
  },
  {
   "cell_type": "markdown",
   "id": "a0406185",
   "metadata": {
    "id": "a0406185"
   },
   "source": [
    "Only one outlier is found in hum column and can be neglected or can be found and deleted. since it is neglegible, we hvae ignored it"
   ]
  },
  {
   "cell_type": "code",
   "execution_count": null,
   "id": "9fc17cf3",
   "metadata": {
    "colab": {
     "base_uri": "https://localhost:8080/",
     "height": 391
    },
    "id": "9fc17cf3",
    "outputId": "73b5b0b9-09a1-427a-85ce-27bb52b34b0a"
   },
   "outputs": [],
   "source": [
    "# boxplot of windspeed column\n",
    "plt.figure(figsize=(8,4))\n",
    "sns.boxplot(bike_df1['windspeed'])\n",
    "plt.title(\"Boxplot of windspeed column\")\n",
    "plt.show()"
   ]
  },
  {
   "cell_type": "markdown",
   "id": "b3d8019a",
   "metadata": {
    "id": "b3d8019a"
   },
   "source": [
    "13 outliers are found in Windspeed column and can be neglected or can be found and deleted. since it is neglegible, we hvae ignored it"
   ]
  },
  {
   "cell_type": "code",
   "execution_count": null,
   "id": "cb15da83",
   "metadata": {
    "colab": {
     "base_uri": "https://localhost:8080/",
     "height": 843
    },
    "id": "cb15da83",
    "outputId": "1b9a40a3-c275-425f-c2f6-241d34fd89c0"
   },
   "outputs": [],
   "source": [
    "numerical_vars= ['casual', 'cnt']\n",
    "for col in numerical_vars:\n",
    "    sns.boxplot(bike_df1[col])\n",
    "    plt.show()"
   ]
  },
  {
   "cell_type": "markdown",
   "id": "7efb3cc8",
   "metadata": {
    "id": "7efb3cc8"
   },
   "source": [
    "Treating the outliers using Winsorizing method This process involves replacing the extreme values with the next highest or lowest value within a specified range."
   ]
  },
  {
   "cell_type": "code",
   "execution_count": 42,
   "id": "bc7832e5",
   "metadata": {
    "id": "bc7832e5"
   },
   "outputs": [
    {
     "ename": "TypeError",
     "evalue": "unsupported operand type(s) for -: 'str' and 'str'",
     "output_type": "error",
     "traceback": [
      "\u001b[1;31m---------------------------------------------------------------------------\u001b[0m",
      "\u001b[1;31mTypeError\u001b[0m                                 Traceback (most recent call last)",
      "Cell \u001b[1;32mIn[42], line 6\u001b[0m\n\u001b[0;32m      3\u001b[0m list_attributes \u001b[38;5;241m=\u001b[39m [\u001b[38;5;124m'\u001b[39m\u001b[38;5;124mcasual\u001b[39m\u001b[38;5;124m'\u001b[39m, \u001b[38;5;124m'\u001b[39m\u001b[38;5;124mcnt\u001b[39m\u001b[38;5;124m'\u001b[39m]\n\u001b[0;32m      5\u001b[0m \u001b[38;5;28;01mfor\u001b[39;00m attribute \u001b[38;5;129;01min\u001b[39;00m list_attributes:\n\u001b[1;32m----> 6\u001b[0m     q1 \u001b[38;5;241m=\u001b[39m \u001b[43mbike_df1\u001b[49m\u001b[43m[\u001b[49m\u001b[43mattribute\u001b[49m\u001b[43m]\u001b[49m\u001b[38;5;241;43m.\u001b[39;49m\u001b[43mquantile\u001b[49m\u001b[43m(\u001b[49m\u001b[38;5;241;43m0.25\u001b[39;49m\u001b[43m)\u001b[49m\n\u001b[0;32m      7\u001b[0m     q3 \u001b[38;5;241m=\u001b[39m bike_df1[attribute]\u001b[38;5;241m.\u001b[39mquantile(\u001b[38;5;241m0.75\u001b[39m)\n\u001b[0;32m      8\u001b[0m     iqr \u001b[38;5;241m=\u001b[39m q3 \u001b[38;5;241m-\u001b[39m q1\n",
      "File \u001b[1;32m~\\AppData\\Local\\Programs\\Python\\Python312\\Lib\\site-packages\\pandas\\core\\series.py:2769\u001b[0m, in \u001b[0;36mSeries.quantile\u001b[1;34m(self, q, interpolation)\u001b[0m\n\u001b[0;32m   2765\u001b[0m \u001b[38;5;66;03m# We dispatch to DataFrame so that core.internals only has to worry\u001b[39;00m\n\u001b[0;32m   2766\u001b[0m \u001b[38;5;66;03m#  about 2D cases.\u001b[39;00m\n\u001b[0;32m   2767\u001b[0m df \u001b[38;5;241m=\u001b[39m \u001b[38;5;28mself\u001b[39m\u001b[38;5;241m.\u001b[39mto_frame()\n\u001b[1;32m-> 2769\u001b[0m result \u001b[38;5;241m=\u001b[39m \u001b[43mdf\u001b[49m\u001b[38;5;241;43m.\u001b[39;49m\u001b[43mquantile\u001b[49m\u001b[43m(\u001b[49m\u001b[43mq\u001b[49m\u001b[38;5;241;43m=\u001b[39;49m\u001b[43mq\u001b[49m\u001b[43m,\u001b[49m\u001b[43m \u001b[49m\u001b[43minterpolation\u001b[49m\u001b[38;5;241;43m=\u001b[39;49m\u001b[43minterpolation\u001b[49m\u001b[43m,\u001b[49m\u001b[43m \u001b[49m\u001b[43mnumeric_only\u001b[49m\u001b[38;5;241;43m=\u001b[39;49m\u001b[38;5;28;43;01mFalse\u001b[39;49;00m\u001b[43m)\u001b[49m\n\u001b[0;32m   2770\u001b[0m \u001b[38;5;28;01mif\u001b[39;00m result\u001b[38;5;241m.\u001b[39mndim \u001b[38;5;241m==\u001b[39m \u001b[38;5;241m2\u001b[39m:\n\u001b[0;32m   2771\u001b[0m     result \u001b[38;5;241m=\u001b[39m result\u001b[38;5;241m.\u001b[39miloc[:, \u001b[38;5;241m0\u001b[39m]\n",
      "File \u001b[1;32m~\\AppData\\Local\\Programs\\Python\\Python312\\Lib\\site-packages\\pandas\\core\\frame.py:11786\u001b[0m, in \u001b[0;36mDataFrame.quantile\u001b[1;34m(self, q, axis, numeric_only, interpolation, method)\u001b[0m\n\u001b[0;32m  11779\u001b[0m axis \u001b[38;5;241m=\u001b[39m \u001b[38;5;28mself\u001b[39m\u001b[38;5;241m.\u001b[39m_get_axis_number(axis)\n\u001b[0;32m  11781\u001b[0m \u001b[38;5;28;01mif\u001b[39;00m \u001b[38;5;129;01mnot\u001b[39;00m is_list_like(q):\n\u001b[0;32m  11782\u001b[0m     \u001b[38;5;66;03m# BlockManager.quantile expects listlike, so we wrap and unwrap here\u001b[39;00m\n\u001b[0;32m  11783\u001b[0m     \u001b[38;5;66;03m# error: List item 0 has incompatible type \"Union[float, Union[Union[\u001b[39;00m\n\u001b[0;32m  11784\u001b[0m     \u001b[38;5;66;03m# ExtensionArray, ndarray[Any, Any]], Index, Series], Sequence[float]]\";\u001b[39;00m\n\u001b[0;32m  11785\u001b[0m     \u001b[38;5;66;03m# expected \"float\"\u001b[39;00m\n\u001b[1;32m> 11786\u001b[0m     res_df \u001b[38;5;241m=\u001b[39m \u001b[38;5;28;43mself\u001b[39;49m\u001b[38;5;241;43m.\u001b[39;49m\u001b[43mquantile\u001b[49m\u001b[43m(\u001b[49m\u001b[43m  \u001b[49m\u001b[38;5;66;43;03m# type: ignore[call-overload]\u001b[39;49;00m\n\u001b[0;32m  11787\u001b[0m \u001b[43m        \u001b[49m\u001b[43m[\u001b[49m\u001b[43mq\u001b[49m\u001b[43m]\u001b[49m\u001b[43m,\u001b[49m\n\u001b[0;32m  11788\u001b[0m \u001b[43m        \u001b[49m\u001b[43maxis\u001b[49m\u001b[38;5;241;43m=\u001b[39;49m\u001b[43maxis\u001b[49m\u001b[43m,\u001b[49m\n\u001b[0;32m  11789\u001b[0m \u001b[43m        \u001b[49m\u001b[43mnumeric_only\u001b[49m\u001b[38;5;241;43m=\u001b[39;49m\u001b[43mnumeric_only\u001b[49m\u001b[43m,\u001b[49m\n\u001b[0;32m  11790\u001b[0m \u001b[43m        \u001b[49m\u001b[43minterpolation\u001b[49m\u001b[38;5;241;43m=\u001b[39;49m\u001b[43minterpolation\u001b[49m\u001b[43m,\u001b[49m\n\u001b[0;32m  11791\u001b[0m \u001b[43m        \u001b[49m\u001b[43mmethod\u001b[49m\u001b[38;5;241;43m=\u001b[39;49m\u001b[43mmethod\u001b[49m\u001b[43m,\u001b[49m\n\u001b[0;32m  11792\u001b[0m \u001b[43m    \u001b[49m\u001b[43m)\u001b[49m\n\u001b[0;32m  11793\u001b[0m     \u001b[38;5;28;01mif\u001b[39;00m method \u001b[38;5;241m==\u001b[39m \u001b[38;5;124m\"\u001b[39m\u001b[38;5;124msingle\u001b[39m\u001b[38;5;124m\"\u001b[39m:\n\u001b[0;32m  11794\u001b[0m         res \u001b[38;5;241m=\u001b[39m res_df\u001b[38;5;241m.\u001b[39miloc[\u001b[38;5;241m0\u001b[39m]\n",
      "File \u001b[1;32m~\\AppData\\Local\\Programs\\Python\\Python312\\Lib\\site-packages\\pandas\\core\\frame.py:11831\u001b[0m, in \u001b[0;36mDataFrame.quantile\u001b[1;34m(self, q, axis, numeric_only, interpolation, method)\u001b[0m\n\u001b[0;32m  11827\u001b[0m     \u001b[38;5;28;01mraise\u001b[39;00m \u001b[38;5;167;01mValueError\u001b[39;00m(\n\u001b[0;32m  11828\u001b[0m         \u001b[38;5;124mf\u001b[39m\u001b[38;5;124m\"\u001b[39m\u001b[38;5;124mInvalid method: \u001b[39m\u001b[38;5;132;01m{\u001b[39;00mmethod\u001b[38;5;132;01m}\u001b[39;00m\u001b[38;5;124m. Method must be in \u001b[39m\u001b[38;5;132;01m{\u001b[39;00mvalid_method\u001b[38;5;132;01m}\u001b[39;00m\u001b[38;5;124m.\u001b[39m\u001b[38;5;124m\"\u001b[39m\n\u001b[0;32m  11829\u001b[0m     )\n\u001b[0;32m  11830\u001b[0m \u001b[38;5;28;01mif\u001b[39;00m method \u001b[38;5;241m==\u001b[39m \u001b[38;5;124m\"\u001b[39m\u001b[38;5;124msingle\u001b[39m\u001b[38;5;124m\"\u001b[39m:\n\u001b[1;32m> 11831\u001b[0m     res \u001b[38;5;241m=\u001b[39m \u001b[43mdata\u001b[49m\u001b[38;5;241;43m.\u001b[39;49m\u001b[43m_mgr\u001b[49m\u001b[38;5;241;43m.\u001b[39;49m\u001b[43mquantile\u001b[49m\u001b[43m(\u001b[49m\u001b[43mqs\u001b[49m\u001b[38;5;241;43m=\u001b[39;49m\u001b[43mq\u001b[49m\u001b[43m,\u001b[49m\u001b[43m \u001b[49m\u001b[43minterpolation\u001b[49m\u001b[38;5;241;43m=\u001b[39;49m\u001b[43minterpolation\u001b[49m\u001b[43m)\u001b[49m\n\u001b[0;32m  11832\u001b[0m \u001b[38;5;28;01melif\u001b[39;00m method \u001b[38;5;241m==\u001b[39m \u001b[38;5;124m\"\u001b[39m\u001b[38;5;124mtable\u001b[39m\u001b[38;5;124m\"\u001b[39m:\n\u001b[0;32m  11833\u001b[0m     valid_interpolation \u001b[38;5;241m=\u001b[39m {\u001b[38;5;124m\"\u001b[39m\u001b[38;5;124mnearest\u001b[39m\u001b[38;5;124m\"\u001b[39m, \u001b[38;5;124m\"\u001b[39m\u001b[38;5;124mlower\u001b[39m\u001b[38;5;124m\"\u001b[39m, \u001b[38;5;124m\"\u001b[39m\u001b[38;5;124mhigher\u001b[39m\u001b[38;5;124m\"\u001b[39m}\n",
      "File \u001b[1;32m~\\AppData\\Local\\Programs\\Python\\Python312\\Lib\\site-packages\\pandas\\core\\internals\\managers.py:1508\u001b[0m, in \u001b[0;36mBlockManager.quantile\u001b[1;34m(self, qs, interpolation)\u001b[0m\n\u001b[0;32m   1504\u001b[0m new_axes \u001b[38;5;241m=\u001b[39m \u001b[38;5;28mlist\u001b[39m(\u001b[38;5;28mself\u001b[39m\u001b[38;5;241m.\u001b[39maxes)\n\u001b[0;32m   1505\u001b[0m new_axes[\u001b[38;5;241m1\u001b[39m] \u001b[38;5;241m=\u001b[39m Index(qs, dtype\u001b[38;5;241m=\u001b[39mnp\u001b[38;5;241m.\u001b[39mfloat64)\n\u001b[0;32m   1507\u001b[0m blocks \u001b[38;5;241m=\u001b[39m [\n\u001b[1;32m-> 1508\u001b[0m     \u001b[43mblk\u001b[49m\u001b[38;5;241;43m.\u001b[39;49m\u001b[43mquantile\u001b[49m\u001b[43m(\u001b[49m\u001b[43mqs\u001b[49m\u001b[38;5;241;43m=\u001b[39;49m\u001b[43mqs\u001b[49m\u001b[43m,\u001b[49m\u001b[43m \u001b[49m\u001b[43minterpolation\u001b[49m\u001b[38;5;241;43m=\u001b[39;49m\u001b[43minterpolation\u001b[49m\u001b[43m)\u001b[49m \u001b[38;5;28;01mfor\u001b[39;00m blk \u001b[38;5;129;01min\u001b[39;00m \u001b[38;5;28mself\u001b[39m\u001b[38;5;241m.\u001b[39mblocks\n\u001b[0;32m   1509\u001b[0m ]\n\u001b[0;32m   1511\u001b[0m \u001b[38;5;28;01mreturn\u001b[39;00m \u001b[38;5;28mtype\u001b[39m(\u001b[38;5;28mself\u001b[39m)(blocks, new_axes)\n",
      "File \u001b[1;32m~\\AppData\\Local\\Programs\\Python\\Python312\\Lib\\site-packages\\pandas\\core\\internals\\blocks.py:1587\u001b[0m, in \u001b[0;36mBlock.quantile\u001b[1;34m(self, qs, interpolation)\u001b[0m\n\u001b[0;32m   1584\u001b[0m \u001b[38;5;28;01massert\u001b[39;00m \u001b[38;5;28mself\u001b[39m\u001b[38;5;241m.\u001b[39mndim \u001b[38;5;241m==\u001b[39m \u001b[38;5;241m2\u001b[39m\n\u001b[0;32m   1585\u001b[0m \u001b[38;5;28;01massert\u001b[39;00m is_list_like(qs)  \u001b[38;5;66;03m# caller is responsible for this\u001b[39;00m\n\u001b[1;32m-> 1587\u001b[0m result \u001b[38;5;241m=\u001b[39m \u001b[43mquantile_compat\u001b[49m\u001b[43m(\u001b[49m\u001b[38;5;28;43mself\u001b[39;49m\u001b[38;5;241;43m.\u001b[39;49m\u001b[43mvalues\u001b[49m\u001b[43m,\u001b[49m\u001b[43m \u001b[49m\u001b[43mnp\u001b[49m\u001b[38;5;241;43m.\u001b[39;49m\u001b[43masarray\u001b[49m\u001b[43m(\u001b[49m\u001b[43mqs\u001b[49m\u001b[38;5;241;43m.\u001b[39;49m\u001b[43m_values\u001b[49m\u001b[43m)\u001b[49m\u001b[43m,\u001b[49m\u001b[43m \u001b[49m\u001b[43minterpolation\u001b[49m\u001b[43m)\u001b[49m\n\u001b[0;32m   1588\u001b[0m \u001b[38;5;66;03m# ensure_block_shape needed for cases where we start with EA and result\u001b[39;00m\n\u001b[0;32m   1589\u001b[0m \u001b[38;5;66;03m#  is ndarray, e.g. IntegerArray, SparseArray\u001b[39;00m\n\u001b[0;32m   1590\u001b[0m result \u001b[38;5;241m=\u001b[39m ensure_block_shape(result, ndim\u001b[38;5;241m=\u001b[39m\u001b[38;5;241m2\u001b[39m)\n",
      "File \u001b[1;32m~\\AppData\\Local\\Programs\\Python\\Python312\\Lib\\site-packages\\pandas\\core\\array_algos\\quantile.py:39\u001b[0m, in \u001b[0;36mquantile_compat\u001b[1;34m(values, qs, interpolation)\u001b[0m\n\u001b[0;32m     37\u001b[0m     fill_value \u001b[38;5;241m=\u001b[39m na_value_for_dtype(values\u001b[38;5;241m.\u001b[39mdtype, compat\u001b[38;5;241m=\u001b[39m\u001b[38;5;28;01mFalse\u001b[39;00m)\n\u001b[0;32m     38\u001b[0m     mask \u001b[38;5;241m=\u001b[39m isna(values)\n\u001b[1;32m---> 39\u001b[0m     \u001b[38;5;28;01mreturn\u001b[39;00m \u001b[43mquantile_with_mask\u001b[49m\u001b[43m(\u001b[49m\u001b[43mvalues\u001b[49m\u001b[43m,\u001b[49m\u001b[43m \u001b[49m\u001b[43mmask\u001b[49m\u001b[43m,\u001b[49m\u001b[43m \u001b[49m\u001b[43mfill_value\u001b[49m\u001b[43m,\u001b[49m\u001b[43m \u001b[49m\u001b[43mqs\u001b[49m\u001b[43m,\u001b[49m\u001b[43m \u001b[49m\u001b[43minterpolation\u001b[49m\u001b[43m)\u001b[49m\n\u001b[0;32m     40\u001b[0m \u001b[38;5;28;01melse\u001b[39;00m:\n\u001b[0;32m     41\u001b[0m     \u001b[38;5;28;01mreturn\u001b[39;00m values\u001b[38;5;241m.\u001b[39m_quantile(qs, interpolation)\n",
      "File \u001b[1;32m~\\AppData\\Local\\Programs\\Python\\Python312\\Lib\\site-packages\\pandas\\core\\array_algos\\quantile.py:97\u001b[0m, in \u001b[0;36mquantile_with_mask\u001b[1;34m(values, mask, fill_value, qs, interpolation)\u001b[0m\n\u001b[0;32m     95\u001b[0m     result \u001b[38;5;241m=\u001b[39m np\u001b[38;5;241m.\u001b[39mrepeat(flat, \u001b[38;5;28mlen\u001b[39m(values))\u001b[38;5;241m.\u001b[39mreshape(\u001b[38;5;28mlen\u001b[39m(values), \u001b[38;5;28mlen\u001b[39m(qs))\n\u001b[0;32m     96\u001b[0m \u001b[38;5;28;01melse\u001b[39;00m:\n\u001b[1;32m---> 97\u001b[0m     result \u001b[38;5;241m=\u001b[39m \u001b[43m_nanpercentile\u001b[49m\u001b[43m(\u001b[49m\n\u001b[0;32m     98\u001b[0m \u001b[43m        \u001b[49m\u001b[43mvalues\u001b[49m\u001b[43m,\u001b[49m\n\u001b[0;32m     99\u001b[0m \u001b[43m        \u001b[49m\u001b[43mqs\u001b[49m\u001b[43m \u001b[49m\u001b[38;5;241;43m*\u001b[39;49m\u001b[43m \u001b[49m\u001b[38;5;241;43m100.0\u001b[39;49m\u001b[43m,\u001b[49m\n\u001b[0;32m    100\u001b[0m \u001b[43m        \u001b[49m\u001b[43mna_value\u001b[49m\u001b[38;5;241;43m=\u001b[39;49m\u001b[43mfill_value\u001b[49m\u001b[43m,\u001b[49m\n\u001b[0;32m    101\u001b[0m \u001b[43m        \u001b[49m\u001b[43mmask\u001b[49m\u001b[38;5;241;43m=\u001b[39;49m\u001b[43mmask\u001b[49m\u001b[43m,\u001b[49m\n\u001b[0;32m    102\u001b[0m \u001b[43m        \u001b[49m\u001b[43minterpolation\u001b[49m\u001b[38;5;241;43m=\u001b[39;49m\u001b[43minterpolation\u001b[49m\u001b[43m,\u001b[49m\n\u001b[0;32m    103\u001b[0m \u001b[43m    \u001b[49m\u001b[43m)\u001b[49m\n\u001b[0;32m    105\u001b[0m     result \u001b[38;5;241m=\u001b[39m np\u001b[38;5;241m.\u001b[39marray(result, copy\u001b[38;5;241m=\u001b[39m\u001b[38;5;28;01mFalse\u001b[39;00m)\n\u001b[0;32m    106\u001b[0m     result \u001b[38;5;241m=\u001b[39m result\u001b[38;5;241m.\u001b[39mT\n",
      "File \u001b[1;32m~\\AppData\\Local\\Programs\\Python\\Python312\\Lib\\site-packages\\pandas\\core\\array_algos\\quantile.py:218\u001b[0m, in \u001b[0;36m_nanpercentile\u001b[1;34m(values, qs, na_value, mask, interpolation)\u001b[0m\n\u001b[0;32m    216\u001b[0m     \u001b[38;5;28;01mreturn\u001b[39;00m result\n\u001b[0;32m    217\u001b[0m \u001b[38;5;28;01melse\u001b[39;00m:\n\u001b[1;32m--> 218\u001b[0m     \u001b[38;5;28;01mreturn\u001b[39;00m \u001b[43mnp\u001b[49m\u001b[38;5;241;43m.\u001b[39;49m\u001b[43mpercentile\u001b[49m\u001b[43m(\u001b[49m\n\u001b[0;32m    219\u001b[0m \u001b[43m        \u001b[49m\u001b[43mvalues\u001b[49m\u001b[43m,\u001b[49m\n\u001b[0;32m    220\u001b[0m \u001b[43m        \u001b[49m\u001b[43mqs\u001b[49m\u001b[43m,\u001b[49m\n\u001b[0;32m    221\u001b[0m \u001b[43m        \u001b[49m\u001b[43maxis\u001b[49m\u001b[38;5;241;43m=\u001b[39;49m\u001b[38;5;241;43m1\u001b[39;49m\u001b[43m,\u001b[49m\n\u001b[0;32m    222\u001b[0m \u001b[43m        \u001b[49m\u001b[38;5;66;43;03m# error: No overload variant of \"percentile\" matches argument types\u001b[39;49;00m\n\u001b[0;32m    223\u001b[0m \u001b[43m        \u001b[49m\u001b[38;5;66;43;03m# \"ndarray[Any, Any]\", \"ndarray[Any, dtype[floating[_64Bit]]]\",\u001b[39;49;00m\n\u001b[0;32m    224\u001b[0m \u001b[43m        \u001b[49m\u001b[38;5;66;43;03m# \"int\", \"Dict[str, str]\"  [call-overload]\u001b[39;49;00m\n\u001b[0;32m    225\u001b[0m \u001b[43m        \u001b[49m\u001b[43mmethod\u001b[49m\u001b[38;5;241;43m=\u001b[39;49m\u001b[43minterpolation\u001b[49m\u001b[43m,\u001b[49m\u001b[43m  \u001b[49m\u001b[38;5;66;43;03m# type: ignore[call-overload]\u001b[39;49;00m\n\u001b[0;32m    226\u001b[0m \u001b[43m    \u001b[49m\u001b[43m)\u001b[49m\n",
      "File \u001b[1;32m~\\AppData\\Local\\Programs\\Python\\Python312\\Lib\\site-packages\\numpy\\lib\\function_base.py:4283\u001b[0m, in \u001b[0;36mpercentile\u001b[1;34m(a, q, axis, out, overwrite_input, method, keepdims, interpolation)\u001b[0m\n\u001b[0;32m   4281\u001b[0m \u001b[38;5;28;01mif\u001b[39;00m \u001b[38;5;129;01mnot\u001b[39;00m _quantile_is_valid(q):\n\u001b[0;32m   4282\u001b[0m     \u001b[38;5;28;01mraise\u001b[39;00m \u001b[38;5;167;01mValueError\u001b[39;00m(\u001b[38;5;124m\"\u001b[39m\u001b[38;5;124mPercentiles must be in the range [0, 100]\u001b[39m\u001b[38;5;124m\"\u001b[39m)\n\u001b[1;32m-> 4283\u001b[0m \u001b[38;5;28;01mreturn\u001b[39;00m \u001b[43m_quantile_unchecked\u001b[49m\u001b[43m(\u001b[49m\n\u001b[0;32m   4284\u001b[0m \u001b[43m    \u001b[49m\u001b[43ma\u001b[49m\u001b[43m,\u001b[49m\u001b[43m \u001b[49m\u001b[43mq\u001b[49m\u001b[43m,\u001b[49m\u001b[43m \u001b[49m\u001b[43maxis\u001b[49m\u001b[43m,\u001b[49m\u001b[43m \u001b[49m\u001b[43mout\u001b[49m\u001b[43m,\u001b[49m\u001b[43m \u001b[49m\u001b[43moverwrite_input\u001b[49m\u001b[43m,\u001b[49m\u001b[43m \u001b[49m\u001b[43mmethod\u001b[49m\u001b[43m,\u001b[49m\u001b[43m \u001b[49m\u001b[43mkeepdims\u001b[49m\u001b[43m)\u001b[49m\n",
      "File \u001b[1;32m~\\AppData\\Local\\Programs\\Python\\Python312\\Lib\\site-packages\\numpy\\lib\\function_base.py:4555\u001b[0m, in \u001b[0;36m_quantile_unchecked\u001b[1;34m(a, q, axis, out, overwrite_input, method, keepdims)\u001b[0m\n\u001b[0;32m   4547\u001b[0m \u001b[38;5;28;01mdef\u001b[39;00m \u001b[38;5;21m_quantile_unchecked\u001b[39m(a,\n\u001b[0;32m   4548\u001b[0m                         q,\n\u001b[0;32m   4549\u001b[0m                         axis\u001b[38;5;241m=\u001b[39m\u001b[38;5;28;01mNone\u001b[39;00m,\n\u001b[1;32m   (...)\u001b[0m\n\u001b[0;32m   4552\u001b[0m                         method\u001b[38;5;241m=\u001b[39m\u001b[38;5;124m\"\u001b[39m\u001b[38;5;124mlinear\u001b[39m\u001b[38;5;124m\"\u001b[39m,\n\u001b[0;32m   4553\u001b[0m                         keepdims\u001b[38;5;241m=\u001b[39m\u001b[38;5;28;01mFalse\u001b[39;00m):\n\u001b[0;32m   4554\u001b[0m \u001b[38;5;250m    \u001b[39m\u001b[38;5;124;03m\"\"\"Assumes that q is in [0, 1], and is an ndarray\"\"\"\u001b[39;00m\n\u001b[1;32m-> 4555\u001b[0m     \u001b[38;5;28;01mreturn\u001b[39;00m \u001b[43m_ureduce\u001b[49m\u001b[43m(\u001b[49m\u001b[43ma\u001b[49m\u001b[43m,\u001b[49m\n\u001b[0;32m   4556\u001b[0m \u001b[43m                    \u001b[49m\u001b[43mfunc\u001b[49m\u001b[38;5;241;43m=\u001b[39;49m\u001b[43m_quantile_ureduce_func\u001b[49m\u001b[43m,\u001b[49m\n\u001b[0;32m   4557\u001b[0m \u001b[43m                    \u001b[49m\u001b[43mq\u001b[49m\u001b[38;5;241;43m=\u001b[39;49m\u001b[43mq\u001b[49m\u001b[43m,\u001b[49m\n\u001b[0;32m   4558\u001b[0m \u001b[43m                    \u001b[49m\u001b[43mkeepdims\u001b[49m\u001b[38;5;241;43m=\u001b[39;49m\u001b[43mkeepdims\u001b[49m\u001b[43m,\u001b[49m\n\u001b[0;32m   4559\u001b[0m \u001b[43m                    \u001b[49m\u001b[43maxis\u001b[49m\u001b[38;5;241;43m=\u001b[39;49m\u001b[43maxis\u001b[49m\u001b[43m,\u001b[49m\n\u001b[0;32m   4560\u001b[0m \u001b[43m                    \u001b[49m\u001b[43mout\u001b[49m\u001b[38;5;241;43m=\u001b[39;49m\u001b[43mout\u001b[49m\u001b[43m,\u001b[49m\n\u001b[0;32m   4561\u001b[0m \u001b[43m                    \u001b[49m\u001b[43moverwrite_input\u001b[49m\u001b[38;5;241;43m=\u001b[39;49m\u001b[43moverwrite_input\u001b[49m\u001b[43m,\u001b[49m\n\u001b[0;32m   4562\u001b[0m \u001b[43m                    \u001b[49m\u001b[43mmethod\u001b[49m\u001b[38;5;241;43m=\u001b[39;49m\u001b[43mmethod\u001b[49m\u001b[43m)\u001b[49m\n",
      "File \u001b[1;32m~\\AppData\\Local\\Programs\\Python\\Python312\\Lib\\site-packages\\numpy\\lib\\function_base.py:3823\u001b[0m, in \u001b[0;36m_ureduce\u001b[1;34m(a, func, keepdims, **kwargs)\u001b[0m\n\u001b[0;32m   3820\u001b[0m             index_out \u001b[38;5;241m=\u001b[39m (\u001b[38;5;241m0\u001b[39m, ) \u001b[38;5;241m*\u001b[39m nd\n\u001b[0;32m   3821\u001b[0m             kwargs[\u001b[38;5;124m'\u001b[39m\u001b[38;5;124mout\u001b[39m\u001b[38;5;124m'\u001b[39m] \u001b[38;5;241m=\u001b[39m out[(\u001b[38;5;28mEllipsis\u001b[39m, ) \u001b[38;5;241m+\u001b[39m index_out]\n\u001b[1;32m-> 3823\u001b[0m r \u001b[38;5;241m=\u001b[39m \u001b[43mfunc\u001b[49m\u001b[43m(\u001b[49m\u001b[43ma\u001b[49m\u001b[43m,\u001b[49m\u001b[43m \u001b[49m\u001b[38;5;241;43m*\u001b[39;49m\u001b[38;5;241;43m*\u001b[39;49m\u001b[43mkwargs\u001b[49m\u001b[43m)\u001b[49m\n\u001b[0;32m   3825\u001b[0m \u001b[38;5;28;01mif\u001b[39;00m out \u001b[38;5;129;01mis\u001b[39;00m \u001b[38;5;129;01mnot\u001b[39;00m \u001b[38;5;28;01mNone\u001b[39;00m:\n\u001b[0;32m   3826\u001b[0m     \u001b[38;5;28;01mreturn\u001b[39;00m out\n",
      "File \u001b[1;32m~\\AppData\\Local\\Programs\\Python\\Python312\\Lib\\site-packages\\numpy\\lib\\function_base.py:4721\u001b[0m, in \u001b[0;36m_quantile_ureduce_func\u001b[1;34m(a, q, axis, out, overwrite_input, method)\u001b[0m\n\u001b[0;32m   4719\u001b[0m     \u001b[38;5;28;01melse\u001b[39;00m:\n\u001b[0;32m   4720\u001b[0m         arr \u001b[38;5;241m=\u001b[39m a\u001b[38;5;241m.\u001b[39mcopy()\n\u001b[1;32m-> 4721\u001b[0m result \u001b[38;5;241m=\u001b[39m \u001b[43m_quantile\u001b[49m\u001b[43m(\u001b[49m\u001b[43marr\u001b[49m\u001b[43m,\u001b[49m\n\u001b[0;32m   4722\u001b[0m \u001b[43m                   \u001b[49m\u001b[43mquantiles\u001b[49m\u001b[38;5;241;43m=\u001b[39;49m\u001b[43mq\u001b[49m\u001b[43m,\u001b[49m\n\u001b[0;32m   4723\u001b[0m \u001b[43m                   \u001b[49m\u001b[43maxis\u001b[49m\u001b[38;5;241;43m=\u001b[39;49m\u001b[43maxis\u001b[49m\u001b[43m,\u001b[49m\n\u001b[0;32m   4724\u001b[0m \u001b[43m                   \u001b[49m\u001b[43mmethod\u001b[49m\u001b[38;5;241;43m=\u001b[39;49m\u001b[43mmethod\u001b[49m\u001b[43m,\u001b[49m\n\u001b[0;32m   4725\u001b[0m \u001b[43m                   \u001b[49m\u001b[43mout\u001b[49m\u001b[38;5;241;43m=\u001b[39;49m\u001b[43mout\u001b[49m\u001b[43m)\u001b[49m\n\u001b[0;32m   4726\u001b[0m \u001b[38;5;28;01mreturn\u001b[39;00m result\n",
      "File \u001b[1;32m~\\AppData\\Local\\Programs\\Python\\Python312\\Lib\\site-packages\\numpy\\lib\\function_base.py:4840\u001b[0m, in \u001b[0;36m_quantile\u001b[1;34m(arr, quantiles, axis, method, out)\u001b[0m\n\u001b[0;32m   4838\u001b[0m     result_shape \u001b[38;5;241m=\u001b[39m virtual_indexes\u001b[38;5;241m.\u001b[39mshape \u001b[38;5;241m+\u001b[39m (\u001b[38;5;241m1\u001b[39m,) \u001b[38;5;241m*\u001b[39m (arr\u001b[38;5;241m.\u001b[39mndim \u001b[38;5;241m-\u001b[39m \u001b[38;5;241m1\u001b[39m)\n\u001b[0;32m   4839\u001b[0m     gamma \u001b[38;5;241m=\u001b[39m gamma\u001b[38;5;241m.\u001b[39mreshape(result_shape)\n\u001b[1;32m-> 4840\u001b[0m     result \u001b[38;5;241m=\u001b[39m \u001b[43m_lerp\u001b[49m\u001b[43m(\u001b[49m\u001b[43mprevious\u001b[49m\u001b[43m,\u001b[49m\n\u001b[0;32m   4841\u001b[0m \u001b[43m                   \u001b[49m\u001b[38;5;28;43mnext\u001b[39;49m\u001b[43m,\u001b[49m\n\u001b[0;32m   4842\u001b[0m \u001b[43m                   \u001b[49m\u001b[43mgamma\u001b[49m\u001b[43m,\u001b[49m\n\u001b[0;32m   4843\u001b[0m \u001b[43m                   \u001b[49m\u001b[43mout\u001b[49m\u001b[38;5;241;43m=\u001b[39;49m\u001b[43mout\u001b[49m\u001b[43m)\u001b[49m\n\u001b[0;32m   4844\u001b[0m \u001b[38;5;28;01mif\u001b[39;00m np\u001b[38;5;241m.\u001b[39many(slices_having_nans):\n\u001b[0;32m   4845\u001b[0m     \u001b[38;5;28;01mif\u001b[39;00m result\u001b[38;5;241m.\u001b[39mndim \u001b[38;5;241m==\u001b[39m \u001b[38;5;241m0\u001b[39m \u001b[38;5;129;01mand\u001b[39;00m out \u001b[38;5;129;01mis\u001b[39;00m \u001b[38;5;28;01mNone\u001b[39;00m:\n\u001b[0;32m   4846\u001b[0m         \u001b[38;5;66;03m# can't write to a scalar, but indexing will be correct\u001b[39;00m\n",
      "File \u001b[1;32m~\\AppData\\Local\\Programs\\Python\\Python312\\Lib\\site-packages\\numpy\\lib\\function_base.py:4655\u001b[0m, in \u001b[0;36m_lerp\u001b[1;34m(a, b, t, out)\u001b[0m\n\u001b[0;32m   4641\u001b[0m \u001b[38;5;28;01mdef\u001b[39;00m \u001b[38;5;21m_lerp\u001b[39m(a, b, t, out\u001b[38;5;241m=\u001b[39m\u001b[38;5;28;01mNone\u001b[39;00m):\n\u001b[0;32m   4642\u001b[0m \u001b[38;5;250m    \u001b[39m\u001b[38;5;124;03m\"\"\"\u001b[39;00m\n\u001b[0;32m   4643\u001b[0m \u001b[38;5;124;03m    Compute the linear interpolation weighted by gamma on each point of\u001b[39;00m\n\u001b[0;32m   4644\u001b[0m \u001b[38;5;124;03m    two same shape array.\u001b[39;00m\n\u001b[1;32m   (...)\u001b[0m\n\u001b[0;32m   4653\u001b[0m \u001b[38;5;124;03m        Output array.\u001b[39;00m\n\u001b[0;32m   4654\u001b[0m \u001b[38;5;124;03m    \"\"\"\u001b[39;00m\n\u001b[1;32m-> 4655\u001b[0m     diff_b_a \u001b[38;5;241m=\u001b[39m \u001b[43msubtract\u001b[49m\u001b[43m(\u001b[49m\u001b[43mb\u001b[49m\u001b[43m,\u001b[49m\u001b[43m \u001b[49m\u001b[43ma\u001b[49m\u001b[43m)\u001b[49m\n\u001b[0;32m   4656\u001b[0m     \u001b[38;5;66;03m# asanyarray is a stop-gap until gh-13105\u001b[39;00m\n\u001b[0;32m   4657\u001b[0m     lerp_interpolation \u001b[38;5;241m=\u001b[39m asanyarray(add(a, diff_b_a \u001b[38;5;241m*\u001b[39m t, out\u001b[38;5;241m=\u001b[39mout))\n",
      "\u001b[1;31mTypeError\u001b[0m: unsupported operand type(s) for -: 'str' and 'str'"
     ]
    }
   ],
   "source": [
    "from scipy.stats.mstats import winsorize\n",
    "\n",
    "list_attributes = ['casual', 'cnt']\n",
    "\n",
    "for attribute in list_attributes:\n",
    "    q1 = bike_df1[attribute].quantile(0.25)\n",
    "    q3 = bike_df1[attribute].quantile(0.75)\n",
    "    iqr = q3 - q1\n",
    "    lower = q1 - 1.5*iqr\n",
    "    upper = q3 + 1.5*iqr\n",
    "    bike_df1[attribute] = winsorize(bike_df1[attribute], limits=(0.05, 0.05))"
   ]
  },
  {
   "cell_type": "markdown",
   "id": "60a31ce2",
   "metadata": {
    "id": "60a31ce2"
   },
   "source": [
    "This code loops through the list of attributes and for each attribute, it calculates the IQR and the upper and lower bounds for outliers."
   ]
  },
  {
   "cell_type": "markdown",
   "id": "acaabb5e",
   "metadata": {
    "id": "acaabb5e"
   },
   "source": [
    "It then uses the winsorize function from scipy.stats.mstats to winsorize the data for that attribute with a limit of 5% on each side."
   ]
  },
  {
   "cell_type": "markdown",
   "id": "fb0d70b8",
   "metadata": {
    "id": "fb0d70b8"
   },
   "source": [
    "# Feature selection"
   ]
  },
  {
   "cell_type": "markdown",
   "id": "ecf14e9d",
   "metadata": {
    "id": "ecf14e9d"
   },
   "source": [
    "# 1. Feature selection using \"correlation\""
   ]
  },
  {
   "cell_type": "code",
   "execution_count": null,
   "id": "f3c50ffe",
   "metadata": {
    "colab": {
     "base_uri": "https://localhost:8080/",
     "height": 300
    },
    "id": "f3c50ffe",
    "outputId": "72848c2b-0dc3-4227-9bec-39879b3f89f0"
   },
   "outputs": [],
   "source": [
    "bike_df1.corr()"
   ]
  },
  {
   "cell_type": "code",
   "execution_count": null,
   "id": "f6449aac",
   "metadata": {
    "colab": {
     "base_uri": "https://localhost:8080/",
     "height": 836
    },
    "id": "f6449aac",
    "outputId": "f1357148-10ef-43f2-b6f3-02e23859b447",
    "scrolled": true
   },
   "outputs": [],
   "source": [
    "#Using Pearson Correlation\n",
    "plt.figure(figsize=(10,10))\n",
    "cor = bike_df1.corr()\n",
    "sns.heatmap(cor, annot=True, cmap=plt.cm.CMRmap_r)\n",
    "plt.show()"
   ]
  },
  {
   "cell_type": "code",
   "execution_count": null,
   "id": "4cf8c53c",
   "metadata": {
    "id": "4cf8c53c"
   },
   "outputs": [],
   "source": [
    "# with the following function we can select highly correlated features\n",
    "# it will remove the first feature that is correlated with any other feature\n",
    "\n",
    "def correlation(dataset, threshold):\n",
    "    col_corr = set()  # Set of all the names of correlated columns\n",
    "    corr_matrix = dataset.corr()\n",
    "    for i in range(len(corr_matrix.columns)):\n",
    "        for j in range(i):\n",
    "            if abs(corr_matrix.iloc[i, j]) > threshold: # we are interested in absolute coeff value\n",
    "                colname = corr_matrix.columns[i]  # getting the name of column\n",
    "                col_corr.add(colname)\n",
    "    return col_corr"
   ]
  },
  {
   "cell_type": "code",
   "execution_count": null,
   "id": "50ad19e9",
   "metadata": {
    "colab": {
     "base_uri": "https://localhost:8080/"
    },
    "id": "50ad19e9",
    "outputId": "ea732160-1921-482c-e438-f4ef59945128"
   },
   "outputs": [],
   "source": [
    "corr_features = correlation(bike_df1, 0.9)\n",
    "len(set(corr_features))"
   ]
  },
  {
   "cell_type": "code",
   "execution_count": null,
   "id": "e716b13e",
   "metadata": {
    "colab": {
     "base_uri": "https://localhost:8080/"
    },
    "id": "e716b13e",
    "outputId": "2d184b9f-d53f-4895-8eaf-459ecdd2e31f"
   },
   "outputs": [],
   "source": [
    "corr_features"
   ]
  },
  {
   "cell_type": "markdown",
   "id": "e5ccded8",
   "metadata": {
    "id": "e5ccded8"
   },
   "source": [
    "# CORRELATION - There are no columns which are corelated to each other. i,e; All the columns are unique and important."
   ]
  },
  {
   "cell_type": "markdown",
   "id": "b406cead",
   "metadata": {
    "id": "b406cead"
   },
   "source": [
    "### Chi2 test requires all the variables to be numeric and thus, performing one hot encoding"
   ]
  },
  {
   "cell_type": "markdown",
   "id": "0ea81a50",
   "metadata": {
    "id": "0ea81a50"
   },
   "source": [
    "# Encoding the categorical vairables - One hot encoding"
   ]
  },
  {
   "cell_type": "code",
   "execution_count": null,
   "id": "aa333e54",
   "metadata": {
    "colab": {
     "base_uri": "https://localhost:8080/",
     "height": 505
    },
    "id": "aa333e54",
    "outputId": "9617fc0c-09ba-438f-e9dc-adb6ab6425f2"
   },
   "outputs": [],
   "source": [
    "cat_col = ['season', 'holiday', 'workingday', 'weathersit']\n",
    "bike_df2=pd.get_dummies(bike_df1, columns=cat_col)\n",
    "bike_df2"
   ]
  },
  {
   "cell_type": "code",
   "execution_count": null,
   "id": "3b4534b3",
   "metadata": {
    "colab": {
     "base_uri": "https://localhost:8080/"
    },
    "id": "3b4534b3",
    "outputId": "161cdabc-3c9b-451f-87eb-3c9c2107175b"
   },
   "outputs": [],
   "source": [
    "bike_df2.columns"
   ]
  },
  {
   "cell_type": "code",
   "execution_count": null,
   "id": "23ef8da6",
   "metadata": {
    "colab": {
     "base_uri": "https://localhost:8080/",
     "height": 287
    },
    "id": "23ef8da6",
    "outputId": "ffddf866-7bf2-4b6e-85c6-cb94186af1fa"
   },
   "outputs": [],
   "source": [
    "bike_df2.head()"
   ]
  },
  {
   "cell_type": "code",
   "execution_count": null,
   "id": "9af5c641",
   "metadata": {
    "colab": {
     "base_uri": "https://localhost:8080/"
    },
    "id": "9af5c641",
    "outputId": "207d72aa-6ef1-498f-9886-e39e251f902b"
   },
   "outputs": [],
   "source": [
    "bike_df2.shape"
   ]
  },
  {
   "cell_type": "code",
   "execution_count": null,
   "id": "205ae9b0",
   "metadata": {
    "colab": {
     "base_uri": "https://localhost:8080/"
    },
    "id": "205ae9b0",
    "outputId": "8bf163ed-77bc-473b-9c26-fe44f9d41a9c"
   },
   "outputs": [],
   "source": [
    "from sklearn.model_selection import train_test_split\n",
    "x = bike_df2.drop('cnt', axis=1)\n",
    "y = bike_df2['cnt']\n",
    "print(x.shape)\n",
    "print(y.shape)"
   ]
  },
  {
   "cell_type": "code",
   "execution_count": null,
   "id": "0dcc7d00",
   "metadata": {
    "colab": {
     "base_uri": "https://localhost:8080/"
    },
    "id": "0dcc7d00",
    "outputId": "6bbdf769-cd14-4ddf-a415-b172ff85354e"
   },
   "outputs": [],
   "source": [
    "##seperating data into train and test data\n",
    "from sklearn.model_selection import train_test_split\n",
    "X_train, X_test, Y_train, Y_test = train_test_split(x,y, test_size=0.3, random_state=0)\n",
    "X_train.shape, X_test.shape"
   ]
  },
  {
   "cell_type": "markdown",
   "id": "f9bf3785",
   "metadata": {
    "id": "f9bf3785"
   },
   "source": [
    "# 2. Feature selection using \"Chi2\""
   ]
  },
  {
   "cell_type": "code",
   "execution_count": null,
   "id": "85bf155c",
   "metadata": {
    "id": "85bf155c"
   },
   "outputs": [],
   "source": [
    "## Perform chi2 test\n",
    "### chi2 returns 2 values\n",
    "### F-score and the p-value\n",
    "from sklearn.feature_selection import chi2\n",
    "f_p_values=chi2(X_train,Y_train) "
   ]
  },
  {
   "cell_type": "code",
   "execution_count": null,
   "id": "e052c5e3",
   "metadata": {
    "colab": {
     "base_uri": "https://localhost:8080/"
    },
    "id": "e052c5e3",
    "outputId": "cb4e7d5c-660b-4c74-f7a8-7b845a3eb282"
   },
   "outputs": [],
   "source": [
    "f_p_values"
   ]
  },
  {
   "cell_type": "code",
   "execution_count": null,
   "id": "01f50645",
   "metadata": {
    "colab": {
     "base_uri": "https://localhost:8080/"
    },
    "id": "01f50645",
    "outputId": "1fae7a13-fac6-4267-fd47-d412f7df88ee"
   },
   "outputs": [],
   "source": [
    "p_values=pd.Series(f_p_values[1])\n",
    "p_values.index=X_train.columns\n",
    "p_values"
   ]
  },
  {
   "cell_type": "code",
   "execution_count": null,
   "id": "80af8d04",
   "metadata": {
    "colab": {
     "base_uri": "https://localhost:8080/",
     "height": 179
    },
    "id": "80af8d04",
    "outputId": "868af559-7a5e-4aa9-f362-bc0f29eb7e6c"
   },
   "outputs": [],
   "source": [
    "chi_test = pd.DataFrame(p_values).T\n",
    "chi_test.columns = x.columns\n",
    "chi_test"
   ]
  },
  {
   "cell_type": "markdown",
   "id": "d0d1c46f",
   "metadata": {
    "id": "d0d1c46f"
   },
   "source": [
    "# Chi2- The Chi2 test show all features(excludes Hr and casual) which can be used for furthere analysis."
   ]
  },
  {
   "cell_type": "markdown",
   "id": "93afadda",
   "metadata": {
    "id": "93afadda"
   },
   "source": [
    "# 3. Information gain - Mutual information In Regression"
   ]
  },
  {
   "cell_type": "code",
   "execution_count": null,
   "id": "98da3a6d",
   "metadata": {
    "colab": {
     "base_uri": "https://localhost:8080/"
    },
    "id": "98da3a6d",
    "outputId": "984400ea-6ef9-4d71-8db7-ec330aa9c444"
   },
   "outputs": [],
   "source": [
    "from sklearn.feature_selection import mutual_info_regression\n",
    "# determine the mutual information\n",
    "mutual_info = mutual_info_regression(X_train.fillna(0), Y_train)\n",
    "mutual_info"
   ]
  },
  {
   "cell_type": "code",
   "execution_count": null,
   "id": "e44f33cc",
   "metadata": {
    "colab": {
     "base_uri": "https://localhost:8080/"
    },
    "id": "e44f33cc",
    "outputId": "b7de0364-eca3-4461-8ee2-6fcf28ff41ec"
   },
   "outputs": [],
   "source": [
    "mutual_info = pd.Series(mutual_info)\n",
    "mutual_info.index = X_train.columns\n",
    "mutual_info.sort_values(ascending=False)"
   ]
  },
  {
   "cell_type": "code",
   "execution_count": null,
   "id": "c2ce1517",
   "metadata": {
    "colab": {
     "base_uri": "https://localhost:8080/",
     "height": 625
    },
    "id": "c2ce1517",
    "outputId": "e5726524-1f6e-4a93-eefb-29a7276f87cf"
   },
   "outputs": [],
   "source": [
    "mutual_info.sort_values(ascending=False).plot.bar(figsize=(15,5))"
   ]
  },
  {
   "cell_type": "code",
   "execution_count": null,
   "id": "46dccc26",
   "metadata": {
    "colab": {
     "base_uri": "https://localhost:8080/",
     "height": 92
    },
    "id": "46dccc26",
    "outputId": "cc8ea67e-3ea3-496f-fd24-e166cfb9525b"
   },
   "outputs": [],
   "source": [
    "from sklearn.feature_selection import SelectPercentile\n",
    "## Selecting the top 20 percentile\n",
    "selected_top_columns = SelectPercentile(mutual_info_regression, percentile=20)\n",
    "selected_top_columns.fit(X_train.fillna(0), Y_train)"
   ]
  },
  {
   "cell_type": "code",
   "execution_count": null,
   "id": "768192af",
   "metadata": {
    "colab": {
     "base_uri": "https://localhost:8080/"
    },
    "id": "768192af",
    "outputId": "ae185c21-9b47-4752-a5a4-db580137c96c"
   },
   "outputs": [],
   "source": [
    "selected_top_columns.get_support()"
   ]
  },
  {
   "cell_type": "code",
   "execution_count": null,
   "id": "02641a43",
   "metadata": {
    "colab": {
     "base_uri": "https://localhost:8080/"
    },
    "id": "02641a43",
    "outputId": "93567310-d7e9-44b9-f823-fdd5fa7f4053"
   },
   "outputs": [],
   "source": [
    "X_train.columns[selected_top_columns.get_support()]"
   ]
  },
  {
   "cell_type": "markdown",
   "id": "d0135aee",
   "metadata": {
    "id": "d0135aee"
   },
   "source": [
    "# Information gain - Mutual information In Regression - Here only 4 features are selected as shown above"
   ]
  },
  {
   "cell_type": "markdown",
   "id": "cb7a7200",
   "metadata": {
    "id": "cb7a7200"
   },
   "source": [
    "# 4.  Recursive Feature Elimination with Logistic regression "
   ]
  },
  {
   "cell_type": "code",
   "execution_count": null,
   "id": "fd230cdc",
   "metadata": {
    "id": "fd230cdc"
   },
   "outputs": [],
   "source": [
    "from sklearn.linear_model import LogisticRegression"
   ]
  },
  {
   "cell_type": "code",
   "execution_count": null,
   "id": "e5ec87b6",
   "metadata": {
    "id": "e5ec87b6"
   },
   "outputs": [],
   "source": [
    "rfe = RFE(LogisticRegression())"
   ]
  },
  {
   "cell_type": "code",
   "execution_count": null,
   "id": "30be1d48",
   "metadata": {
    "colab": {
     "base_uri": "https://localhost:8080/",
     "height": 186
    },
    "id": "30be1d48",
    "outputId": "012c03f5-7f70-48dc-cc9e-2b77ac1e5217"
   },
   "outputs": [],
   "source": [
    "rfe.fit(X_train,Y_train)"
   ]
  },
  {
   "cell_type": "code",
   "execution_count": null,
   "id": "76b48565",
   "metadata": {
    "colab": {
     "base_uri": "https://localhost:8080/",
     "height": 162
    },
    "id": "76b48565",
    "outputId": "cb36bfb5-1ef0-460a-c4d6-64102efbb234"
   },
   "outputs": [],
   "source": [
    "rfe_df = pd.DataFrame(rfe.ranking_).T\n",
    "rfe_df.columns = x.columns\n",
    "rfe_df"
   ]
  },
  {
   "cell_type": "code",
   "execution_count": null,
   "id": "4e216aba",
   "metadata": {
    "colab": {
     "base_uri": "https://localhost:8080/",
     "height": 645
    },
    "id": "4e216aba",
    "outputId": "1f6cf9d6-2e4a-4095-aee1-b026040f8bb8"
   },
   "outputs": [],
   "source": [
    "rfe_df = pd.DataFrame({\n",
    "    'Ranking' : rfe.ranking_,\n",
    "    'Features' : x.columns\n",
    "})\n",
    "rfe_df"
   ]
  },
  {
   "cell_type": "code",
   "execution_count": null,
   "id": "1d606bee",
   "metadata": {
    "colab": {
     "base_uri": "https://localhost:8080/",
     "height": 331
    },
    "id": "1d606bee",
    "outputId": "7818b561-49f3-445e-e4b1-19ddf919e87e"
   },
   "outputs": [],
   "source": [
    "rfe_df[rfe_df['Ranking']==1]"
   ]
  },
  {
   "cell_type": "markdown",
   "id": "a20c6114",
   "metadata": {
    "id": "a20c6114"
   },
   "source": [
    "# Recursive Feature Elimination with Logistic regression show 9 columns which can be used for further analysis."
   ]
  },
  {
   "cell_type": "markdown",
   "id": "614ba4cd",
   "metadata": {
    "id": "614ba4cd"
   },
   "source": [
    "# 5. Recursive Feature Elimination with Decision Tree"
   ]
  },
  {
   "cell_type": "code",
   "execution_count": null,
   "id": "f9bf0ff5",
   "metadata": {
    "colab": {
     "base_uri": "https://localhost:8080/"
    },
    "id": "f9bf0ff5",
    "outputId": "a16e2721-f8c5-4645-e93e-af16cde3dbfa",
    "scrolled": true
   },
   "outputs": [],
   "source": [
    "!pip install yellowbrick"
   ]
  },
  {
   "cell_type": "code",
   "execution_count": null,
   "id": "e3331a99",
   "metadata": {
    "scrolled": true
   },
   "outputs": [],
   "source": [
    "!pip install yellowbrick\n"
   ]
  },
  {
   "cell_type": "code",
   "execution_count": null,
   "id": "8df31dec",
   "metadata": {
    "id": "8df31dec"
   },
   "outputs": [],
   "source": [
    "from sklearn.tree import DecisionTreeClassifier\n",
    "from yellowbrick.model_selection import rfecv"
   ]
  },
  {
   "cell_type": "code",
   "execution_count": null,
   "id": "fe48981c",
   "metadata": {
    "colab": {
     "base_uri": "https://localhost:8080/",
     "height": 524
    },
    "id": "fe48981c",
    "outputId": "9fc4174f-c7f2-4d06-f136-d33ba2bc0acf"
   },
   "outputs": [],
   "source": [
    "rfe_dt = rfecv(DecisionTreeClassifier(),X_train,Y_train)"
   ]
  },
  {
   "cell_type": "code",
   "execution_count": null,
   "id": "126bad0e",
   "metadata": {
    "colab": {
     "base_uri": "https://localhost:8080/"
    },
    "id": "126bad0e",
    "outputId": "71ae11b2-8f5e-406a-9c84-ce618486b5c3"
   },
   "outputs": [],
   "source": [
    "rfe_dt.ranking_"
   ]
  },
  {
   "cell_type": "code",
   "execution_count": null,
   "id": "4b3a7205",
   "metadata": {
    "colab": {
     "base_uri": "https://localhost:8080/",
     "height": 645
    },
    "id": "4b3a7205",
    "outputId": "da54fe7e-00a9-4011-80bb-a30322e0ba2a"
   },
   "outputs": [],
   "source": [
    "rfe_df = pd.DataFrame({\n",
    "    'Ranking' : rfe_dt.ranking_,\n",
    "    'Features' : x.columns\n",
    "})\n",
    "rfe_df"
   ]
  },
  {
   "cell_type": "code",
   "execution_count": null,
   "id": "42481858",
   "metadata": {
    "colab": {
     "base_uri": "https://localhost:8080/",
     "height": 363
    },
    "id": "42481858",
    "outputId": "c3316f33-8698-48f4-9b6f-7606abd0bccd"
   },
   "outputs": [],
   "source": [
    "rfe_df[rfe_df['Ranking']==1]"
   ]
  },
  {
   "cell_type": "markdown",
   "id": "4aaa6c0e-bdc2-468b-bbf3-bae9b3828b1c",
   "metadata": {},
   "source": [
    "Here's the table summarizing the feature selection techniques and the selected features for each technique:\n",
    "\n",
    "| Technique         | Selected Features                            |\n",
    "|-------------------|----------------------------------------------|\n",
    "| Correlation       | Each and every column (All features are unique) |\n",
    "| Chi2              | All features except 'Hr' and 'Casual'         |\n",
    "| Information Gain  | 'Hr', 'Temp', 'Hum', 'Casual'                 |\n",
    "| RFE (Logistic Reg)| 'Mnth', 'Hr', 'Weekday', 'Hum', 'Casual', 'Season_springer', 'Holiday_No', 'Workingday_No work', 'Workingday_Working Day' |\n",
    "| RFE (Decision Tree)| 'Mnth', 'Hr', 'Weekday', 'Temp', 'Hum', 'Windspeed', 'Casual' |"
   ]
  },
  {
   "cell_type": "markdown",
   "id": "a00aedce",
   "metadata": {
    "id": "a00aedce"
   },
   "source": [
    "Model building to be done..."
   ]
  },
  {
   "cell_type": "code",
   "execution_count": null,
   "id": "GeEw-W985f6V",
   "metadata": {
    "colab": {
     "base_uri": "https://localhost:8080/",
     "height": 444
    },
    "id": "GeEw-W985f6V",
    "outputId": "05a328ae-a8f3-48dc-ee01-689c0596f734"
   },
   "outputs": [],
   "source": [
    "X_train.head(10)"
   ]
  },
  {
   "cell_type": "code",
   "execution_count": null,
   "id": "53dc62d0",
   "metadata": {
    "id": "53dc62d0"
   },
   "outputs": [],
   "source": [
    "from sklearn.preprocessing import StandardScaler, MinMaxScaler"
   ]
  },
  {
   "cell_type": "code",
   "execution_count": null,
   "id": "STEPlJd_4rVP",
   "metadata": {
    "id": "STEPlJd_4rVP"
   },
   "outputs": [],
   "source": [
    "# Create a StandardScaler object\n",
    "scaler = StandardScaler()"
   ]
  },
  {
   "cell_type": "code",
   "execution_count": null,
   "id": "X_u-GDM34rZU",
   "metadata": {
    "id": "X_u-GDM34rZU"
   },
   "outputs": [],
   "source": [
    "# Select the variables to scale and normalize\n",
    "vars_to_scale = [\"temp\", \"hum\", \"windspeed\",\"cnt\",\"casual\"]"
   ]
  },
  {
   "cell_type": "code",
   "execution_count": null,
   "id": "K-CV6ZxM4rdd",
   "metadata": {
    "id": "K-CV6ZxM4rdd"
   },
   "outputs": [],
   "source": [
    "# Scale the variables\n",
    "bike_df2 [vars_to_scale] = scaler.fit_transform(bike_df2[vars_to_scale])\n",
    "\n",
    "# Create a MinMaxScaler object\n",
    "scaler = MinMaxScaler()"
   ]
  },
  {
   "cell_type": "code",
   "execution_count": null,
   "id": "Gran_yoi5AH6",
   "metadata": {
    "colab": {
     "base_uri": "https://localhost:8080/"
    },
    "id": "Gran_yoi5AH6",
    "outputId": "1618d929-d58b-45c2-d9fd-e43d32033332"
   },
   "outputs": [],
   "source": [
    "# Normalize the variables\n",
    "bike_df2[vars_to_scale] = scaler.fit_transform(bike_df2[vars_to_scale])\n",
    "\n",
    "# View the scaled and normalized dataset\n",
    "print(bike_df2.head())"
   ]
  },
  {
   "cell_type": "code",
   "execution_count": null,
   "id": "jxRI5GTm5ALz",
   "metadata": {
    "colab": {
     "base_uri": "https://localhost:8080/",
     "height": 287
    },
    "id": "jxRI5GTm5ALz",
    "outputId": "86d67ae1-804e-48c1-85b9-1dabdb36692c"
   },
   "outputs": [],
   "source": [
    "bike_df2.head()"
   ]
  },
  {
   "cell_type": "code",
   "execution_count": null,
   "id": "3d914b67-dc63-4c2d-8922-570b9678c5e6",
   "metadata": {},
   "outputs": [],
   "source": [
    "bike_df2.columns"
   ]
  },
  {
   "cell_type": "code",
   "execution_count": null,
   "id": "ebcf805c-46d9-4394-9dfc-e2b597ea95fa",
   "metadata": {},
   "outputs": [],
   "source": [
    "bike_df2.columns = bike_df2.columns.str.replace(\" \", \"\")\n",
    "bike_df2.columns"
   ]
  },
  {
   "cell_type": "code",
   "execution_count": null,
   "id": "uPIMx-6M5AP5",
   "metadata": {
    "id": "uPIMx-6M5AP5"
   },
   "outputs": [],
   "source": [
    "from sklearn.linear_model import LinearRegression\n",
    "from sklearn.tree import DecisionTreeRegressor\n",
    "from sklearn.ensemble import RandomForestRegressor,GradientBoostingRegressor\n",
    "from sklearn.svm import SVR\n",
    "from sklearn.neighbors import KNeighborsRegressor\n",
    "from sklearn.metrics import r2_score, mean_squared_error"
   ]
  },
  {
   "cell_type": "code",
   "execution_count": null,
   "id": "_q6BYfL25AT8",
   "metadata": {
    "id": "_q6BYfL25AT8"
   },
   "outputs": [],
   "source": [
    "y_train = Y_train\n",
    "y_test = Y_test"
   ]
  },
  {
   "cell_type": "code",
   "execution_count": null,
   "id": "6d73672d-144c-470f-9938-f4d756b03952",
   "metadata": {},
   "outputs": [],
   "source": [
    "#Create and fit a linear regression model\n",
    "lr_model = LinearRegression()\n",
    "lr_model.fit(X_train, y_train)\n",
    "\n",
    "# Create and fit a decision tree regression model\n",
    "dt_model = DecisionTreeRegressor(random_state=69)\n",
    "dt_model.fit(X_train, y_train)\n",
    "\n",
    "# Create and fit a random forest regression model\n",
    "rf_model = RandomForestRegressor(n_estimators=100, random_state=96)\n",
    "rf_model.fit(X_train, y_train)\n",
    "\n",
    "# Create and fit a gradient boosting regression model\n",
    "gb_model = GradientBoostingRegressor(n_estimators=100, learning_rate=0.1, max_depth=1, random_state=42)\n",
    "gb_model.fit(X_train, y_train)\n",
    "\n",
    "# Create and fit a K-Nearest Neighbors regression model\n",
    "knn_model = KNeighborsRegressor(n_neighbors=5)\n",
    "knn_model.fit(X_train, y_train)\n",
    "\n",
    "# Create and fit a Support Vector regression model\n",
    "svr_model = SVR(kernel='linear')\n",
    "svr_model.fit(X_train, y_train)\n",
    "\n",
    "models = [lr_model, dt_model, rf_model, gb_model, knn_model, svr_model]\n",
    "model_names = ['Linear Regression', 'Decision Tree', 'Random Forest', 'Gradient Boosting', 'K-Nearest Neighbors', 'Support Vector']\n",
    "\n",
    "# Initialize lists to store the results\n",
    "train_r2_scores = []\n",
    "test_r2_scores = []\n",
    "mse_scores = []\n",
    "\n",
    "for model in models:\n",
    "    # Calculate R-squared scores\n",
    "    train_r2 = r2_score(y_train, model.predict(X_train))\n",
    "    test_r2 = r2_score(y_test, model.predict(X_test))\n",
    "    train_r2_scores.append(train_r2)\n",
    "    test_r2_scores.append(test_r2)\n",
    "\n",
    "    # Calculate MSE scores\n",
    "    mse = mean_squared_error(y_test, model.predict(X_test))\n",
    "    mse_scores.append(mse)\n",
    "\n",
    "# Create a DataFrame to display the results\n",
    "results_df = pd.DataFrame({\n",
    "    'Model': model_names,\n",
    "    'Train R-squared': train_r2_scores,\n",
    "    'Test R-squared': test_r2_scores,\n",
    "    'MSE': mse_scores\n",
    "})\n",
    "\n",
    "# Display the results\n",
    "print(results_df)\n",
    "\n",
    "# Find the index of the model with the highest test R-squared score\n",
    "best_model_index = results_df['Test R-squared'].idxmax()\n",
    "\n",
    "# Get the details of the best model\n",
    "best_model = results_df.loc[best_model_index]\n",
    "\n",
    "# Display the best model\n",
    "print(\"\\n\\nBest Model:\")\n",
    "print(best_model)"
   ]
  },
  {
   "cell_type": "code",
   "execution_count": null,
   "id": "6308c644-1b70-476c-9445-189d9352c693",
   "metadata": {},
   "outputs": [],
   "source": [
    "from sklearn.model_selection import RandomizedSearchCV\n",
    "from scipy.stats import randint as sp_randint\n",
    "\n",
    "# Define the parameter distribution for hyperparameter tuning\n",
    "param_dist = {\n",
    "    'n_estimators': sp_randint(100, 1000),\n",
    "    'max_depth': sp_randint(5, 20),\n",
    "    'min_samples_split': sp_randint(2, 20),\n",
    "    'min_samples_leaf': sp_randint(1, 10),\n",
    "}\n",
    "\n",
    "# Create a Random Forest Regression model\n",
    "rf = RandomForestRegressor()\n",
    "\n",
    "# Perform randomized search to find the best hyperparameters\n",
    "random_search = RandomizedSearchCV(estimator=rf, param_distributions=param_dist, cv=10, n_iter=10, scoring='r2')\n",
    "random_search.fit(X_train, y_train)\n",
    "\n",
    "# Print the best hyperparameters and the corresponding R-squared score\n",
    "print(\"Best Hyperparameters: \", random_search.best_params_)\n",
    "print(\"Best R-squared Score: \", random_search.best_score_)"
   ]
  },
  {
   "cell_type": "code",
   "execution_count": null,
   "id": "4d9c3ffc-319c-460c-8061-64cdf446f420",
   "metadata": {},
   "outputs": [],
   "source": [
    "# Create a Random Forest Regression model with the best hyperparameters\n",
    "rf = RandomForestRegressor(n_estimators=random_search.best_params_['n_estimators'],\n",
    "                            max_depth=random_search.best_params_['max_depth'],\n",
    "                            min_samples_split=random_search.best_params_['min_samples_split'],\n",
    "                            min_samples_leaf=random_search.best_params_['min_samples_leaf'])\n",
    "\n",
    "# Fit the model on the training data\n",
    "rf.fit(X_train, y_train)\n",
    "\n",
    "# Make predictions on the test data\n",
    "y_pred = rf.predict(X_test)\n",
    "\n",
    "# Calculate R-squared scores\n",
    "train_r2 = r2_score(y_train, rf.predict(X_train))\n",
    "test_r2 = r2_score(y_test, y_pred)\n",
    "\n",
    "# Calculate MSE scores\n",
    "mse = mean_squared_error(y_test, y_pred)\n",
    "\n",
    "# Create a DataFrame to display the results\n",
    "results_df = pd.DataFrame({\n",
    "    'Data': ['Train', 'Test'],\n",
    "    'R-squared': [train_r2, test_r2],\n",
    "    'MSE': [mse, mse]\n",
    "})\n",
    "\n",
    "# Display the results\n",
    "print(results_df)"
   ]
  },
  {
   "cell_type": "code",
   "execution_count": null,
   "id": "XZUUz1tYl05U",
   "metadata": {
    "id": "XZUUz1tYl05U"
   },
   "outputs": [],
   "source": [
    "import pickle\n",
    "\n",
    "# Open a file,\n",
    "\n",
    "file = open('rf.pkl', 'wb')\n",
    "pickle.dump(rf, file)"
   ]
  }
 ],
 "metadata": {
  "colab": {
   "provenance": []
  },
  "kernelspec": {
   "display_name": "Python 3 (ipykernel)",
   "language": "python",
   "name": "python3"
  },
  "language_info": {
   "codemirror_mode": {
    "name": "ipython",
    "version": 3
   },
   "file_extension": ".py",
   "mimetype": "text/x-python",
   "name": "python",
   "nbconvert_exporter": "python",
   "pygments_lexer": "ipython3",
   "version": "3.12.0"
  }
 },
 "nbformat": 4,
 "nbformat_minor": 5
}
